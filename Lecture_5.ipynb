{
 "cells": [
  {
   "cell_type": "markdown",
   "metadata": {},
   "source": [
    "## Lecture 5"
   ]
  },
  {
   "cell_type": "code",
   "execution_count": 1,
   "metadata": {},
   "outputs": [
    {
     "name": "stdout",
     "output_type": "stream",
     "text": [
      "Before: [1, 2, 1, 1, 2, 1, 1, 2, 1]\n",
      "After: [2, 2, 2]\n"
     ]
    }
   ],
   "source": [
    "alist = [1,2,1,1,2,1,1,2,1]\n",
    "print('Before:', alist)\n",
    "\n",
    "while 1 in alist:\n",
    "    alist.remove(1)\n",
    "\n",
    "print('After:', alist)\n"
   ]
  },
  {
   "cell_type": "markdown",
   "metadata": {},
   "source": [
    "### Functions"
   ]
  },
  {
   "cell_type": "code",
   "execution_count": 2,
   "metadata": {},
   "outputs": [],
   "source": [
    "def afunct():\n",
    "    \"\"\"Docstring\"\"\"\n",
    "    print('an example about functions')"
   ]
  },
  {
   "cell_type": "code",
   "execution_count": 3,
   "metadata": {},
   "outputs": [
    {
     "name": "stdout",
     "output_type": "stream",
     "text": [
      "an example about functions\n"
     ]
    }
   ],
   "source": [
    "afunct()"
   ]
  },
  {
   "cell_type": "code",
   "execution_count": 4,
   "metadata": {},
   "outputs": [],
   "source": [
    "def greet_user(name:str)->None:\n",
    "    \"give a docstring\"\n",
    "    print(f\"{name.title()}, Wellcome back! \")"
   ]
  },
  {
   "cell_type": "code",
   "execution_count": 5,
   "metadata": {},
   "outputs": [
    {
     "name": "stdout",
     "output_type": "stream",
     "text": [
      "Long, Wellcome back! \n"
     ]
    }
   ],
   "source": [
    "greet_user('long')"
   ]
  },
  {
   "cell_type": "code",
   "execution_count": 6,
   "metadata": {},
   "outputs": [],
   "source": [
    "import numpy as np \n",
    "import pandas as pd\n",
    "import seaborn as sns"
   ]
  },
  {
   "cell_type": "code",
   "execution_count": 7,
   "metadata": {},
   "outputs": [],
   "source": [
    "def afunc1(number1, number2 = 20):\n",
    "    print('mean:', (number1+number2)/2)"
   ]
  },
  {
   "cell_type": "code",
   "execution_count": 8,
   "metadata": {},
   "outputs": [
    {
     "name": "stdout",
     "output_type": "stream",
     "text": [
      "mean: 10.5\n"
     ]
    }
   ],
   "source": [
    "afunc1(1)"
   ]
  },
  {
   "cell_type": "code",
   "execution_count": 9,
   "metadata": {},
   "outputs": [
    {
     "name": "stdout",
     "output_type": "stream",
     "text": [
      "mean: 11.0\n"
     ]
    }
   ],
   "source": [
    "afunc1(number1=2)"
   ]
  },
  {
   "cell_type": "code",
   "execution_count": 10,
   "metadata": {},
   "outputs": [
    {
     "name": "stdout",
     "output_type": "stream",
     "text": [
      "mean: 12.0\n"
     ]
    }
   ],
   "source": [
    "afunc1(23,1)"
   ]
  },
  {
   "cell_type": "code",
   "execution_count": 11,
   "metadata": {},
   "outputs": [
    {
     "name": "stdout",
     "output_type": "stream",
     "text": [
      "mean: 2.0\n",
      "None\n"
     ]
    }
   ],
   "source": [
    "print(afunc1(2,2))"
   ]
  },
  {
   "cell_type": "code",
   "execution_count": 12,
   "metadata": {},
   "outputs": [],
   "source": [
    "def afunc2(number1, number2 = 20):\n",
    "    return (number1+number2)/2"
   ]
  },
  {
   "cell_type": "code",
   "execution_count": 13,
   "metadata": {},
   "outputs": [
    {
     "name": "stdout",
     "output_type": "stream",
     "text": [
      "2.0\n"
     ]
    }
   ],
   "source": [
    "print(afunc2(2,2))"
   ]
  },
  {
   "cell_type": "code",
   "execution_count": 14,
   "metadata": {},
   "outputs": [
    {
     "name": "stdout",
     "output_type": "stream",
     "text": [
      "The Zen of Python, by Tim Peters\n",
      "\n",
      "Beautiful is better than ugly.\n",
      "Explicit is better than implicit.\n",
      "Simple is better than complex.\n",
      "Complex is better than complicated.\n",
      "Flat is better than nested.\n",
      "Sparse is better than dense.\n",
      "Readability counts.\n",
      "Special cases aren't special enough to break the rules.\n",
      "Although practicality beats purity.\n",
      "Errors should never pass silently.\n",
      "Unless explicitly silenced.\n",
      "In the face of ambiguity, refuse the temptation to guess.\n",
      "There should be one-- and preferably only one --obvious way to do it.\n",
      "Although that way may not be obvious at first unless you're Dutch.\n",
      "Now is better than never.\n",
      "Although never is often better than *right* now.\n",
      "If the implementation is hard to explain, it's a bad idea.\n",
      "If the implementation is easy to explain, it may be a good idea.\n",
      "Namespaces are one honking great idea -- let's do more of those!\n"
     ]
    }
   ],
   "source": [
    "import this "
   ]
  },
  {
   "cell_type": "code",
   "execution_count": 15,
   "metadata": {},
   "outputs": [],
   "source": [
    "text = \"\"\" \n",
    "The Zen of Python, by Tim Peters\n",
    "\n",
    "Beautiful is better than ugly.\n",
    "Explicit is better than implicit.\n",
    "Simple is better than complex.\n",
    "Complex is better than complicated.\n",
    "Flat is better than nested.\n",
    "Sparse is better than dense.\n",
    "Readability counts.\n",
    "Special cases aren't special enough to break the rules.\n",
    "Although practicality beats purity.\n",
    "Errors should never pass silently.\n",
    "Unless explicitly silenced.\n",
    "In the face of ambiguity, refuse the temptation to guess.\n",
    "There should be one-- and preferably only one --obvious way to do it.\n",
    "Although that way may not be obvious at first unless you're Dutch.\n",
    "Now is better than never.\n",
    "Although never is often better than *right* now.\n",
    "If the implementation is hard to explain, it's a bad idea.\n",
    "If the implementation is easy to explain, it may be a good idea.\n",
    "Namespaces are one honking great idea -- let's do more of those!\n",
    "\"\"\""
   ]
  },
  {
   "cell_type": "code",
   "execution_count": 16,
   "metadata": {},
   "outputs": [],
   "source": [
    "def normalize(text:str)->str:\n",
    "    \"normalize a text\"\n",
    "    special_letters = {',','.',':',\"-\",'*',\"!\"}\n",
    "    text_norm = text.lower()\n",
    "    for letter in special_letters:\n",
    "        text_norm = text_norm.replace(letter,' ')\n",
    "    while '  ' in text_norm:\n",
    "        text_norm = text_norm.replace('  ',' ')\n",
    "    return text_norm"
   ]
  },
  {
   "cell_type": "code",
   "execution_count": 17,
   "metadata": {},
   "outputs": [
    {
     "name": "stdout",
     "output_type": "stream",
     "text": [
      " \n",
      "the zen of python by tim peters\n",
      "\n",
      "beautiful is better than ugly \n",
      "explicit is better than implicit \n",
      "simple is better than complex \n",
      "complex is better than complicated \n",
      "flat is better than nested \n",
      "sparse is better than dense \n",
      "readability counts \n",
      "special cases aren't special enough to break the rules \n",
      "although practicality beats purity \n",
      "errors should never pass silently \n",
      "unless explicitly silenced \n",
      "in the face of ambiguity refuse the temptation to guess \n",
      "there should be one and preferably only one obvious way to do it \n",
      "although that way may not be obvious at first unless you're dutch \n",
      "now is better than never \n",
      "although never is often better than right now \n",
      "if the implementation is hard to explain it's a bad idea \n",
      "if the implementation is easy to explain it may be a good idea \n",
      "namespaces are one honking great idea let's do more of those \n",
      "\n"
     ]
    }
   ],
   "source": [
    "print(normalize(text))"
   ]
  },
  {
   "cell_type": "code",
   "execution_count": 18,
   "metadata": {},
   "outputs": [],
   "source": [
    "def is_symetric(astring:str)->bool:\n",
    "    return astring == astring[::-1]\n"
   ]
  },
  {
   "cell_type": "code",
   "execution_count": 19,
   "metadata": {},
   "outputs": [
    {
     "data": {
      "text/plain": [
       "False"
      ]
     },
     "execution_count": 19,
     "metadata": {},
     "output_type": "execute_result"
    }
   ],
   "source": [
    "is_symetric(\"sfsfsdfdsf\")"
   ]
  },
  {
   "cell_type": "code",
   "execution_count": 20,
   "metadata": {},
   "outputs": [],
   "source": [
    "def display_alist(alist:list)->None:\n",
    "    for item in alist:\n",
    "        if item>5:\n",
    "            return\n",
    "        else: \n",
    "            print(item)"
   ]
  },
  {
   "cell_type": "code",
   "execution_count": 21,
   "metadata": {},
   "outputs": [
    {
     "name": "stdout",
     "output_type": "stream",
     "text": [
      "1\n",
      "2\n",
      "3\n"
     ]
    }
   ],
   "source": [
    "display_alist([1,2,3,14,2,1,2,3])"
   ]
  },
  {
   "cell_type": "code",
   "execution_count": 24,
   "metadata": {},
   "outputs": [],
   "source": [
    "import mylib"
   ]
  },
  {
   "cell_type": "code",
   "execution_count": 25,
   "metadata": {},
   "outputs": [
    {
     "data": {
      "text/plain": [
       "518308862288372742720302584531"
      ]
     },
     "execution_count": 25,
     "metadata": {},
     "output_type": "execute_result"
    }
   ],
   "source": [
    "mylib.abig_prime1"
   ]
  },
  {
   "cell_type": "code",
   "execution_count": 26,
   "metadata": {},
   "outputs": [
    {
     "data": {
      "text/plain": [
       "{'the': 6,\n",
       " 'zen': 1,\n",
       " 'of': 3,\n",
       " 'python': 1,\n",
       " 'by': 1,\n",
       " 'tim': 1,\n",
       " 'peters': 1,\n",
       " 'beautiful': 1,\n",
       " 'is': 10,\n",
       " 'better': 8,\n",
       " 'than': 8,\n",
       " 'ugly': 1,\n",
       " 'explicit': 1,\n",
       " 'implicit': 1,\n",
       " 'simple': 1,\n",
       " 'complex': 2,\n",
       " 'complicated': 1,\n",
       " 'flat': 1,\n",
       " 'nested': 1,\n",
       " 'sparse': 1,\n",
       " 'dense': 1,\n",
       " 'readability': 1,\n",
       " 'counts': 1,\n",
       " 'special': 2,\n",
       " 'cases': 1,\n",
       " \"aren't\": 1,\n",
       " 'enough': 1,\n",
       " 'to': 5,\n",
       " 'break': 1,\n",
       " 'rules': 1,\n",
       " 'although': 3,\n",
       " 'practicality': 1,\n",
       " 'beats': 1,\n",
       " 'purity': 1,\n",
       " 'errors': 1,\n",
       " 'should': 2,\n",
       " 'never': 3,\n",
       " 'pass': 1,\n",
       " 'silently': 1,\n",
       " 'unless': 2,\n",
       " 'explicitly': 1,\n",
       " 'silenced': 1,\n",
       " 'in': 1,\n",
       " 'face': 1,\n",
       " 'ambiguity': 1,\n",
       " 'refuse': 1,\n",
       " 'temptation': 1,\n",
       " 'guess': 1,\n",
       " 'there': 1,\n",
       " 'be': 3,\n",
       " 'one': 3,\n",
       " 'and': 1,\n",
       " 'preferably': 1,\n",
       " 'only': 1,\n",
       " 'obvious': 2,\n",
       " 'way': 2,\n",
       " 'do': 2,\n",
       " 'it': 2,\n",
       " 'that': 1,\n",
       " 'may': 2,\n",
       " 'not': 1,\n",
       " 'at': 1,\n",
       " 'first': 1,\n",
       " \"you're\": 1,\n",
       " 'dutch': 1,\n",
       " 'now': 2,\n",
       " 'often': 1,\n",
       " 'right': 1,\n",
       " 'if': 2,\n",
       " 'implementation': 2,\n",
       " 'hard': 1,\n",
       " 'explain': 2,\n",
       " \"it's\": 1,\n",
       " 'a': 2,\n",
       " 'bad': 1,\n",
       " 'idea': 3,\n",
       " 'easy': 1,\n",
       " 'good': 1,\n",
       " 'namespaces': 1,\n",
       " 'are': 1,\n",
       " 'honking': 1,\n",
       " 'great': 1,\n",
       " \"let's\": 1,\n",
       " 'more': 1,\n",
       " 'those': 1}"
      ]
     },
     "execution_count": 26,
     "metadata": {},
     "output_type": "execute_result"
    }
   ],
   "source": [
    "mylib.get_fre_words(normalize(text))"
   ]
  },
  {
   "cell_type": "code",
   "execution_count": 27,
   "metadata": {},
   "outputs": [
    {
     "data": {
      "text/plain": [
       "518308862288372742720302584531"
      ]
     },
     "execution_count": 27,
     "metadata": {},
     "output_type": "execute_result"
    }
   ],
   "source": [
    "import mylib as mb \n",
    "mb.abig_prime1"
   ]
  },
  {
   "cell_type": "code",
   "execution_count": 28,
   "metadata": {},
   "outputs": [
    {
     "data": {
      "text/plain": [
       "False"
      ]
     },
     "execution_count": 28,
     "metadata": {},
     "output_type": "execute_result"
    }
   ],
   "source": [
    "mb.is_prime(423)"
   ]
  },
  {
   "cell_type": "code",
   "execution_count": 29,
   "metadata": {},
   "outputs": [],
   "source": [
    "from mylib import is_prime"
   ]
  },
  {
   "cell_type": "code",
   "execution_count": 30,
   "metadata": {},
   "outputs": [
    {
     "data": {
      "text/plain": [
       "False"
      ]
     },
     "execution_count": 30,
     "metadata": {},
     "output_type": "execute_result"
    }
   ],
   "source": [
    "is_prime(3247)"
   ]
  },
  {
   "cell_type": "code",
   "execution_count": 31,
   "metadata": {},
   "outputs": [],
   "source": [
    "from mylib import* # chi dung khi biet ro"
   ]
  },
  {
   "cell_type": "code",
   "execution_count": 32,
   "metadata": {},
   "outputs": [],
   "source": [
    "import sys"
   ]
  },
  {
   "cell_type": "code",
   "execution_count": 33,
   "metadata": {},
   "outputs": [
    {
     "data": {
      "text/plain": [
       "['C:\\\\Users\\\\Admin\\\\anaconda3\\\\python311.zip',\n",
       " 'C:\\\\Users\\\\Admin\\\\anaconda3\\\\DLLs',\n",
       " 'C:\\\\Users\\\\Admin\\\\anaconda3\\\\Lib',\n",
       " 'C:\\\\Users\\\\Admin\\\\anaconda3',\n",
       " 'd:\\\\CODE\\\\env-teaching',\n",
       " '',\n",
       " 'd:\\\\CODE\\\\env-teaching\\\\Lib\\\\site-packages',\n",
       " 'd:\\\\CODE\\\\env-teaching\\\\Lib\\\\site-packages\\\\win32',\n",
       " 'd:\\\\CODE\\\\env-teaching\\\\Lib\\\\site-packages\\\\win32\\\\lib',\n",
       " 'd:\\\\CODE\\\\env-teaching\\\\Lib\\\\site-packages\\\\Pythonwin']"
      ]
     },
     "execution_count": 33,
     "metadata": {},
     "output_type": "execute_result"
    }
   ],
   "source": [
    "sys.path"
   ]
  },
  {
   "cell_type": "code",
   "execution_count": null,
   "metadata": {},
   "outputs": [],
   "source": [
    "path='D:\\CODE\\Python_TKT64\\modules\\mylib2.py'\n",
    "paht_re = 'modules/'"
   ]
  },
  {
   "cell_type": "code",
   "execution_count": 38,
   "metadata": {},
   "outputs": [
    {
     "data": {
      "text/plain": [
       "['modules/',\n",
       " 'Python_TKT64\\\\modules',\n",
       " 'C:\\\\Users\\\\Admin\\\\anaconda3\\\\python311.zip',\n",
       " 'C:\\\\Users\\\\Admin\\\\anaconda3\\\\DLLs',\n",
       " 'C:\\\\Users\\\\Admin\\\\anaconda3\\\\Lib',\n",
       " 'C:\\\\Users\\\\Admin\\\\anaconda3',\n",
       " 'd:\\\\CODE\\\\env-teaching',\n",
       " '',\n",
       " 'd:\\\\CODE\\\\env-teaching\\\\Lib\\\\site-packages',\n",
       " 'd:\\\\CODE\\\\env-teaching\\\\Lib\\\\site-packages\\\\win32',\n",
       " 'd:\\\\CODE\\\\env-teaching\\\\Lib\\\\site-packages\\\\win32\\\\lib',\n",
       " 'd:\\\\CODE\\\\env-teaching\\\\Lib\\\\site-packages\\\\Pythonwin']"
      ]
     },
     "execution_count": 38,
     "metadata": {},
     "output_type": "execute_result"
    }
   ],
   "source": [
    "sys.path.insert(0,paht_re)\n",
    "sys.path"
   ]
  },
  {
   "cell_type": "code",
   "execution_count": 39,
   "metadata": {},
   "outputs": [
    {
     "name": "stdout",
     "output_type": "stream",
     "text": [
      "The lib2 is imported\n"
     ]
    }
   ],
   "source": [
    "import mylib2"
   ]
  },
  {
   "cell_type": "code",
   "execution_count": 42,
   "metadata": {},
   "outputs": [
    {
     "name": "stdout",
     "output_type": "stream",
     "text": [
      "Collecting yfinance\n",
      "  Using cached yfinance-0.2.54-py2.py3-none-any.whl.metadata (5.8 kB)\n",
      "Requirement already satisfied: pandas>=1.3.0 in d:\\code\\env-teaching\\lib\\site-packages (from yfinance) (2.2.2)\n",
      "Requirement already satisfied: numpy>=1.16.5 in d:\\code\\env-teaching\\lib\\site-packages (from yfinance) (2.0.0)\n",
      "Requirement already satisfied: requests>=2.31 in d:\\code\\env-teaching\\lib\\site-packages (from yfinance) (2.32.3)\n",
      "Collecting multitasking>=0.0.7 (from yfinance)\n",
      "  Using cached multitasking-0.0.11-py3-none-any.whl.metadata (5.5 kB)\n",
      "Requirement already satisfied: platformdirs>=2.0.0 in d:\\code\\env-teaching\\lib\\site-packages (from yfinance) (4.2.2)\n",
      "Requirement already satisfied: pytz>=2022.5 in d:\\code\\env-teaching\\lib\\site-packages (from yfinance) (2024.1)\n",
      "Collecting frozendict>=2.3.4 (from yfinance)\n",
      "  Using cached frozendict-2.4.6-py311-none-any.whl.metadata (23 kB)\n",
      "Collecting peewee>=3.16.2 (from yfinance)\n",
      "  Using cached peewee-3.17.9-py3-none-any.whl\n",
      "Collecting beautifulsoup4>=4.11.1 (from yfinance)\n",
      "  Downloading beautifulsoup4-4.13.3-py3-none-any.whl.metadata (3.8 kB)\n",
      "Collecting soupsieve>1.2 (from beautifulsoup4>=4.11.1->yfinance)\n",
      "  Downloading soupsieve-2.6-py3-none-any.whl.metadata (4.6 kB)\n",
      "Requirement already satisfied: typing-extensions>=4.0.0 in d:\\code\\env-teaching\\lib\\site-packages (from beautifulsoup4>=4.11.1->yfinance) (4.12.2)\n",
      "Requirement already satisfied: python-dateutil>=2.8.2 in d:\\code\\env-teaching\\lib\\site-packages (from pandas>=1.3.0->yfinance) (2.9.0.post0)\n",
      "Requirement already satisfied: tzdata>=2022.7 in d:\\code\\env-teaching\\lib\\site-packages (from pandas>=1.3.0->yfinance) (2024.1)\n",
      "Requirement already satisfied: charset-normalizer<4,>=2 in d:\\code\\env-teaching\\lib\\site-packages (from requests>=2.31->yfinance) (3.3.2)\n",
      "Requirement already satisfied: idna<4,>=2.5 in d:\\code\\env-teaching\\lib\\site-packages (from requests>=2.31->yfinance) (3.8)\n",
      "Requirement already satisfied: urllib3<3,>=1.21.1 in d:\\code\\env-teaching\\lib\\site-packages (from requests>=2.31->yfinance) (2.2.2)\n",
      "Requirement already satisfied: certifi>=2017.4.17 in d:\\code\\env-teaching\\lib\\site-packages (from requests>=2.31->yfinance) (2024.8.30)\n",
      "Requirement already satisfied: six>=1.5 in d:\\code\\env-teaching\\lib\\site-packages (from python-dateutil>=2.8.2->pandas>=1.3.0->yfinance) (1.16.0)\n",
      "Using cached yfinance-0.2.54-py2.py3-none-any.whl (108 kB)\n",
      "Downloading beautifulsoup4-4.13.3-py3-none-any.whl (186 kB)\n",
      "   ---------------------------------------- 0.0/186.0 kB ? eta -:--:--\n",
      "   ------ --------------------------------- 30.7/186.0 kB 1.4 MB/s eta 0:00:01\n",
      "   ------------------- -------------------- 92.2/186.0 kB 1.3 MB/s eta 0:00:01\n",
      "   ---------------------------------------  184.3/186.0 kB 1.6 MB/s eta 0:00:01\n",
      "   ---------------------------------------- 186.0/186.0 kB 1.4 MB/s eta 0:00:00\n",
      "Using cached frozendict-2.4.6-py311-none-any.whl (16 kB)\n",
      "Using cached multitasking-0.0.11-py3-none-any.whl (8.5 kB)\n",
      "Downloading soupsieve-2.6-py3-none-any.whl (36 kB)\n",
      "Installing collected packages: peewee, multitasking, soupsieve, frozendict, beautifulsoup4, yfinance\n",
      "Successfully installed beautifulsoup4-4.13.3 frozendict-2.4.6 multitasking-0.0.11 peewee-3.17.9 soupsieve-2.6 yfinance-0.2.54\n"
     ]
    },
    {
     "name": "stderr",
     "output_type": "stream",
     "text": [
      "\n",
      "[notice] A new release of pip is available: 24.1.2 -> 25.0.1\n",
      "[notice] To update, run: python.exe -m pip install --upgrade pip\n"
     ]
    }
   ],
   "source": [
    "!pip install yfinance"
   ]
  },
  {
   "cell_type": "code",
   "execution_count": null,
   "metadata": {},
   "outputs": [],
   "source": []
  }
 ],
 "metadata": {
  "kernelspec": {
   "display_name": "env-teaching",
   "language": "python",
   "name": "python3"
  },
  "language_info": {
   "codemirror_mode": {
    "name": "ipython",
    "version": 3
   },
   "file_extension": ".py",
   "mimetype": "text/x-python",
   "name": "python",
   "nbconvert_exporter": "python",
   "pygments_lexer": "ipython3",
   "version": "3.11.7"
  }
 },
 "nbformat": 4,
 "nbformat_minor": 2
}
