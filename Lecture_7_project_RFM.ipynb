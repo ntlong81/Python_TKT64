{
 "cells": [
  {
   "cell_type": "markdown",
   "metadata": {},
   "source": [
    "## K-means to segment customer based on RFM"
   ]
  },
  {
   "cell_type": "code",
   "execution_count": 22,
   "metadata": {},
   "outputs": [],
   "source": [
    "import numpy as np\n",
    "import pandas as pd\n",
    "import matplotlib.pyplot as plt\n",
    "import seaborn as sns"
   ]
  },
  {
   "cell_type": "code",
   "execution_count": 2,
   "metadata": {},
   "outputs": [
    {
     "data": {
      "application/vnd.microsoft.datawrangler.viewer.v0+json": {
       "columns": [
        {
         "name": "index",
         "rawType": "int64",
         "type": "integer"
        },
        {
         "name": "InvoiceNo",
         "rawType": "object",
         "type": "string"
        },
        {
         "name": "StockCode",
         "rawType": "object",
         "type": "string"
        },
        {
         "name": "Description",
         "rawType": "object",
         "type": "string"
        },
        {
         "name": "Quantity",
         "rawType": "int64",
         "type": "integer"
        },
        {
         "name": "InvoiceDate",
         "rawType": "object",
         "type": "string"
        },
        {
         "name": "UnitPrice",
         "rawType": "float64",
         "type": "float"
        },
        {
         "name": "CustomerID",
         "rawType": "float64",
         "type": "float"
        },
        {
         "name": "Country",
         "rawType": "object",
         "type": "string"
        }
       ],
       "conversionMethod": "pd.DataFrame",
       "ref": "e02a4608-5b18-49ca-aaeb-337194b2e266",
       "rows": [
        [
         "0",
         "539993",
         "22386",
         "JUMBO BAG PINK POLKADOT",
         "10",
         "2011-01-04 10:00:00",
         "1.95",
         "13313.0",
         "United Kingdom"
        ],
        [
         "1",
         "539993",
         "21499",
         "BLUE POLKADOT WRAP",
         "25",
         "2011-01-04 10:00:00",
         "0.42",
         "13313.0",
         "United Kingdom"
        ],
        [
         "2",
         "539993",
         "21498",
         "RED RETROSPOT WRAP ",
         "25",
         "2011-01-04 10:00:00",
         "0.42",
         "13313.0",
         "United Kingdom"
        ],
        [
         "3",
         "539993",
         "22379",
         "RECYCLING BAG RETROSPOT ",
         "5",
         "2011-01-04 10:00:00",
         "2.1",
         "13313.0",
         "United Kingdom"
        ],
        [
         "4",
         "539993",
         "20718",
         "RED RETROSPOT SHOPPER BAG",
         "10",
         "2011-01-04 10:00:00",
         "1.25",
         "13313.0",
         "United Kingdom"
        ]
       ],
       "shape": {
        "columns": 8,
        "rows": 5
       }
      },
      "text/html": [
       "<div>\n",
       "<style scoped>\n",
       "    .dataframe tbody tr th:only-of-type {\n",
       "        vertical-align: middle;\n",
       "    }\n",
       "\n",
       "    .dataframe tbody tr th {\n",
       "        vertical-align: top;\n",
       "    }\n",
       "\n",
       "    .dataframe thead th {\n",
       "        text-align: right;\n",
       "    }\n",
       "</style>\n",
       "<table border=\"1\" class=\"dataframe\">\n",
       "  <thead>\n",
       "    <tr style=\"text-align: right;\">\n",
       "      <th></th>\n",
       "      <th>InvoiceNo</th>\n",
       "      <th>StockCode</th>\n",
       "      <th>Description</th>\n",
       "      <th>Quantity</th>\n",
       "      <th>InvoiceDate</th>\n",
       "      <th>UnitPrice</th>\n",
       "      <th>CustomerID</th>\n",
       "      <th>Country</th>\n",
       "    </tr>\n",
       "  </thead>\n",
       "  <tbody>\n",
       "    <tr>\n",
       "      <th>0</th>\n",
       "      <td>539993</td>\n",
       "      <td>22386</td>\n",
       "      <td>JUMBO BAG PINK POLKADOT</td>\n",
       "      <td>10</td>\n",
       "      <td>2011-01-04 10:00:00</td>\n",
       "      <td>1.95</td>\n",
       "      <td>13313.0</td>\n",
       "      <td>United Kingdom</td>\n",
       "    </tr>\n",
       "    <tr>\n",
       "      <th>1</th>\n",
       "      <td>539993</td>\n",
       "      <td>21499</td>\n",
       "      <td>BLUE POLKADOT WRAP</td>\n",
       "      <td>25</td>\n",
       "      <td>2011-01-04 10:00:00</td>\n",
       "      <td>0.42</td>\n",
       "      <td>13313.0</td>\n",
       "      <td>United Kingdom</td>\n",
       "    </tr>\n",
       "    <tr>\n",
       "      <th>2</th>\n",
       "      <td>539993</td>\n",
       "      <td>21498</td>\n",
       "      <td>RED RETROSPOT WRAP</td>\n",
       "      <td>25</td>\n",
       "      <td>2011-01-04 10:00:00</td>\n",
       "      <td>0.42</td>\n",
       "      <td>13313.0</td>\n",
       "      <td>United Kingdom</td>\n",
       "    </tr>\n",
       "    <tr>\n",
       "      <th>3</th>\n",
       "      <td>539993</td>\n",
       "      <td>22379</td>\n",
       "      <td>RECYCLING BAG RETROSPOT</td>\n",
       "      <td>5</td>\n",
       "      <td>2011-01-04 10:00:00</td>\n",
       "      <td>2.10</td>\n",
       "      <td>13313.0</td>\n",
       "      <td>United Kingdom</td>\n",
       "    </tr>\n",
       "    <tr>\n",
       "      <th>4</th>\n",
       "      <td>539993</td>\n",
       "      <td>20718</td>\n",
       "      <td>RED RETROSPOT SHOPPER BAG</td>\n",
       "      <td>10</td>\n",
       "      <td>2011-01-04 10:00:00</td>\n",
       "      <td>1.25</td>\n",
       "      <td>13313.0</td>\n",
       "      <td>United Kingdom</td>\n",
       "    </tr>\n",
       "  </tbody>\n",
       "</table>\n",
       "</div>"
      ],
      "text/plain": [
       "  InvoiceNo StockCode                Description  Quantity  \\\n",
       "0    539993     22386    JUMBO BAG PINK POLKADOT        10   \n",
       "1    539993     21499         BLUE POLKADOT WRAP        25   \n",
       "2    539993     21498        RED RETROSPOT WRAP         25   \n",
       "3    539993     22379   RECYCLING BAG RETROSPOT          5   \n",
       "4    539993     20718  RED RETROSPOT SHOPPER BAG        10   \n",
       "\n",
       "           InvoiceDate  UnitPrice  CustomerID         Country  \n",
       "0  2011-01-04 10:00:00       1.95     13313.0  United Kingdom  \n",
       "1  2011-01-04 10:00:00       0.42     13313.0  United Kingdom  \n",
       "2  2011-01-04 10:00:00       0.42     13313.0  United Kingdom  \n",
       "3  2011-01-04 10:00:00       2.10     13313.0  United Kingdom  \n",
       "4  2011-01-04 10:00:00       1.25     13313.0  United Kingdom  "
      ]
     },
     "execution_count": 2,
     "metadata": {},
     "output_type": "execute_result"
    }
   ],
   "source": [
    "df = pd.read_csv('Onlineretail.csv')\n",
    "df.head()"
   ]
  },
  {
   "cell_type": "code",
   "execution_count": 3,
   "metadata": {},
   "outputs": [
    {
     "data": {
      "text/plain": [
       "pandas.core.frame.DataFrame"
      ]
     },
     "execution_count": 3,
     "metadata": {},
     "output_type": "execute_result"
    }
   ],
   "source": [
    "type(df)"
   ]
  },
  {
   "cell_type": "code",
   "execution_count": 4,
   "metadata": {},
   "outputs": [
    {
     "data": {
      "application/vnd.microsoft.datawrangler.viewer.v0+json": {
       "columns": [
        {
         "name": "index",
         "rawType": "object",
         "type": "string"
        },
        {
         "name": "Quantity",
         "rawType": "float64",
         "type": "float"
        },
        {
         "name": "UnitPrice",
         "rawType": "float64",
         "type": "float"
        },
        {
         "name": "CustomerID",
         "rawType": "float64",
         "type": "float"
        }
       ],
       "conversionMethod": "pd.DataFrame",
       "ref": "9681d306-b8d8-44df-8917-2d3110ccf07b",
       "rows": [
        [
         "count",
         "203422.0",
         "203422.0",
         "150039.0"
        ],
        [
         "mean",
         "9.585683947655612",
         "4.877819709765905",
         "15240.234832276941"
        ],
        [
         "std",
         "240.92131484706707",
         "113.6866757268038",
         "1717.6584928935238"
        ],
        [
         "min",
         "-74215.0",
         "0.0",
         "12346.0"
        ],
        [
         "25%",
         "1.0",
         "1.25",
         "13791.0"
        ],
        [
         "50%",
         "3.0",
         "2.1",
         "15061.0"
        ],
        [
         "75%",
         "10.0",
         "4.13",
         "16771.0"
        ],
        [
         "max",
         "74215.0",
         "38970.0",
         "18287.0"
        ]
       ],
       "shape": {
        "columns": 3,
        "rows": 8
       }
      },
      "text/html": [
       "<div>\n",
       "<style scoped>\n",
       "    .dataframe tbody tr th:only-of-type {\n",
       "        vertical-align: middle;\n",
       "    }\n",
       "\n",
       "    .dataframe tbody tr th {\n",
       "        vertical-align: top;\n",
       "    }\n",
       "\n",
       "    .dataframe thead th {\n",
       "        text-align: right;\n",
       "    }\n",
       "</style>\n",
       "<table border=\"1\" class=\"dataframe\">\n",
       "  <thead>\n",
       "    <tr style=\"text-align: right;\">\n",
       "      <th></th>\n",
       "      <th>Quantity</th>\n",
       "      <th>UnitPrice</th>\n",
       "      <th>CustomerID</th>\n",
       "    </tr>\n",
       "  </thead>\n",
       "  <tbody>\n",
       "    <tr>\n",
       "      <th>count</th>\n",
       "      <td>203422.000000</td>\n",
       "      <td>203422.000000</td>\n",
       "      <td>150039.000000</td>\n",
       "    </tr>\n",
       "    <tr>\n",
       "      <th>mean</th>\n",
       "      <td>9.585684</td>\n",
       "      <td>4.877820</td>\n",
       "      <td>15240.234832</td>\n",
       "    </tr>\n",
       "    <tr>\n",
       "      <th>std</th>\n",
       "      <td>240.921315</td>\n",
       "      <td>113.686676</td>\n",
       "      <td>1717.658493</td>\n",
       "    </tr>\n",
       "    <tr>\n",
       "      <th>min</th>\n",
       "      <td>-74215.000000</td>\n",
       "      <td>0.000000</td>\n",
       "      <td>12346.000000</td>\n",
       "    </tr>\n",
       "    <tr>\n",
       "      <th>25%</th>\n",
       "      <td>1.000000</td>\n",
       "      <td>1.250000</td>\n",
       "      <td>13791.000000</td>\n",
       "    </tr>\n",
       "    <tr>\n",
       "      <th>50%</th>\n",
       "      <td>3.000000</td>\n",
       "      <td>2.100000</td>\n",
       "      <td>15061.000000</td>\n",
       "    </tr>\n",
       "    <tr>\n",
       "      <th>75%</th>\n",
       "      <td>10.000000</td>\n",
       "      <td>4.130000</td>\n",
       "      <td>16771.000000</td>\n",
       "    </tr>\n",
       "    <tr>\n",
       "      <th>max</th>\n",
       "      <td>74215.000000</td>\n",
       "      <td>38970.000000</td>\n",
       "      <td>18287.000000</td>\n",
       "    </tr>\n",
       "  </tbody>\n",
       "</table>\n",
       "</div>"
      ],
      "text/plain": [
       "            Quantity      UnitPrice     CustomerID\n",
       "count  203422.000000  203422.000000  150039.000000\n",
       "mean        9.585684       4.877820   15240.234832\n",
       "std       240.921315     113.686676    1717.658493\n",
       "min    -74215.000000       0.000000   12346.000000\n",
       "25%         1.000000       1.250000   13791.000000\n",
       "50%         3.000000       2.100000   15061.000000\n",
       "75%        10.000000       4.130000   16771.000000\n",
       "max     74215.000000   38970.000000   18287.000000"
      ]
     },
     "execution_count": 4,
     "metadata": {},
     "output_type": "execute_result"
    }
   ],
   "source": [
    "df.describe()"
   ]
  },
  {
   "cell_type": "code",
   "execution_count": 5,
   "metadata": {},
   "outputs": [
    {
     "name": "stdout",
     "output_type": "stream",
     "text": [
      "<class 'pandas.core.frame.DataFrame'>\n",
      "RangeIndex: 203422 entries, 0 to 203421\n",
      "Data columns (total 8 columns):\n",
      " #   Column       Non-Null Count   Dtype  \n",
      "---  ------       --------------   -----  \n",
      " 0   InvoiceNo    203422 non-null  object \n",
      " 1   StockCode    203422 non-null  object \n",
      " 2   Description  202623 non-null  object \n",
      " 3   Quantity     203422 non-null  int64  \n",
      " 4   InvoiceDate  203422 non-null  object \n",
      " 5   UnitPrice    203422 non-null  float64\n",
      " 6   CustomerID   150039 non-null  float64\n",
      " 7   Country      203422 non-null  object \n",
      "dtypes: float64(2), int64(1), object(5)\n",
      "memory usage: 12.4+ MB\n"
     ]
    }
   ],
   "source": [
    "df.info()"
   ]
  },
  {
   "cell_type": "code",
   "execution_count": 6,
   "metadata": {},
   "outputs": [
    {
     "data": {
      "text/plain": [
       "InvoiceNo          0\n",
       "StockCode          0\n",
       "Description      799\n",
       "Quantity           0\n",
       "InvoiceDate        0\n",
       "UnitPrice          0\n",
       "CustomerID     53383\n",
       "Country            0\n",
       "dtype: int64"
      ]
     },
     "execution_count": 6,
     "metadata": {},
     "output_type": "execute_result"
    }
   ],
   "source": [
    "df.isnull().sum()"
   ]
  },
  {
   "cell_type": "code",
   "execution_count": 7,
   "metadata": {},
   "outputs": [
    {
     "data": {
      "text/plain": [
       "Index(['InvoiceNo', 'StockCode', 'Quantity', 'InvoiceDate', 'UnitPrice',\n",
       "       'CustomerID', 'Country'],\n",
       "      dtype='object')"
      ]
     },
     "execution_count": 7,
     "metadata": {},
     "output_type": "execute_result"
    }
   ],
   "source": [
    "df.drop(columns=['Description'], inplace=True)\n",
    "df.columns"
   ]
  },
  {
   "cell_type": "code",
   "execution_count": 8,
   "metadata": {},
   "outputs": [
    {
     "data": {
      "application/vnd.microsoft.datawrangler.viewer.v0+json": {
       "columns": [
        {
         "name": "index",
         "rawType": "int64",
         "type": "integer"
        },
        {
         "name": "InvoiceNo",
         "rawType": "object",
         "type": "string"
        },
        {
         "name": "StockCode",
         "rawType": "object",
         "type": "string"
        },
        {
         "name": "Quantity",
         "rawType": "int64",
         "type": "integer"
        },
        {
         "name": "InvoiceDate",
         "rawType": "object",
         "type": "string"
        },
        {
         "name": "UnitPrice",
         "rawType": "float64",
         "type": "float"
        },
        {
         "name": "CustomerID",
         "rawType": "float64",
         "type": "float"
        },
        {
         "name": "Country",
         "rawType": "object",
         "type": "string"
        }
       ],
       "conversionMethod": "pd.DataFrame",
       "ref": "866c219c-e2ba-45c9-8b39-002166259583",
       "rows": [
        [
         "17",
         "539994",
         "22830",
         "-1",
         "2011-01-04 10:09:00",
         "0.0",
         null,
         "United Kingdom"
        ],
        [
         "18",
         "539995",
         "85064",
         "-12",
         "2011-01-04 10:12:00",
         "0.0",
         null,
         "United Kingdom"
        ],
        [
         "19",
         "539996",
         "21784",
         "-10",
         "2011-01-04 10:12:00",
         "0.0",
         null,
         "United Kingdom"
        ],
        [
         "22",
         "539999",
         "20892",
         "-1",
         "2011-01-04 10:16:00",
         "0.0",
         null,
         "United Kingdom"
        ],
        [
         "23",
         "540000",
         "84499",
         "-9",
         "2011-01-04 10:17:00",
         "0.0",
         null,
         "United Kingdom"
        ],
        [
         "76",
         "C540006",
         "21306",
         "-1",
         "2011-01-04 10:48:00",
         "2.1",
         "14606.0",
         "United Kingdom"
        ],
        [
         "77",
         "C540006",
         "84352",
         "-1",
         "2011-01-04 10:48:00",
         "16.95",
         "14606.0",
         "United Kingdom"
        ],
        [
         "78",
         "C540006",
         "22423",
         "-1",
         "2011-01-04 10:48:00",
         "12.75",
         "14606.0",
         "United Kingdom"
        ],
        [
         "79",
         "C540007",
         "21055",
         "-6",
         "2011-01-04 11:08:00",
         "8.95",
         "15379.0",
         "United Kingdom"
        ],
        [
         "80",
         "C540007",
         "22274",
         "-6",
         "2011-01-04 11:08:00",
         "2.95",
         "15379.0",
         "United Kingdom"
        ],
        [
         "81",
         "540008",
         "85230F",
         "-48",
         "2011-01-04 11:10:00",
         "0.0",
         null,
         "United Kingdom"
        ],
        [
         "82",
         "540009",
         "22158",
         "-120",
         "2011-01-04 11:10:00",
         "0.0",
         null,
         "United Kingdom"
        ],
        [
         "83",
         "540010",
         "22501",
         "-100",
         "2011-01-04 11:13:00",
         "0.0",
         null,
         "United Kingdom"
        ],
        [
         "85",
         "540012",
         "22502",
         "-100",
         "2011-01-04 11:14:00",
         "0.0",
         null,
         "United Kingdom"
        ],
        [
         "850",
         "C540030",
         "22070",
         "-24",
         "2011-01-04 13:47:00",
         "3.75",
         "16029.0",
         "United Kingdom"
        ],
        [
         "967",
         "C540057",
         "POST",
         "-1",
         "2011-01-04 14:29:00",
         "40.0",
         "12483.0",
         "Sweden"
        ],
        [
         "1078",
         "C540097",
         "22835",
         "-4",
         "2011-01-04 15:46:00",
         "4.65",
         "15373.0",
         "United Kingdom"
        ],
        [
         "1079",
         "C540097",
         "22423",
         "-6",
         "2011-01-04 15:46:00",
         "12.75",
         "15373.0",
         "United Kingdom"
        ],
        [
         "1080",
         "C540097",
         "22179",
         "-4",
         "2011-01-04 15:46:00",
         "6.75",
         "15373.0",
         "United Kingdom"
        ],
        [
         "1081",
         "C540097",
         "22113",
         "-4",
         "2011-01-04 15:46:00",
         "3.75",
         "15373.0",
         "United Kingdom"
        ],
        [
         "1082",
         "C540097",
         "21843",
         "-6",
         "2011-01-04 15:46:00",
         "10.95",
         "15373.0",
         "United Kingdom"
        ],
        [
         "1181",
         "540100",
         "22837",
         "-106",
         "2011-01-04 16:53:00",
         "0.0",
         null,
         "United Kingdom"
        ],
        [
         "1182",
         "C540109",
         "85071A",
         "-150",
         "2011-01-04 17:12:00",
         "2.95",
         "17389.0",
         "United Kingdom"
        ],
        [
         "1183",
         "C540112",
         "21735",
         "-18",
         "2011-01-04 17:14:00",
         "10.95",
         "15973.0",
         "United Kingdom"
        ],
        [
         "1221",
         "C540117",
         "AMAZONFEE",
         "-1",
         "2011-01-05 09:55:00",
         "16888.02",
         null,
         "United Kingdom"
        ],
        [
         "1222",
         "C540118",
         "AMAZONFEE",
         "-1",
         "2011-01-05 09:57:00",
         "16453.71",
         null,
         "United Kingdom"
        ],
        [
         "1223",
         "540119",
         "22865",
         "-60",
         "2011-01-05 10:07:00",
         "0.0",
         null,
         "United Kingdom"
        ],
        [
         "1298",
         "C540129",
         "22352",
         "-3",
         "2011-01-05 10:46:00",
         "2.55",
         "12578.0",
         "Italy"
        ],
        [
         "1299",
         "C540142",
         "22667",
         "-2",
         "2011-01-05 10:50:00",
         "2.95",
         "12782.0",
         "Portugal"
        ],
        [
         "1300",
         "C540142",
         "22666",
         "-1",
         "2011-01-05 10:50:00",
         "2.95",
         "12782.0",
         "Portugal"
        ],
        [
         "1301",
         "C540142",
         "21430",
         "-1",
         "2011-01-05 10:50:00",
         "3.75",
         "12782.0",
         "Portugal"
        ],
        [
         "1302",
         "C540142",
         "22960",
         "-12",
         "2011-01-05 10:50:00",
         "3.75",
         "12782.0",
         "Portugal"
        ],
        [
         "1375",
         "C540151",
         "21843",
         "-1",
         "2011-01-05 11:13:00",
         "10.95",
         "12494.0",
         "France"
        ],
        [
         "1376",
         "C540152",
         "22666",
         "-1",
         "2011-01-05 11:21:00",
         "2.95",
         "12395.0",
         "Belgium"
        ],
        [
         "1671",
         "C540155",
         "72802B",
         "-54",
         "2011-01-05 11:31:00",
         "3.81",
         null,
         "Bahrain"
        ],
        [
         "1672",
         "C540156",
         "21843",
         "-1",
         "2011-01-05 11:36:00",
         "10.95",
         "12683.0",
         "France"
        ],
        [
         "1724",
         "C540158",
         "22968",
         "-2",
         "2011-01-05 11:42:00",
         "9.95",
         "12471.0",
         "Germany"
        ],
        [
         "1725",
         "C540158",
         "22964",
         "-2",
         "2011-01-05 11:42:00",
         "2.1",
         "12471.0",
         "Germany"
        ],
        [
         "1726",
         "C540158",
         "22962",
         "-17",
         "2011-01-05 11:42:00",
         "0.85",
         "12471.0",
         "Germany"
        ],
        [
         "1727",
         "C540158",
         "22961",
         "-2",
         "2011-01-05 11:42:00",
         "1.45",
         "12471.0",
         "Germany"
        ],
        [
         "1728",
         "C540158",
         "22923",
         "-5",
         "2011-01-05 11:42:00",
         "0.85",
         "12471.0",
         "Germany"
        ],
        [
         "1729",
         "C540158",
         "22728",
         "-4",
         "2011-01-05 11:42:00",
         "3.75",
         "12471.0",
         "Germany"
        ],
        [
         "1730",
         "C540158",
         "22649",
         "-2",
         "2011-01-05 11:42:00",
         "4.95",
         "12471.0",
         "Germany"
        ],
        [
         "1731",
         "C540158",
         "22423",
         "-2",
         "2011-01-05 11:42:00",
         "10.95",
         "12471.0",
         "Germany"
        ],
        [
         "1813",
         "C540164",
         "85049A",
         "-12",
         "2011-01-05 12:02:00",
         "1.25",
         "14911.0",
         "EIRE"
        ],
        [
         "1814",
         "C540164",
         "84508B",
         "-6",
         "2011-01-05 12:02:00",
         "2.55",
         "14911.0",
         "EIRE"
        ],
        [
         "1815",
         "C540164",
         "72815",
         "-4",
         "2011-01-05 12:02:00",
         "3.75",
         "14911.0",
         "EIRE"
        ],
        [
         "1816",
         "C540164",
         "22034",
         "-12",
         "2011-01-05 12:02:00",
         "0.42",
         "14911.0",
         "EIRE"
        ],
        [
         "1817",
         "C540164",
         "21144",
         "-12",
         "2011-01-05 12:02:00",
         "0.38",
         "14911.0",
         "EIRE"
        ],
        [
         "1818",
         "C540164",
         "21412",
         "-6",
         "2011-01-05 12:02:00",
         "0.42",
         "14911.0",
         "EIRE"
        ]
       ],
       "shape": {
        "columns": 7,
        "rows": 4454
       }
      },
      "text/html": [
       "<div>\n",
       "<style scoped>\n",
       "    .dataframe tbody tr th:only-of-type {\n",
       "        vertical-align: middle;\n",
       "    }\n",
       "\n",
       "    .dataframe tbody tr th {\n",
       "        vertical-align: top;\n",
       "    }\n",
       "\n",
       "    .dataframe thead th {\n",
       "        text-align: right;\n",
       "    }\n",
       "</style>\n",
       "<table border=\"1\" class=\"dataframe\">\n",
       "  <thead>\n",
       "    <tr style=\"text-align: right;\">\n",
       "      <th></th>\n",
       "      <th>InvoiceNo</th>\n",
       "      <th>StockCode</th>\n",
       "      <th>Quantity</th>\n",
       "      <th>InvoiceDate</th>\n",
       "      <th>UnitPrice</th>\n",
       "      <th>CustomerID</th>\n",
       "      <th>Country</th>\n",
       "    </tr>\n",
       "  </thead>\n",
       "  <tbody>\n",
       "    <tr>\n",
       "      <th>17</th>\n",
       "      <td>539994</td>\n",
       "      <td>22830</td>\n",
       "      <td>-1</td>\n",
       "      <td>2011-01-04 10:09:00</td>\n",
       "      <td>0.00</td>\n",
       "      <td>NaN</td>\n",
       "      <td>United Kingdom</td>\n",
       "    </tr>\n",
       "    <tr>\n",
       "      <th>18</th>\n",
       "      <td>539995</td>\n",
       "      <td>85064</td>\n",
       "      <td>-12</td>\n",
       "      <td>2011-01-04 10:12:00</td>\n",
       "      <td>0.00</td>\n",
       "      <td>NaN</td>\n",
       "      <td>United Kingdom</td>\n",
       "    </tr>\n",
       "    <tr>\n",
       "      <th>19</th>\n",
       "      <td>539996</td>\n",
       "      <td>21784</td>\n",
       "      <td>-10</td>\n",
       "      <td>2011-01-04 10:12:00</td>\n",
       "      <td>0.00</td>\n",
       "      <td>NaN</td>\n",
       "      <td>United Kingdom</td>\n",
       "    </tr>\n",
       "    <tr>\n",
       "      <th>22</th>\n",
       "      <td>539999</td>\n",
       "      <td>20892</td>\n",
       "      <td>-1</td>\n",
       "      <td>2011-01-04 10:16:00</td>\n",
       "      <td>0.00</td>\n",
       "      <td>NaN</td>\n",
       "      <td>United Kingdom</td>\n",
       "    </tr>\n",
       "    <tr>\n",
       "      <th>23</th>\n",
       "      <td>540000</td>\n",
       "      <td>84499</td>\n",
       "      <td>-9</td>\n",
       "      <td>2011-01-04 10:17:00</td>\n",
       "      <td>0.00</td>\n",
       "      <td>NaN</td>\n",
       "      <td>United Kingdom</td>\n",
       "    </tr>\n",
       "    <tr>\n",
       "      <th>...</th>\n",
       "      <td>...</td>\n",
       "      <td>...</td>\n",
       "      <td>...</td>\n",
       "      <td>...</td>\n",
       "      <td>...</td>\n",
       "      <td>...</td>\n",
       "      <td>...</td>\n",
       "    </tr>\n",
       "    <tr>\n",
       "      <th>201945</th>\n",
       "      <td>C558531</td>\n",
       "      <td>22424</td>\n",
       "      <td>-1</td>\n",
       "      <td>2011-06-30 11:31:00</td>\n",
       "      <td>12.75</td>\n",
       "      <td>15039.0</td>\n",
       "      <td>United Kingdom</td>\n",
       "    </tr>\n",
       "    <tr>\n",
       "      <th>202318</th>\n",
       "      <td>C558553</td>\n",
       "      <td>23170</td>\n",
       "      <td>-576</td>\n",
       "      <td>2011-06-30 12:44:00</td>\n",
       "      <td>1.45</td>\n",
       "      <td>17949.0</td>\n",
       "      <td>United Kingdom</td>\n",
       "    </tr>\n",
       "    <tr>\n",
       "      <th>202427</th>\n",
       "      <td>C558559</td>\n",
       "      <td>20749</td>\n",
       "      <td>-1</td>\n",
       "      <td>2011-06-30 13:20:00</td>\n",
       "      <td>7.95</td>\n",
       "      <td>17648.0</td>\n",
       "      <td>United Kingdom</td>\n",
       "    </tr>\n",
       "    <tr>\n",
       "      <th>202627</th>\n",
       "      <td>C558575</td>\n",
       "      <td>22693</td>\n",
       "      <td>-24</td>\n",
       "      <td>2011-06-30 14:58:00</td>\n",
       "      <td>1.25</td>\n",
       "      <td>12674.0</td>\n",
       "      <td>France</td>\n",
       "    </tr>\n",
       "    <tr>\n",
       "      <th>203075</th>\n",
       "      <td>C558615</td>\n",
       "      <td>21845</td>\n",
       "      <td>-4</td>\n",
       "      <td>2011-06-30 16:20:00</td>\n",
       "      <td>0.79</td>\n",
       "      <td>17719.0</td>\n",
       "      <td>United Kingdom</td>\n",
       "    </tr>\n",
       "  </tbody>\n",
       "</table>\n",
       "<p>4454 rows × 7 columns</p>\n",
       "</div>"
      ],
      "text/plain": [
       "       InvoiceNo StockCode  Quantity          InvoiceDate  UnitPrice  \\\n",
       "17        539994     22830        -1  2011-01-04 10:09:00       0.00   \n",
       "18        539995     85064       -12  2011-01-04 10:12:00       0.00   \n",
       "19        539996     21784       -10  2011-01-04 10:12:00       0.00   \n",
       "22        539999     20892        -1  2011-01-04 10:16:00       0.00   \n",
       "23        540000     84499        -9  2011-01-04 10:17:00       0.00   \n",
       "...          ...       ...       ...                  ...        ...   \n",
       "201945   C558531     22424        -1  2011-06-30 11:31:00      12.75   \n",
       "202318   C558553     23170      -576  2011-06-30 12:44:00       1.45   \n",
       "202427   C558559     20749        -1  2011-06-30 13:20:00       7.95   \n",
       "202627   C558575     22693       -24  2011-06-30 14:58:00       1.25   \n",
       "203075   C558615     21845        -4  2011-06-30 16:20:00       0.79   \n",
       "\n",
       "        CustomerID         Country  \n",
       "17             NaN  United Kingdom  \n",
       "18             NaN  United Kingdom  \n",
       "19             NaN  United Kingdom  \n",
       "22             NaN  United Kingdom  \n",
       "23             NaN  United Kingdom  \n",
       "...            ...             ...  \n",
       "201945     15039.0  United Kingdom  \n",
       "202318     17949.0  United Kingdom  \n",
       "202427     17648.0  United Kingdom  \n",
       "202627     12674.0          France  \n",
       "203075     17719.0  United Kingdom  \n",
       "\n",
       "[4454 rows x 7 columns]"
      ]
     },
     "execution_count": 8,
     "metadata": {},
     "output_type": "execute_result"
    }
   ],
   "source": [
    "df[df['Quantity']<0]"
   ]
  },
  {
   "cell_type": "code",
   "execution_count": 9,
   "metadata": {},
   "outputs": [],
   "source": [
    "df = df[df['Quantity']>0]\n",
    "df = df[df['UnitPrice']>0]\n"
   ]
  },
  {
   "cell_type": "code",
   "execution_count": 10,
   "metadata": {},
   "outputs": [
    {
     "data": {
      "text/plain": [
       "InvoiceNo          0\n",
       "StockCode          0\n",
       "Quantity           0\n",
       "InvoiceDate        0\n",
       "UnitPrice          0\n",
       "CustomerID     51973\n",
       "Country            0\n",
       "dtype: int64"
      ]
     },
     "execution_count": 10,
     "metadata": {},
     "output_type": "execute_result"
    }
   ],
   "source": [
    "df.isnull().sum()"
   ]
  },
  {
   "cell_type": "code",
   "execution_count": 11,
   "metadata": {},
   "outputs": [
    {
     "data": {
      "text/plain": [
       "8100"
      ]
     },
     "execution_count": 11,
     "metadata": {},
     "output_type": "execute_result"
    }
   ],
   "source": [
    "len(df['InvoiceNo'].unique())"
   ]
  },
  {
   "cell_type": "code",
   "execution_count": 12,
   "metadata": {},
   "outputs": [
    {
     "data": {
      "text/plain": [
       "array(['539993', '540001', '540002', ..., '558635', '558636', '558637'],\n",
       "      dtype=object)"
      ]
     },
     "execution_count": 12,
     "metadata": {},
     "output_type": "execute_result"
    }
   ],
   "source": [
    "df['InvoiceNo'].unique()"
   ]
  },
  {
   "cell_type": "code",
   "execution_count": 13,
   "metadata": {},
   "outputs": [
    {
     "data": {
      "application/vnd.microsoft.datawrangler.viewer.v0+json": {
       "columns": [
        {
         "name": "index",
         "rawType": "int64",
         "type": "integer"
        },
        {
         "name": "InvoiceNo",
         "rawType": "object",
         "type": "string"
        },
        {
         "name": "StockCode",
         "rawType": "object",
         "type": "string"
        },
        {
         "name": "Quantity",
         "rawType": "int64",
         "type": "integer"
        },
        {
         "name": "InvoiceDate",
         "rawType": "object",
         "type": "string"
        },
        {
         "name": "UnitPrice",
         "rawType": "float64",
         "type": "float"
        },
        {
         "name": "CustomerID",
         "rawType": "float64",
         "type": "float"
        },
        {
         "name": "Country",
         "rawType": "object",
         "type": "string"
        }
       ],
       "conversionMethod": "pd.DataFrame",
       "ref": "1f3df30d-ef40-48f5-8de8-6c032319833a",
       "rows": [
        [
         "0",
         "539993",
         "22386",
         "10",
         "2011-01-04 10:00:00",
         "1.95",
         "13313.0",
         "United Kingdom"
        ],
        [
         "1",
         "539993",
         "21499",
         "25",
         "2011-01-04 10:00:00",
         "0.42",
         "13313.0",
         "United Kingdom"
        ],
        [
         "2",
         "539993",
         "21498",
         "25",
         "2011-01-04 10:00:00",
         "0.42",
         "13313.0",
         "United Kingdom"
        ],
        [
         "3",
         "539993",
         "22379",
         "5",
         "2011-01-04 10:00:00",
         "2.1",
         "13313.0",
         "United Kingdom"
        ],
        [
         "4",
         "539993",
         "20718",
         "10",
         "2011-01-04 10:00:00",
         "1.25",
         "13313.0",
         "United Kingdom"
        ],
        [
         "5",
         "539993",
         "85099B",
         "10",
         "2011-01-04 10:00:00",
         "1.95",
         "13313.0",
         "United Kingdom"
        ],
        [
         "6",
         "539993",
         "20682",
         "6",
         "2011-01-04 10:00:00",
         "3.25",
         "13313.0",
         "United Kingdom"
        ],
        [
         "7",
         "539993",
         "22961",
         "12",
         "2011-01-04 10:00:00",
         "1.45",
         "13313.0",
         "United Kingdom"
        ],
        [
         "8",
         "539993",
         "22667",
         "6",
         "2011-01-04 10:00:00",
         "2.95",
         "13313.0",
         "United Kingdom"
        ],
        [
         "9",
         "539993",
         "22898",
         "8",
         "2011-01-04 10:00:00",
         "1.95",
         "13313.0",
         "United Kingdom"
        ],
        [
         "10",
         "539993",
         "22896",
         "6",
         "2011-01-04 10:00:00",
         "2.55",
         "13313.0",
         "United Kingdom"
        ],
        [
         "11",
         "539993",
         "22303",
         "6",
         "2011-01-04 10:00:00",
         "2.55",
         "13313.0",
         "United Kingdom"
        ],
        [
         "12",
         "539993",
         "22302",
         "6",
         "2011-01-04 10:00:00",
         "2.55",
         "13313.0",
         "United Kingdom"
        ],
        [
         "13",
         "539993",
         "85123A",
         "12",
         "2011-01-04 10:00:00",
         "2.95",
         "13313.0",
         "United Kingdom"
        ],
        [
         "14",
         "539993",
         "22808",
         "12",
         "2011-01-04 10:00:00",
         "2.95",
         "13313.0",
         "United Kingdom"
        ],
        [
         "15",
         "539993",
         "22458",
         "8",
         "2011-01-04 10:00:00",
         "2.55",
         "13313.0",
         "United Kingdom"
        ],
        [
         "16",
         "539993",
         "22862",
         "4",
         "2011-01-04 10:00:00",
         "4.25",
         "13313.0",
         "United Kingdom"
        ]
       ],
       "shape": {
        "columns": 7,
        "rows": 17
       }
      },
      "text/html": [
       "<div>\n",
       "<style scoped>\n",
       "    .dataframe tbody tr th:only-of-type {\n",
       "        vertical-align: middle;\n",
       "    }\n",
       "\n",
       "    .dataframe tbody tr th {\n",
       "        vertical-align: top;\n",
       "    }\n",
       "\n",
       "    .dataframe thead th {\n",
       "        text-align: right;\n",
       "    }\n",
       "</style>\n",
       "<table border=\"1\" class=\"dataframe\">\n",
       "  <thead>\n",
       "    <tr style=\"text-align: right;\">\n",
       "      <th></th>\n",
       "      <th>InvoiceNo</th>\n",
       "      <th>StockCode</th>\n",
       "      <th>Quantity</th>\n",
       "      <th>InvoiceDate</th>\n",
       "      <th>UnitPrice</th>\n",
       "      <th>CustomerID</th>\n",
       "      <th>Country</th>\n",
       "    </tr>\n",
       "  </thead>\n",
       "  <tbody>\n",
       "    <tr>\n",
       "      <th>0</th>\n",
       "      <td>539993</td>\n",
       "      <td>22386</td>\n",
       "      <td>10</td>\n",
       "      <td>2011-01-04 10:00:00</td>\n",
       "      <td>1.95</td>\n",
       "      <td>13313.0</td>\n",
       "      <td>United Kingdom</td>\n",
       "    </tr>\n",
       "    <tr>\n",
       "      <th>1</th>\n",
       "      <td>539993</td>\n",
       "      <td>21499</td>\n",
       "      <td>25</td>\n",
       "      <td>2011-01-04 10:00:00</td>\n",
       "      <td>0.42</td>\n",
       "      <td>13313.0</td>\n",
       "      <td>United Kingdom</td>\n",
       "    </tr>\n",
       "    <tr>\n",
       "      <th>2</th>\n",
       "      <td>539993</td>\n",
       "      <td>21498</td>\n",
       "      <td>25</td>\n",
       "      <td>2011-01-04 10:00:00</td>\n",
       "      <td>0.42</td>\n",
       "      <td>13313.0</td>\n",
       "      <td>United Kingdom</td>\n",
       "    </tr>\n",
       "    <tr>\n",
       "      <th>3</th>\n",
       "      <td>539993</td>\n",
       "      <td>22379</td>\n",
       "      <td>5</td>\n",
       "      <td>2011-01-04 10:00:00</td>\n",
       "      <td>2.10</td>\n",
       "      <td>13313.0</td>\n",
       "      <td>United Kingdom</td>\n",
       "    </tr>\n",
       "    <tr>\n",
       "      <th>4</th>\n",
       "      <td>539993</td>\n",
       "      <td>20718</td>\n",
       "      <td>10</td>\n",
       "      <td>2011-01-04 10:00:00</td>\n",
       "      <td>1.25</td>\n",
       "      <td>13313.0</td>\n",
       "      <td>United Kingdom</td>\n",
       "    </tr>\n",
       "    <tr>\n",
       "      <th>5</th>\n",
       "      <td>539993</td>\n",
       "      <td>85099B</td>\n",
       "      <td>10</td>\n",
       "      <td>2011-01-04 10:00:00</td>\n",
       "      <td>1.95</td>\n",
       "      <td>13313.0</td>\n",
       "      <td>United Kingdom</td>\n",
       "    </tr>\n",
       "    <tr>\n",
       "      <th>6</th>\n",
       "      <td>539993</td>\n",
       "      <td>20682</td>\n",
       "      <td>6</td>\n",
       "      <td>2011-01-04 10:00:00</td>\n",
       "      <td>3.25</td>\n",
       "      <td>13313.0</td>\n",
       "      <td>United Kingdom</td>\n",
       "    </tr>\n",
       "    <tr>\n",
       "      <th>7</th>\n",
       "      <td>539993</td>\n",
       "      <td>22961</td>\n",
       "      <td>12</td>\n",
       "      <td>2011-01-04 10:00:00</td>\n",
       "      <td>1.45</td>\n",
       "      <td>13313.0</td>\n",
       "      <td>United Kingdom</td>\n",
       "    </tr>\n",
       "    <tr>\n",
       "      <th>8</th>\n",
       "      <td>539993</td>\n",
       "      <td>22667</td>\n",
       "      <td>6</td>\n",
       "      <td>2011-01-04 10:00:00</td>\n",
       "      <td>2.95</td>\n",
       "      <td>13313.0</td>\n",
       "      <td>United Kingdom</td>\n",
       "    </tr>\n",
       "    <tr>\n",
       "      <th>9</th>\n",
       "      <td>539993</td>\n",
       "      <td>22898</td>\n",
       "      <td>8</td>\n",
       "      <td>2011-01-04 10:00:00</td>\n",
       "      <td>1.95</td>\n",
       "      <td>13313.0</td>\n",
       "      <td>United Kingdom</td>\n",
       "    </tr>\n",
       "    <tr>\n",
       "      <th>10</th>\n",
       "      <td>539993</td>\n",
       "      <td>22896</td>\n",
       "      <td>6</td>\n",
       "      <td>2011-01-04 10:00:00</td>\n",
       "      <td>2.55</td>\n",
       "      <td>13313.0</td>\n",
       "      <td>United Kingdom</td>\n",
       "    </tr>\n",
       "    <tr>\n",
       "      <th>11</th>\n",
       "      <td>539993</td>\n",
       "      <td>22303</td>\n",
       "      <td>6</td>\n",
       "      <td>2011-01-04 10:00:00</td>\n",
       "      <td>2.55</td>\n",
       "      <td>13313.0</td>\n",
       "      <td>United Kingdom</td>\n",
       "    </tr>\n",
       "    <tr>\n",
       "      <th>12</th>\n",
       "      <td>539993</td>\n",
       "      <td>22302</td>\n",
       "      <td>6</td>\n",
       "      <td>2011-01-04 10:00:00</td>\n",
       "      <td>2.55</td>\n",
       "      <td>13313.0</td>\n",
       "      <td>United Kingdom</td>\n",
       "    </tr>\n",
       "    <tr>\n",
       "      <th>13</th>\n",
       "      <td>539993</td>\n",
       "      <td>85123A</td>\n",
       "      <td>12</td>\n",
       "      <td>2011-01-04 10:00:00</td>\n",
       "      <td>2.95</td>\n",
       "      <td>13313.0</td>\n",
       "      <td>United Kingdom</td>\n",
       "    </tr>\n",
       "    <tr>\n",
       "      <th>14</th>\n",
       "      <td>539993</td>\n",
       "      <td>22808</td>\n",
       "      <td>12</td>\n",
       "      <td>2011-01-04 10:00:00</td>\n",
       "      <td>2.95</td>\n",
       "      <td>13313.0</td>\n",
       "      <td>United Kingdom</td>\n",
       "    </tr>\n",
       "    <tr>\n",
       "      <th>15</th>\n",
       "      <td>539993</td>\n",
       "      <td>22458</td>\n",
       "      <td>8</td>\n",
       "      <td>2011-01-04 10:00:00</td>\n",
       "      <td>2.55</td>\n",
       "      <td>13313.0</td>\n",
       "      <td>United Kingdom</td>\n",
       "    </tr>\n",
       "    <tr>\n",
       "      <th>16</th>\n",
       "      <td>539993</td>\n",
       "      <td>22862</td>\n",
       "      <td>4</td>\n",
       "      <td>2011-01-04 10:00:00</td>\n",
       "      <td>4.25</td>\n",
       "      <td>13313.0</td>\n",
       "      <td>United Kingdom</td>\n",
       "    </tr>\n",
       "  </tbody>\n",
       "</table>\n",
       "</div>"
      ],
      "text/plain": [
       "   InvoiceNo StockCode  Quantity          InvoiceDate  UnitPrice  CustomerID  \\\n",
       "0     539993     22386        10  2011-01-04 10:00:00       1.95     13313.0   \n",
       "1     539993     21499        25  2011-01-04 10:00:00       0.42     13313.0   \n",
       "2     539993     21498        25  2011-01-04 10:00:00       0.42     13313.0   \n",
       "3     539993     22379         5  2011-01-04 10:00:00       2.10     13313.0   \n",
       "4     539993     20718        10  2011-01-04 10:00:00       1.25     13313.0   \n",
       "5     539993    85099B        10  2011-01-04 10:00:00       1.95     13313.0   \n",
       "6     539993     20682         6  2011-01-04 10:00:00       3.25     13313.0   \n",
       "7     539993     22961        12  2011-01-04 10:00:00       1.45     13313.0   \n",
       "8     539993     22667         6  2011-01-04 10:00:00       2.95     13313.0   \n",
       "9     539993     22898         8  2011-01-04 10:00:00       1.95     13313.0   \n",
       "10    539993     22896         6  2011-01-04 10:00:00       2.55     13313.0   \n",
       "11    539993     22303         6  2011-01-04 10:00:00       2.55     13313.0   \n",
       "12    539993     22302         6  2011-01-04 10:00:00       2.55     13313.0   \n",
       "13    539993    85123A        12  2011-01-04 10:00:00       2.95     13313.0   \n",
       "14    539993     22808        12  2011-01-04 10:00:00       2.95     13313.0   \n",
       "15    539993     22458         8  2011-01-04 10:00:00       2.55     13313.0   \n",
       "16    539993     22862         4  2011-01-04 10:00:00       4.25     13313.0   \n",
       "\n",
       "           Country  \n",
       "0   United Kingdom  \n",
       "1   United Kingdom  \n",
       "2   United Kingdom  \n",
       "3   United Kingdom  \n",
       "4   United Kingdom  \n",
       "5   United Kingdom  \n",
       "6   United Kingdom  \n",
       "7   United Kingdom  \n",
       "8   United Kingdom  \n",
       "9   United Kingdom  \n",
       "10  United Kingdom  \n",
       "11  United Kingdom  \n",
       "12  United Kingdom  \n",
       "13  United Kingdom  \n",
       "14  United Kingdom  \n",
       "15  United Kingdom  \n",
       "16  United Kingdom  "
      ]
     },
     "execution_count": 13,
     "metadata": {},
     "output_type": "execute_result"
    }
   ],
   "source": [
    "df[df[\"InvoiceNo\"]=='539993']"
   ]
  },
  {
   "cell_type": "code",
   "execution_count": 14,
   "metadata": {},
   "outputs": [
    {
     "name": "stderr",
     "output_type": "stream",
     "text": [
      "C:\\Users\\Admin\\AppData\\Local\\Temp\\ipykernel_18348\\2692739157.py:5: FutureWarning: A value is trying to be set on a copy of a DataFrame or Series through chained assignment using an inplace method.\n",
      "The behavior will change in pandas 3.0. This inplace method will never work because the intermediate object on which we are setting values always behaves as a copy.\n",
      "\n",
      "For example, when doing 'df[col].method(value, inplace=True)', try using 'df.method({col: value}, inplace=True)' or df[col] = df[col].method(value) instead, to perform the operation inplace on the original object.\n",
      "\n",
      "\n",
      "  invoice_df['CustomerID'].fillna(fill_value, inplace=True)\n",
      "C:\\Users\\Admin\\AppData\\Local\\Temp\\ipykernel_18348\\2692739157.py:8: FutureWarning: A value is trying to be set on a copy of a DataFrame or Series through chained assignment using an inplace method.\n",
      "The behavior will change in pandas 3.0. This inplace method will never work because the intermediate object on which we are setting values always behaves as a copy.\n",
      "\n",
      "For example, when doing 'df[col].method(value, inplace=True)', try using 'df.method({col: value}, inplace=True)' or df[col] = df[col].method(value) instead, to perform the operation inplace on the original object.\n",
      "\n",
      "\n",
      "  invoice_df['CustomerID'].fillna('Unknown', inplace=True) # Ví dụ điền là Unknown\n",
      "C:\\Users\\Admin\\AppData\\Local\\Temp\\ipykernel_18348\\2692739157.py:8: FutureWarning: Setting an item of incompatible dtype is deprecated and will raise an error in a future version of pandas. Value 'Unknown' has dtype incompatible with float64, please explicitly cast to a compatible dtype first.\n",
      "  invoice_df['CustomerID'].fillna('Unknown', inplace=True) # Ví dụ điền là Unknown\n",
      "C:\\Users\\Admin\\AppData\\Local\\Temp\\ipykernel_18348\\2692739157.py:10: DeprecationWarning: DataFrameGroupBy.apply operated on the grouping columns. This behavior is deprecated, and in a future version of pandas the grouping columns will be excluded from the operation. Either pass `include_groups=False` to exclude the groupings or explicitly select the grouping columns after groupby to silence this warning.\n",
      "  df = df.groupby('InvoiceNo').apply(fill_invoice)\n"
     ]
    }
   ],
   "source": [
    "def fill_invoice(invoice_df):\n",
    "    valid_customer_ids = invoice_df['CustomerID'].dropna()\n",
    "    if not valid_customer_ids.empty:\n",
    "        fill_value = valid_customer_ids.iloc[0]  # Lấy giá trị đầu tiên\n",
    "        invoice_df['CustomerID'].fillna(fill_value, inplace=True)\n",
    "    else:\n",
    "        # Xử lý các InvoiceNo mà tất cả CustomerID đều bị thiếu\n",
    "        invoice_df['CustomerID'].fillna('Unknown', inplace=True) # Ví dụ điền là Unknown\n",
    "    return invoice_df\n",
    "df = df.groupby('InvoiceNo').apply(fill_invoice)"
   ]
  },
  {
   "cell_type": "code",
   "execution_count": 15,
   "metadata": {},
   "outputs": [
    {
     "name": "stdout",
     "output_type": "stream",
     "text": [
      "<class 'pandas.core.frame.DataFrame'>\n",
      "MultiIndex: 198451 entries, ('539993', np.int64(0)) to ('558637', np.int64(203421))\n",
      "Data columns (total 7 columns):\n",
      " #   Column       Non-Null Count   Dtype  \n",
      "---  ------       --------------   -----  \n",
      " 0   InvoiceNo    198451 non-null  object \n",
      " 1   StockCode    198451 non-null  object \n",
      " 2   Quantity     198451 non-null  int64  \n",
      " 3   InvoiceDate  198451 non-null  object \n",
      " 4   UnitPrice    198451 non-null  float64\n",
      " 5   CustomerID   198451 non-null  object \n",
      " 6   Country      198451 non-null  object \n",
      "dtypes: float64(1), int64(1), object(5)\n",
      "memory usage: 17.6+ MB\n"
     ]
    }
   ],
   "source": [
    "df.info()"
   ]
  },
  {
   "cell_type": "code",
   "execution_count": 16,
   "metadata": {},
   "outputs": [],
   "source": [
    "df['Cost'] = df[\"Quantity\"]*df['UnitPrice']"
   ]
  },
  {
   "cell_type": "code",
   "execution_count": 17,
   "metadata": {},
   "outputs": [
    {
     "data": {
      "text/plain": [
       "RangeIndex(start=0, stop=198451, step=1)"
      ]
     },
     "execution_count": 17,
     "metadata": {},
     "output_type": "execute_result"
    }
   ],
   "source": [
    "df.index = range(len(df))\n",
    "df.index"
   ]
  },
  {
   "cell_type": "code",
   "execution_count": 18,
   "metadata": {},
   "outputs": [
    {
     "data": {
      "application/vnd.microsoft.datawrangler.viewer.v0+json": {
       "columns": [
        {
         "name": "index",
         "rawType": "int64",
         "type": "integer"
        },
        {
         "name": "InvoiceNo",
         "rawType": "object",
         "type": "string"
        },
        {
         "name": "StockCode",
         "rawType": "object",
         "type": "string"
        },
        {
         "name": "Quantity",
         "rawType": "int64",
         "type": "integer"
        },
        {
         "name": "InvoiceDate",
         "rawType": "object",
         "type": "string"
        },
        {
         "name": "UnitPrice",
         "rawType": "float64",
         "type": "float"
        },
        {
         "name": "CustomerID",
         "rawType": "object",
         "type": "unknown"
        },
        {
         "name": "Country",
         "rawType": "object",
         "type": "string"
        },
        {
         "name": "Cost",
         "rawType": "float64",
         "type": "float"
        }
       ],
       "conversionMethod": "pd.DataFrame",
       "ref": "92e8deed-b063-4d3e-b2e3-d8ea686109c4",
       "rows": [
        [
         "0",
         "539993",
         "22386",
         "10",
         "2011-01-04 10:00:00",
         "1.95",
         "13313.0",
         "United Kingdom",
         "19.5"
        ],
        [
         "1",
         "539993",
         "21499",
         "25",
         "2011-01-04 10:00:00",
         "0.42",
         "13313.0",
         "United Kingdom",
         "10.5"
        ],
        [
         "2",
         "539993",
         "21498",
         "25",
         "2011-01-04 10:00:00",
         "0.42",
         "13313.0",
         "United Kingdom",
         "10.5"
        ],
        [
         "3",
         "539993",
         "22379",
         "5",
         "2011-01-04 10:00:00",
         "2.1",
         "13313.0",
         "United Kingdom",
         "10.5"
        ],
        [
         "4",
         "539993",
         "20718",
         "10",
         "2011-01-04 10:00:00",
         "1.25",
         "13313.0",
         "United Kingdom",
         "12.5"
        ]
       ],
       "shape": {
        "columns": 8,
        "rows": 5
       }
      },
      "text/html": [
       "<div>\n",
       "<style scoped>\n",
       "    .dataframe tbody tr th:only-of-type {\n",
       "        vertical-align: middle;\n",
       "    }\n",
       "\n",
       "    .dataframe tbody tr th {\n",
       "        vertical-align: top;\n",
       "    }\n",
       "\n",
       "    .dataframe thead th {\n",
       "        text-align: right;\n",
       "    }\n",
       "</style>\n",
       "<table border=\"1\" class=\"dataframe\">\n",
       "  <thead>\n",
       "    <tr style=\"text-align: right;\">\n",
       "      <th></th>\n",
       "      <th>InvoiceNo</th>\n",
       "      <th>StockCode</th>\n",
       "      <th>Quantity</th>\n",
       "      <th>InvoiceDate</th>\n",
       "      <th>UnitPrice</th>\n",
       "      <th>CustomerID</th>\n",
       "      <th>Country</th>\n",
       "      <th>Cost</th>\n",
       "    </tr>\n",
       "  </thead>\n",
       "  <tbody>\n",
       "    <tr>\n",
       "      <th>0</th>\n",
       "      <td>539993</td>\n",
       "      <td>22386</td>\n",
       "      <td>10</td>\n",
       "      <td>2011-01-04 10:00:00</td>\n",
       "      <td>1.95</td>\n",
       "      <td>13313.0</td>\n",
       "      <td>United Kingdom</td>\n",
       "      <td>19.5</td>\n",
       "    </tr>\n",
       "    <tr>\n",
       "      <th>1</th>\n",
       "      <td>539993</td>\n",
       "      <td>21499</td>\n",
       "      <td>25</td>\n",
       "      <td>2011-01-04 10:00:00</td>\n",
       "      <td>0.42</td>\n",
       "      <td>13313.0</td>\n",
       "      <td>United Kingdom</td>\n",
       "      <td>10.5</td>\n",
       "    </tr>\n",
       "    <tr>\n",
       "      <th>2</th>\n",
       "      <td>539993</td>\n",
       "      <td>21498</td>\n",
       "      <td>25</td>\n",
       "      <td>2011-01-04 10:00:00</td>\n",
       "      <td>0.42</td>\n",
       "      <td>13313.0</td>\n",
       "      <td>United Kingdom</td>\n",
       "      <td>10.5</td>\n",
       "    </tr>\n",
       "    <tr>\n",
       "      <th>3</th>\n",
       "      <td>539993</td>\n",
       "      <td>22379</td>\n",
       "      <td>5</td>\n",
       "      <td>2011-01-04 10:00:00</td>\n",
       "      <td>2.10</td>\n",
       "      <td>13313.0</td>\n",
       "      <td>United Kingdom</td>\n",
       "      <td>10.5</td>\n",
       "    </tr>\n",
       "    <tr>\n",
       "      <th>4</th>\n",
       "      <td>539993</td>\n",
       "      <td>20718</td>\n",
       "      <td>10</td>\n",
       "      <td>2011-01-04 10:00:00</td>\n",
       "      <td>1.25</td>\n",
       "      <td>13313.0</td>\n",
       "      <td>United Kingdom</td>\n",
       "      <td>12.5</td>\n",
       "    </tr>\n",
       "  </tbody>\n",
       "</table>\n",
       "</div>"
      ],
      "text/plain": [
       "  InvoiceNo StockCode  Quantity          InvoiceDate  UnitPrice CustomerID  \\\n",
       "0    539993     22386        10  2011-01-04 10:00:00       1.95    13313.0   \n",
       "1    539993     21499        25  2011-01-04 10:00:00       0.42    13313.0   \n",
       "2    539993     21498        25  2011-01-04 10:00:00       0.42    13313.0   \n",
       "3    539993     22379         5  2011-01-04 10:00:00       2.10    13313.0   \n",
       "4    539993     20718        10  2011-01-04 10:00:00       1.25    13313.0   \n",
       "\n",
       "          Country  Cost  \n",
       "0  United Kingdom  19.5  \n",
       "1  United Kingdom  10.5  \n",
       "2  United Kingdom  10.5  \n",
       "3  United Kingdom  10.5  \n",
       "4  United Kingdom  12.5  "
      ]
     },
     "execution_count": 18,
     "metadata": {},
     "output_type": "execute_result"
    }
   ],
   "source": [
    "df.head()"
   ]
  },
  {
   "cell_type": "code",
   "execution_count": 19,
   "metadata": {},
   "outputs": [
    {
     "name": "stdout",
     "output_type": "stream",
     "text": [
      "<class 'pandas.core.frame.DataFrame'>\n",
      "RangeIndex: 198451 entries, 0 to 198450\n",
      "Data columns (total 8 columns):\n",
      " #   Column       Non-Null Count   Dtype  \n",
      "---  ------       --------------   -----  \n",
      " 0   InvoiceNo    198451 non-null  object \n",
      " 1   StockCode    198451 non-null  object \n",
      " 2   Quantity     198451 non-null  int64  \n",
      " 3   InvoiceDate  198451 non-null  object \n",
      " 4   UnitPrice    198451 non-null  float64\n",
      " 5   CustomerID   198451 non-null  object \n",
      " 6   Country      198451 non-null  object \n",
      " 7   Cost         198451 non-null  float64\n",
      "dtypes: float64(2), int64(1), object(5)\n",
      "memory usage: 12.1+ MB\n"
     ]
    }
   ],
   "source": [
    "df.info()"
   ]
  },
  {
   "cell_type": "code",
   "execution_count": 20,
   "metadata": {},
   "outputs": [
    {
     "data": {
      "application/vnd.microsoft.datawrangler.viewer.v0+json": {
       "columns": [
        {
         "name": "index",
         "rawType": "object",
         "type": "string"
        },
        {
         "name": "Cost",
         "rawType": "float64",
         "type": "float"
        }
       ],
       "conversionMethod": "pd.DataFrame",
       "ref": "d3cc2a18-a84d-41b3-ac3a-1dd7a4c98e2f",
       "rows": [
        [
         "count",
         "8100.0"
        ],
        [
         "mean",
         "494.16300629629626"
        ],
        [
         "std",
         "1347.592400096186"
        ],
        [
         "min",
         "0.55"
        ],
        [
         "25%",
         "150.29000000000002"
        ],
        [
         "50%",
         "302.445"
        ],
        [
         "75%",
         "490.805"
        ],
        [
         "max",
         "77183.6"
        ]
       ],
       "shape": {
        "columns": 1,
        "rows": 8
       }
      },
      "text/html": [
       "<div>\n",
       "<style scoped>\n",
       "    .dataframe tbody tr th:only-of-type {\n",
       "        vertical-align: middle;\n",
       "    }\n",
       "\n",
       "    .dataframe tbody tr th {\n",
       "        vertical-align: top;\n",
       "    }\n",
       "\n",
       "    .dataframe thead th {\n",
       "        text-align: right;\n",
       "    }\n",
       "</style>\n",
       "<table border=\"1\" class=\"dataframe\">\n",
       "  <thead>\n",
       "    <tr style=\"text-align: right;\">\n",
       "      <th></th>\n",
       "      <th>Cost</th>\n",
       "    </tr>\n",
       "  </thead>\n",
       "  <tbody>\n",
       "    <tr>\n",
       "      <th>count</th>\n",
       "      <td>8100.000000</td>\n",
       "    </tr>\n",
       "    <tr>\n",
       "      <th>mean</th>\n",
       "      <td>494.163006</td>\n",
       "    </tr>\n",
       "    <tr>\n",
       "      <th>std</th>\n",
       "      <td>1347.592400</td>\n",
       "    </tr>\n",
       "    <tr>\n",
       "      <th>min</th>\n",
       "      <td>0.550000</td>\n",
       "    </tr>\n",
       "    <tr>\n",
       "      <th>25%</th>\n",
       "      <td>150.290000</td>\n",
       "    </tr>\n",
       "    <tr>\n",
       "      <th>50%</th>\n",
       "      <td>302.445000</td>\n",
       "    </tr>\n",
       "    <tr>\n",
       "      <th>75%</th>\n",
       "      <td>490.805000</td>\n",
       "    </tr>\n",
       "    <tr>\n",
       "      <th>max</th>\n",
       "      <td>77183.600000</td>\n",
       "    </tr>\n",
       "  </tbody>\n",
       "</table>\n",
       "</div>"
      ],
      "text/plain": [
       "               Cost\n",
       "count   8100.000000\n",
       "mean     494.163006\n",
       "std     1347.592400\n",
       "min        0.550000\n",
       "25%      150.290000\n",
       "50%      302.445000\n",
       "75%      490.805000\n",
       "max    77183.600000"
      ]
     },
     "execution_count": 20,
     "metadata": {},
     "output_type": "execute_result"
    }
   ],
   "source": [
    "df_invoice = df[['InvoiceNo',\"Cost\"]].groupby('InvoiceNo').sum()\n",
    "df_invoice.describe()"
   ]
  },
  {
   "cell_type": "code",
   "execution_count": 25,
   "metadata": {},
   "outputs": [
    {
     "data": {
      "image/png": "[encoded data removed]",
      "text/plain": [
       "<Figure size 1500x600 with 1 Axes>"
      ]
     },
     "metadata": {},
     "output_type": "display_data"
    }
   ],
   "source": [
    "# Lấy mẫu dữ liệu (ví dụ: lấy mỗi 10 InvoiceNo)\n",
    "df_sampled = df_invoice.iloc[::10]\n",
    "\n",
    "plt.figure(figsize=(15, 6))\n",
    "plt.scatter(df_sampled.index, df_sampled['Cost'])\n",
    "plt.title('Phân tán tổng chi phí theo hóa đơn (lấy mẫu)')\n",
    "plt.xlabel('InvoiceNo')\n",
    "plt.ylabel('Tổng chi phí')\n",
    "plt.show()"
   ]
  },
  {
   "cell_type": "code",
   "execution_count": 26,
   "metadata": {},
   "outputs": [
    {
     "data": {
      "image/png": "[encoded data removed]",
      "text/plain": [
       "<Figure size 800x600 with 1 Axes>"
      ]
     },
     "metadata": {},
     "output_type": "display_data"
    },
    {
     "data": {
      "image/png": "[encoded data removed]",
      "text/plain": [
       "<Figure size 800x600 with 1 Axes>"
      ]
     },
     "metadata": {},
     "output_type": "display_data"
    }
   ],
   "source": [
    "plt.figure(figsize=(8, 6))\n",
    "sns.boxplot(y=df_invoice['Cost'])\n",
    "plt.title('Phân phối tổng chi phí')\n",
    "plt.ylabel('Tổng chi phí')\n",
    "plt.show()\n",
    "\n",
    "# Hoặc sử dụng violin plot\n",
    "plt.figure(figsize=(8, 6))\n",
    "sns.violinplot(y=df_invoice['Cost'])\n",
    "plt.title('Phân phối tổng chi phí (violin plot)')\n",
    "plt.ylabel('Tổng chi phí')\n",
    "plt.show()"
   ]
  },
  {
   "cell_type": "code",
   "execution_count": 27,
   "metadata": {},
   "outputs": [
    {
     "data": {
      "image/png": "[encoded data removed]",
      "text/plain": [
       "<Figure size 800x600 with 1 Axes>"
      ]
     },
     "metadata": {},
     "output_type": "display_data"
    }
   ],
   "source": [
    "plt.figure(figsize=(8, 6))\n",
    "sns.histplot(df_invoice['Cost'], bins=20, kde=True)\n",
    "plt.title('Phân phối tần suất tổng chi phí')\n",
    "plt.xlabel('Tổng chi phí')\n",
    "plt.ylabel('Tần suất')\n",
    "plt.show()"
   ]
  },
  {
   "cell_type": "code",
   "execution_count": 28,
   "metadata": {},
   "outputs": [
    {
     "data": {
      "image/png": "[encoded data removed]",
      "text/plain": [
       "<Figure size 800x600 with 1 Axes>"
      ]
     },
     "metadata": {},
     "output_type": "display_data"
    }
   ],
   "source": [
    "# Vẽ boxplot cho cột Cost\n",
    "plt.figure(figsize=(8, 6))\n",
    "sns.boxplot(y=df_invoice['Cost'])\n",
    "plt.title('Boxplot của Cost')\n",
    "plt.ylabel('Cost')\n",
    "plt.show()"
   ]
  },
  {
   "cell_type": "code",
   "execution_count": 30,
   "metadata": {},
   "outputs": [
    {
     "name": "stdout",
     "output_type": "stream",
     "text": [
      "Outliers:\n",
      "              Cost\n",
      "InvoiceNo         \n",
      "540026     3900.62\n",
      "540122     1179.60\n",
      "540126     1209.10\n",
      "540154     1854.39\n",
      "540157     1145.33\n",
      "...            ...\n",
      "558536     1466.32\n",
      "558540     2662.17\n",
      "558552     1948.92\n",
      "558554     2390.40\n",
      "558614     2962.33\n",
      "\n",
      "[694 rows x 1 columns]\n"
     ]
    }
   ],
   "source": [
    "# Xác định outliers\n",
    "Q1 = df_invoice['Cost'].quantile(0.25)\n",
    "Q3 = df_invoice['Cost'].quantile(0.75)\n",
    "IQR = Q3 - Q1\n",
    "\n",
    "lower_bound = Q1 - 1.5 * IQR\n",
    "upper_bound = Q3 + 1.5 * IQR\n",
    "\n",
    "outliers = df_invoice[(df_invoice['Cost'] < lower_bound) | (df_invoice['Cost'] > upper_bound)]\n",
    "print(\"Outliers:\")\n",
    "print(outliers)\n"
   ]
  },
  {
   "cell_type": "code",
   "execution_count": 36,
   "metadata": {},
   "outputs": [
    {
     "data": {
      "image/png": "[encoded data removed]",
      "text/plain": [
       "<Figure size 640x480 with 1 Axes>"
      ]
     },
     "metadata": {},
     "output_type": "display_data"
    }
   ],
   "source": [
    "df[[\"Country\",'Cost']].groupby('Country').sum().plot.barh();"
   ]
  },
  {
   "cell_type": "code",
   "execution_count": 39,
   "metadata": {},
   "outputs": [
    {
     "name": "stdout",
     "output_type": "stream",
     "text": [
      "datetime64[ns]\n"
     ]
    }
   ],
   "source": [
    "df['InvoiceDate'] = pd.to_datetime(df['InvoiceDate'])\n",
    "# Kiểm tra kiểu dữ liệu của cột InvoiceDate\n",
    "print(df['InvoiceDate'].dtype)"
   ]
  },
  {
   "cell_type": "code",
   "execution_count": 40,
   "metadata": {},
   "outputs": [
    {
     "data": {
      "application/vnd.microsoft.datawrangler.viewer.v0+json": {
       "columns": [
        {
         "name": "index",
         "rawType": "int64",
         "type": "integer"
        },
        {
         "name": "InvoiceNo",
         "rawType": "object",
         "type": "string"
        },
        {
         "name": "StockCode",
         "rawType": "object",
         "type": "string"
        },
        {
         "name": "Quantity",
         "rawType": "int64",
         "type": "integer"
        },
        {
         "name": "InvoiceDate",
         "rawType": "datetime64[ns]",
         "type": "datetime"
        },
        {
         "name": "UnitPrice",
         "rawType": "float64",
         "type": "float"
        },
        {
         "name": "CustomerID",
         "rawType": "object",
         "type": "unknown"
        },
        {
         "name": "Country",
         "rawType": "object",
         "type": "string"
        },
        {
         "name": "Cost",
         "rawType": "float64",
         "type": "float"
        }
       ],
       "conversionMethod": "pd.DataFrame",
       "ref": "3ec5dfb3-eec2-43e2-a6dd-ba948e968ea6",
       "rows": [
        [
         "0",
         "539993",
         "22386",
         "10",
         "2011-01-04 10:00:00",
         "1.95",
         "13313.0",
         "United Kingdom",
         "19.5"
        ],
        [
         "1",
         "539993",
         "21499",
         "25",
         "2011-01-04 10:00:00",
         "0.42",
         "13313.0",
         "United Kingdom",
         "10.5"
        ],
        [
         "2",
         "539993",
         "21498",
         "25",
         "2011-01-04 10:00:00",
         "0.42",
         "13313.0",
         "United Kingdom",
         "10.5"
        ],
        [
         "3",
         "539993",
         "22379",
         "5",
         "2011-01-04 10:00:00",
         "2.1",
         "13313.0",
         "United Kingdom",
         "10.5"
        ],
        [
         "4",
         "539993",
         "20718",
         "10",
         "2011-01-04 10:00:00",
         "1.25",
         "13313.0",
         "United Kingdom",
         "12.5"
        ]
       ],
       "shape": {
        "columns": 8,
        "rows": 5
       }
      },
      "text/html": [
       "<div>\n",
       "<style scoped>\n",
       "    .dataframe tbody tr th:only-of-type {\n",
       "        vertical-align: middle;\n",
       "    }\n",
       "\n",
       "    .dataframe tbody tr th {\n",
       "        vertical-align: top;\n",
       "    }\n",
       "\n",
       "    .dataframe thead th {\n",
       "        text-align: right;\n",
       "    }\n",
       "</style>\n",
       "<table border=\"1\" class=\"dataframe\">\n",
       "  <thead>\n",
       "    <tr style=\"text-align: right;\">\n",
       "      <th></th>\n",
       "      <th>InvoiceNo</th>\n",
       "      <th>StockCode</th>\n",
       "      <th>Quantity</th>\n",
       "      <th>InvoiceDate</th>\n",
       "      <th>UnitPrice</th>\n",
       "      <th>CustomerID</th>\n",
       "      <th>Country</th>\n",
       "      <th>Cost</th>\n",
       "    </tr>\n",
       "  </thead>\n",
       "  <tbody>\n",
       "    <tr>\n",
       "      <th>0</th>\n",
       "      <td>539993</td>\n",
       "      <td>22386</td>\n",
       "      <td>10</td>\n",
       "      <td>2011-01-04 10:00:00</td>\n",
       "      <td>1.95</td>\n",
       "      <td>13313.0</td>\n",
       "      <td>United Kingdom</td>\n",
       "      <td>19.5</td>\n",
       "    </tr>\n",
       "    <tr>\n",
       "      <th>1</th>\n",
       "      <td>539993</td>\n",
       "      <td>21499</td>\n",
       "      <td>25</td>\n",
       "      <td>2011-01-04 10:00:00</td>\n",
       "      <td>0.42</td>\n",
       "      <td>13313.0</td>\n",
       "      <td>United Kingdom</td>\n",
       "      <td>10.5</td>\n",
       "    </tr>\n",
       "    <tr>\n",
       "      <th>2</th>\n",
       "      <td>539993</td>\n",
       "      <td>21498</td>\n",
       "      <td>25</td>\n",
       "      <td>2011-01-04 10:00:00</td>\n",
       "      <td>0.42</td>\n",
       "      <td>13313.0</td>\n",
       "      <td>United Kingdom</td>\n",
       "      <td>10.5</td>\n",
       "    </tr>\n",
       "    <tr>\n",
       "      <th>3</th>\n",
       "      <td>539993</td>\n",
       "      <td>22379</td>\n",
       "      <td>5</td>\n",
       "      <td>2011-01-04 10:00:00</td>\n",
       "      <td>2.10</td>\n",
       "      <td>13313.0</td>\n",
       "      <td>United Kingdom</td>\n",
       "      <td>10.5</td>\n",
       "    </tr>\n",
       "    <tr>\n",
       "      <th>4</th>\n",
       "      <td>539993</td>\n",
       "      <td>20718</td>\n",
       "      <td>10</td>\n",
       "      <td>2011-01-04 10:00:00</td>\n",
       "      <td>1.25</td>\n",
       "      <td>13313.0</td>\n",
       "      <td>United Kingdom</td>\n",
       "      <td>12.5</td>\n",
       "    </tr>\n",
       "  </tbody>\n",
       "</table>\n",
       "</div>"
      ],
      "text/plain": [
       "  InvoiceNo StockCode  Quantity         InvoiceDate  UnitPrice CustomerID  \\\n",
       "0    539993     22386        10 2011-01-04 10:00:00       1.95    13313.0   \n",
       "1    539993     21499        25 2011-01-04 10:00:00       0.42    13313.0   \n",
       "2    539993     21498        25 2011-01-04 10:00:00       0.42    13313.0   \n",
       "3    539993     22379         5 2011-01-04 10:00:00       2.10    13313.0   \n",
       "4    539993     20718        10 2011-01-04 10:00:00       1.25    13313.0   \n",
       "\n",
       "          Country  Cost  \n",
       "0  United Kingdom  19.5  \n",
       "1  United Kingdom  10.5  \n",
       "2  United Kingdom  10.5  \n",
       "3  United Kingdom  10.5  \n",
       "4  United Kingdom  12.5  "
      ]
     },
     "execution_count": 40,
     "metadata": {},
     "output_type": "execute_result"
    }
   ],
   "source": [
    "df.head()"
   ]
  },
  {
   "cell_type": "code",
   "execution_count": 44,
   "metadata": {},
   "outputs": [
    {
     "data": {
      "text/plain": [
       "Timedelta('5195 days 23:24:26.280316')"
      ]
     },
     "execution_count": 44,
     "metadata": {},
     "output_type": "execute_result"
    }
   ],
   "source": [
    "import datetime\n",
    "now = datetime.datetime.now()\n",
    "now - df['InvoiceDate'][0]"
   ]
  },
  {
   "cell_type": "code",
   "execution_count": null,
   "metadata": {},
   "outputs": [],
   "source": []
  }
 ],
 "metadata": {
  "kernelspec": {
   "display_name": "env-teaching",
   "language": "python",
   "name": "python3"
  },
  "language_info": {
   "codemirror_mode": {
    "name": "ipython",
    "version": 3
   },
   "file_extension": ".py",
   "mimetype": "text/x-python",
   "name": "python",
   "nbconvert_exporter": "python",
   "pygments_lexer": "ipython3",
   "version": "3.11.7"
  }
 },
 "nbformat": 4,
 "nbformat_minor": 2
}
