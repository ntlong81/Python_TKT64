{
 "cells": [
  {
   "cell_type": "markdown",
   "metadata": {},
   "source": [
    "## K-means to segment customer based on RFM"
   ]
  },
  {
   "cell_type": "code",
   "execution_count": 1,
   "metadata": {},
   "outputs": [],
   "source": [
    "import numpy as np\n",
    "import pandas as pd\n",
    "import matplotlib.pyplot as plt\n",
    "import seaborn as sns\n",
    "import datetime"
   ]
  },
  {
   "cell_type": "code",
   "execution_count": 2,
   "metadata": {},
   "outputs": [
    {
     "data": {
      "application/vnd.microsoft.datawrangler.viewer.v0+json": {
       "columns": [
        {
         "name": "index",
         "rawType": "int64",
         "type": "integer"
        },
        {
         "name": "InvoiceNo",
         "rawType": "object",
         "type": "string"
        },
        {
         "name": "StockCode",
         "rawType": "object",
         "type": "string"
        },
        {
         "name": "Description",
         "rawType": "object",
         "type": "string"
        },
        {
         "name": "Quantity",
         "rawType": "int64",
         "type": "integer"
        },
        {
         "name": "InvoiceDate",
         "rawType": "object",
         "type": "string"
        },
        {
         "name": "UnitPrice",
         "rawType": "float64",
         "type": "float"
        },
        {
         "name": "CustomerID",
         "rawType": "float64",
         "type": "float"
        },
        {
         "name": "Country",
         "rawType": "object",
         "type": "string"
        }
       ],
       "conversionMethod": "pd.DataFrame",
       "ref": "cfbebf3d-629d-4985-957f-821606b0a8c1",
       "rows": [
        [
         "0",
         "539993",
         "22386",
         "JUMBO BAG PINK POLKADOT",
         "10",
         "2011-01-04 10:00:00",
         "1.95",
         "13313.0",
         "United Kingdom"
        ],
        [
         "1",
         "539993",
         "21499",
         "BLUE POLKADOT WRAP",
         "25",
         "2011-01-04 10:00:00",
         "0.42",
         "13313.0",
         "United Kingdom"
        ],
        [
         "2",
         "539993",
         "21498",
         "RED RETROSPOT WRAP ",
         "25",
         "2011-01-04 10:00:00",
         "0.42",
         "13313.0",
         "United Kingdom"
        ],
        [
         "3",
         "539993",
         "22379",
         "RECYCLING BAG RETROSPOT ",
         "5",
         "2011-01-04 10:00:00",
         "2.1",
         "13313.0",
         "United Kingdom"
        ],
        [
         "4",
         "539993",
         "20718",
         "RED RETROSPOT SHOPPER BAG",
         "10",
         "2011-01-04 10:00:00",
         "1.25",
         "13313.0",
         "United Kingdom"
        ]
       ],
       "shape": {
        "columns": 8,
        "rows": 5
       }
      },
      "text/html": [
       "<div>\n",
       "<style scoped>\n",
       "    .dataframe tbody tr th:only-of-type {\n",
       "        vertical-align: middle;\n",
       "    }\n",
       "\n",
       "    .dataframe tbody tr th {\n",
       "        vertical-align: top;\n",
       "    }\n",
       "\n",
       "    .dataframe thead th {\n",
       "        text-align: right;\n",
       "    }\n",
       "</style>\n",
       "<table border=\"1\" class=\"dataframe\">\n",
       "  <thead>\n",
       "    <tr style=\"text-align: right;\">\n",
       "      <th></th>\n",
       "      <th>InvoiceNo</th>\n",
       "      <th>StockCode</th>\n",
       "      <th>Description</th>\n",
       "      <th>Quantity</th>\n",
       "      <th>InvoiceDate</th>\n",
       "      <th>UnitPrice</th>\n",
       "      <th>CustomerID</th>\n",
       "      <th>Country</th>\n",
       "    </tr>\n",
       "  </thead>\n",
       "  <tbody>\n",
       "    <tr>\n",
       "      <th>0</th>\n",
       "      <td>539993</td>\n",
       "      <td>22386</td>\n",
       "      <td>JUMBO BAG PINK POLKADOT</td>\n",
       "      <td>10</td>\n",
       "      <td>2011-01-04 10:00:00</td>\n",
       "      <td>1.95</td>\n",
       "      <td>13313.0</td>\n",
       "      <td>United Kingdom</td>\n",
       "    </tr>\n",
       "    <tr>\n",
       "      <th>1</th>\n",
       "      <td>539993</td>\n",
       "      <td>21499</td>\n",
       "      <td>BLUE POLKADOT WRAP</td>\n",
       "      <td>25</td>\n",
       "      <td>2011-01-04 10:00:00</td>\n",
       "      <td>0.42</td>\n",
       "      <td>13313.0</td>\n",
       "      <td>United Kingdom</td>\n",
       "    </tr>\n",
       "    <tr>\n",
       "      <th>2</th>\n",
       "      <td>539993</td>\n",
       "      <td>21498</td>\n",
       "      <td>RED RETROSPOT WRAP</td>\n",
       "      <td>25</td>\n",
       "      <td>2011-01-04 10:00:00</td>\n",
       "      <td>0.42</td>\n",
       "      <td>13313.0</td>\n",
       "      <td>United Kingdom</td>\n",
       "    </tr>\n",
       "    <tr>\n",
       "      <th>3</th>\n",
       "      <td>539993</td>\n",
       "      <td>22379</td>\n",
       "      <td>RECYCLING BAG RETROSPOT</td>\n",
       "      <td>5</td>\n",
       "      <td>2011-01-04 10:00:00</td>\n",
       "      <td>2.10</td>\n",
       "      <td>13313.0</td>\n",
       "      <td>United Kingdom</td>\n",
       "    </tr>\n",
       "    <tr>\n",
       "      <th>4</th>\n",
       "      <td>539993</td>\n",
       "      <td>20718</td>\n",
       "      <td>RED RETROSPOT SHOPPER BAG</td>\n",
       "      <td>10</td>\n",
       "      <td>2011-01-04 10:00:00</td>\n",
       "      <td>1.25</td>\n",
       "      <td>13313.0</td>\n",
       "      <td>United Kingdom</td>\n",
       "    </tr>\n",
       "  </tbody>\n",
       "</table>\n",
       "</div>"
      ],
      "text/plain": [
       "  InvoiceNo StockCode                Description  Quantity  \\\n",
       "0    539993     22386    JUMBO BAG PINK POLKADOT        10   \n",
       "1    539993     21499         BLUE POLKADOT WRAP        25   \n",
       "2    539993     21498        RED RETROSPOT WRAP         25   \n",
       "3    539993     22379   RECYCLING BAG RETROSPOT          5   \n",
       "4    539993     20718  RED RETROSPOT SHOPPER BAG        10   \n",
       "\n",
       "           InvoiceDate  UnitPrice  CustomerID         Country  \n",
       "0  2011-01-04 10:00:00       1.95     13313.0  United Kingdom  \n",
       "1  2011-01-04 10:00:00       0.42     13313.0  United Kingdom  \n",
       "2  2011-01-04 10:00:00       0.42     13313.0  United Kingdom  \n",
       "3  2011-01-04 10:00:00       2.10     13313.0  United Kingdom  \n",
       "4  2011-01-04 10:00:00       1.25     13313.0  United Kingdom  "
      ]
     },
     "execution_count": 2,
     "metadata": {},
     "output_type": "execute_result"
    }
   ],
   "source": [
    "df = pd.read_csv('Onlineretail.csv')\n",
    "df.head()"
   ]
  },
  {
   "cell_type": "code",
   "execution_count": 3,
   "metadata": {},
   "outputs": [
    {
     "data": {
      "application/vnd.microsoft.datawrangler.viewer.v0+json": {
       "columns": [
        {
         "name": "index",
         "rawType": "object",
         "type": "string"
        },
        {
         "name": "Quantity",
         "rawType": "float64",
         "type": "float"
        },
        {
         "name": "UnitPrice",
         "rawType": "float64",
         "type": "float"
        },
        {
         "name": "CustomerID",
         "rawType": "float64",
         "type": "float"
        }
       ],
       "conversionMethod": "pd.DataFrame",
       "ref": "aef0280a-90ad-40b7-ac02-27dad8b249d9",
       "rows": [
        [
         "count",
         "203422.0",
         "203422.0",
         "150039.0"
        ],
        [
         "mean",
         "9.585683947655612",
         "4.877819709765905",
         "15240.234832276941"
        ],
        [
         "std",
         "240.92131484706707",
         "113.6866757268038",
         "1717.6584928935238"
        ],
        [
         "min",
         "-74215.0",
         "0.0",
         "12346.0"
        ],
        [
         "25%",
         "1.0",
         "1.25",
         "13791.0"
        ],
        [
         "50%",
         "3.0",
         "2.1",
         "15061.0"
        ],
        [
         "75%",
         "10.0",
         "4.13",
         "16771.0"
        ],
        [
         "max",
         "74215.0",
         "38970.0",
         "18287.0"
        ]
       ],
       "shape": {
        "columns": 3,
        "rows": 8
       }
      },
      "text/html": [
       "<div>\n",
       "<style scoped>\n",
       "    .dataframe tbody tr th:only-of-type {\n",
       "        vertical-align: middle;\n",
       "    }\n",
       "\n",
       "    .dataframe tbody tr th {\n",
       "        vertical-align: top;\n",
       "    }\n",
       "\n",
       "    .dataframe thead th {\n",
       "        text-align: right;\n",
       "    }\n",
       "</style>\n",
       "<table border=\"1\" class=\"dataframe\">\n",
       "  <thead>\n",
       "    <tr style=\"text-align: right;\">\n",
       "      <th></th>\n",
       "      <th>Quantity</th>\n",
       "      <th>UnitPrice</th>\n",
       "      <th>CustomerID</th>\n",
       "    </tr>\n",
       "  </thead>\n",
       "  <tbody>\n",
       "    <tr>\n",
       "      <th>count</th>\n",
       "      <td>203422.000000</td>\n",
       "      <td>203422.000000</td>\n",
       "      <td>150039.000000</td>\n",
       "    </tr>\n",
       "    <tr>\n",
       "      <th>mean</th>\n",
       "      <td>9.585684</td>\n",
       "      <td>4.877820</td>\n",
       "      <td>15240.234832</td>\n",
       "    </tr>\n",
       "    <tr>\n",
       "      <th>std</th>\n",
       "      <td>240.921315</td>\n",
       "      <td>113.686676</td>\n",
       "      <td>1717.658493</td>\n",
       "    </tr>\n",
       "    <tr>\n",
       "      <th>min</th>\n",
       "      <td>-74215.000000</td>\n",
       "      <td>0.000000</td>\n",
       "      <td>12346.000000</td>\n",
       "    </tr>\n",
       "    <tr>\n",
       "      <th>25%</th>\n",
       "      <td>1.000000</td>\n",
       "      <td>1.250000</td>\n",
       "      <td>13791.000000</td>\n",
       "    </tr>\n",
       "    <tr>\n",
       "      <th>50%</th>\n",
       "      <td>3.000000</td>\n",
       "      <td>2.100000</td>\n",
       "      <td>15061.000000</td>\n",
       "    </tr>\n",
       "    <tr>\n",
       "      <th>75%</th>\n",
       "      <td>10.000000</td>\n",
       "      <td>4.130000</td>\n",
       "      <td>16771.000000</td>\n",
       "    </tr>\n",
       "    <tr>\n",
       "      <th>max</th>\n",
       "      <td>74215.000000</td>\n",
       "      <td>38970.000000</td>\n",
       "      <td>18287.000000</td>\n",
       "    </tr>\n",
       "  </tbody>\n",
       "</table>\n",
       "</div>"
      ],
      "text/plain": [
       "            Quantity      UnitPrice     CustomerID\n",
       "count  203422.000000  203422.000000  150039.000000\n",
       "mean        9.585684       4.877820   15240.234832\n",
       "std       240.921315     113.686676    1717.658493\n",
       "min    -74215.000000       0.000000   12346.000000\n",
       "25%         1.000000       1.250000   13791.000000\n",
       "50%         3.000000       2.100000   15061.000000\n",
       "75%        10.000000       4.130000   16771.000000\n",
       "max     74215.000000   38970.000000   18287.000000"
      ]
     },
     "execution_count": 3,
     "metadata": {},
     "output_type": "execute_result"
    }
   ],
   "source": [
    "df.describe()"
   ]
  },
  {
   "cell_type": "code",
   "execution_count": 4,
   "metadata": {},
   "outputs": [
    {
     "name": "stdout",
     "output_type": "stream",
     "text": [
      "<class 'pandas.core.frame.DataFrame'>\n",
      "RangeIndex: 203422 entries, 0 to 203421\n",
      "Data columns (total 8 columns):\n",
      " #   Column       Non-Null Count   Dtype  \n",
      "---  ------       --------------   -----  \n",
      " 0   InvoiceNo    203422 non-null  object \n",
      " 1   StockCode    203422 non-null  object \n",
      " 2   Description  202623 non-null  object \n",
      " 3   Quantity     203422 non-null  int64  \n",
      " 4   InvoiceDate  203422 non-null  object \n",
      " 5   UnitPrice    203422 non-null  float64\n",
      " 6   CustomerID   150039 non-null  float64\n",
      " 7   Country      203422 non-null  object \n",
      "dtypes: float64(2), int64(1), object(5)\n",
      "memory usage: 12.4+ MB\n"
     ]
    }
   ],
   "source": [
    "df.info()"
   ]
  },
  {
   "cell_type": "code",
   "execution_count": 5,
   "metadata": {},
   "outputs": [
    {
     "data": {
      "text/plain": [
       "InvoiceNo          0\n",
       "StockCode          0\n",
       "Description      799\n",
       "Quantity           0\n",
       "InvoiceDate        0\n",
       "UnitPrice          0\n",
       "CustomerID     53383\n",
       "Country            0\n",
       "dtype: int64"
      ]
     },
     "execution_count": 5,
     "metadata": {},
     "output_type": "execute_result"
    }
   ],
   "source": [
    "df.isnull().sum()"
   ]
  },
  {
   "cell_type": "code",
   "execution_count": 6,
   "metadata": {},
   "outputs": [
    {
     "data": {
      "text/plain": [
       "Index(['InvoiceNo', 'Quantity', 'InvoiceDate', 'UnitPrice', 'CustomerID'], dtype='object')"
      ]
     },
     "execution_count": 6,
     "metadata": {},
     "output_type": "execute_result"
    }
   ],
   "source": [
    "df_rfm = df.drop(columns=['Description',\"Country\", 'StockCode'])\n",
    "df_rfm.columns"
   ]
  },
  {
   "cell_type": "code",
   "execution_count": 7,
   "metadata": {},
   "outputs": [
    {
     "name": "stdout",
     "output_type": "stream",
     "text": [
      "<class 'pandas.core.frame.DataFrame'>\n",
      "Index: 198451 entries, 0 to 203421\n",
      "Data columns (total 5 columns):\n",
      " #   Column       Non-Null Count   Dtype  \n",
      "---  ------       --------------   -----  \n",
      " 0   InvoiceNo    198451 non-null  object \n",
      " 1   Quantity     198451 non-null  int64  \n",
      " 2   InvoiceDate  198451 non-null  object \n",
      " 3   UnitPrice    198451 non-null  float64\n",
      " 4   CustomerID   146478 non-null  float64\n",
      "dtypes: float64(2), int64(1), object(2)\n",
      "memory usage: 9.1+ MB\n"
     ]
    }
   ],
   "source": [
    "df_rfm = df_rfm[df_rfm['Quantity']>0]\n",
    "df_rfm = df_rfm[df_rfm['UnitPrice']>0]\n",
    "df_rfm.info()"
   ]
  },
  {
   "cell_type": "code",
   "execution_count": 8,
   "metadata": {},
   "outputs": [
    {
     "data": {
      "text/plain": [
       "InvoiceNo          0\n",
       "Quantity           0\n",
       "InvoiceDate        0\n",
       "UnitPrice          0\n",
       "CustomerID     51973\n",
       "dtype: int64"
      ]
     },
     "execution_count": 8,
     "metadata": {},
     "output_type": "execute_result"
    }
   ],
   "source": [
    "df_rfm.isnull().sum()"
   ]
  },
  {
   "cell_type": "code",
   "execution_count": 9,
   "metadata": {},
   "outputs": [
    {
     "name": "stdout",
     "output_type": "stream",
     "text": [
      "<class 'pandas.core.frame.DataFrame'>\n",
      "Index: 92374 entries, 0 to 203398\n",
      "Data columns (total 5 columns):\n",
      " #   Column       Non-Null Count  Dtype  \n",
      "---  ------       --------------  -----  \n",
      " 0   InvoiceNo    92374 non-null  object \n",
      " 1   Quantity     92374 non-null  int64  \n",
      " 2   InvoiceDate  92374 non-null  object \n",
      " 3   UnitPrice    92374 non-null  float64\n",
      " 4   CustomerID   92374 non-null  float64\n",
      "dtypes: float64(2), int64(1), object(2)\n",
      "memory usage: 4.2+ MB\n"
     ]
    }
   ],
   "source": [
    "df_rfm.dropna(inplace=True)\n",
    "df_rfm = df_rfm.drop_duplicates()\n",
    "df_rfm.info()"
   ]
  },
  {
   "cell_type": "code",
   "execution_count": 10,
   "metadata": {},
   "outputs": [
    {
     "data": {
      "application/vnd.microsoft.datawrangler.viewer.v0+json": {
       "columns": [
        {
         "name": "index",
         "rawType": "int64",
         "type": "integer"
        },
        {
         "name": "InvoiceNo",
         "rawType": "object",
         "type": "string"
        },
        {
         "name": "Quantity",
         "rawType": "int64",
         "type": "integer"
        },
        {
         "name": "InvoiceDate",
         "rawType": "object",
         "type": "string"
        },
        {
         "name": "UnitPrice",
         "rawType": "float64",
         "type": "float"
        },
        {
         "name": "CustomerID",
         "rawType": "float64",
         "type": "float"
        }
       ],
       "conversionMethod": "pd.DataFrame",
       "ref": "a50bf102-3973-4b85-8da1-d59b9dcfcde0",
       "rows": [
        [
         "0",
         "539993",
         "10",
         "2011-01-04 10:00:00",
         "1.95",
         "13313.0"
        ],
        [
         "1",
         "539993",
         "25",
         "2011-01-04 10:00:00",
         "0.42",
         "13313.0"
        ],
        [
         "3",
         "539993",
         "5",
         "2011-01-04 10:00:00",
         "2.1",
         "13313.0"
        ],
        [
         "4",
         "539993",
         "10",
         "2011-01-04 10:00:00",
         "1.25",
         "13313.0"
        ],
        [
         "6",
         "539993",
         "6",
         "2011-01-04 10:00:00",
         "3.25",
         "13313.0"
        ],
        [
         "7",
         "539993",
         "12",
         "2011-01-04 10:00:00",
         "1.45",
         "13313.0"
        ],
        [
         "8",
         "539993",
         "6",
         "2011-01-04 10:00:00",
         "2.95",
         "13313.0"
        ],
        [
         "9",
         "539993",
         "8",
         "2011-01-04 10:00:00",
         "1.95",
         "13313.0"
        ],
        [
         "10",
         "539993",
         "6",
         "2011-01-04 10:00:00",
         "2.55",
         "13313.0"
        ],
        [
         "13",
         "539993",
         "12",
         "2011-01-04 10:00:00",
         "2.95",
         "13313.0"
        ],
        [
         "15",
         "539993",
         "8",
         "2011-01-04 10:00:00",
         "2.55",
         "13313.0"
        ],
        [
         "16",
         "539993",
         "4",
         "2011-01-04 10:00:00",
         "4.25",
         "13313.0"
        ],
        [
         "24",
         "540001",
         "32",
         "2011-01-04 10:22:00",
         "2.55",
         "18097.0"
        ],
        [
         "25",
         "540001",
         "24",
         "2011-01-04 10:22:00",
         "2.95",
         "18097.0"
        ],
        [
         "26",
         "540001",
         "6",
         "2011-01-04 10:22:00",
         "9.95",
         "18097.0"
        ],
        [
         "27",
         "540001",
         "48",
         "2011-01-04 10:22:00",
         "0.42",
         "18097.0"
        ],
        [
         "28",
         "540001",
         "16",
         "2011-01-04 10:22:00",
         "3.39",
         "18097.0"
        ],
        [
         "29",
         "540001",
         "12",
         "2011-01-04 10:22:00",
         "4.25",
         "18097.0"
        ],
        [
         "30",
         "540001",
         "60",
         "2011-01-04 10:22:00",
         "1.45",
         "18097.0"
        ],
        [
         "32",
         "540001",
         "24",
         "2011-01-04 10:22:00",
         "1.25",
         "18097.0"
        ],
        [
         "33",
         "540002",
         "12",
         "2011-01-04 10:23:00",
         "1.65",
         "16656.0"
        ],
        [
         "34",
         "540002",
         "8",
         "2011-01-04 10:23:00",
         "8.5",
         "16656.0"
        ],
        [
         "35",
         "540002",
         "24",
         "2011-01-04 10:23:00",
         "4.95",
         "16656.0"
        ],
        [
         "36",
         "540002",
         "144",
         "2011-01-04 10:23:00",
         "0.72",
         "16656.0"
        ],
        [
         "37",
         "540003",
         "12",
         "2011-01-04 10:37:00",
         "0.85",
         "16875.0"
        ],
        [
         "38",
         "540003",
         "1",
         "2011-01-04 10:37:00",
         "16.95",
         "16875.0"
        ],
        [
         "39",
         "540003",
         "2",
         "2011-01-04 10:37:00",
         "8.5",
         "16875.0"
        ],
        [
         "40",
         "540003",
         "4",
         "2011-01-04 10:37:00",
         "9.95",
         "16875.0"
        ],
        [
         "43",
         "540003",
         "3",
         "2011-01-04 10:37:00",
         "5.95",
         "16875.0"
        ],
        [
         "44",
         "540003",
         "2",
         "2011-01-04 10:37:00",
         "9.95",
         "16875.0"
        ],
        [
         "47",
         "540003",
         "12",
         "2011-01-04 10:37:00",
         "0.95",
         "16875.0"
        ],
        [
         "50",
         "540003",
         "12",
         "2011-01-04 10:37:00",
         "1.45",
         "16875.0"
        ],
        [
         "52",
         "540003",
         "12",
         "2011-01-04 10:37:00",
         "1.25",
         "16875.0"
        ],
        [
         "56",
         "540003",
         "3",
         "2011-01-04 10:37:00",
         "4.95",
         "16875.0"
        ],
        [
         "57",
         "540003",
         "6",
         "2011-01-04 10:37:00",
         "2.95",
         "16875.0"
        ],
        [
         "59",
         "540004",
         "72",
         "2011-01-04 10:37:00",
         "1.06",
         "13094.0"
        ],
        [
         "60",
         "540005",
         "8",
         "2011-01-04 10:38:00",
         "3.95",
         "17315.0"
        ],
        [
         "61",
         "540005",
         "24",
         "2011-01-04 10:38:00",
         "0.85",
         "17315.0"
        ],
        [
         "62",
         "540005",
         "2",
         "2011-01-04 10:38:00",
         "1.69",
         "17315.0"
        ],
        [
         "63",
         "540005",
         "1",
         "2011-01-04 10:38:00",
         "2.95",
         "17315.0"
        ],
        [
         "64",
         "540005",
         "12",
         "2011-01-04 10:38:00",
         "1.65",
         "17315.0"
        ],
        [
         "65",
         "540005",
         "1",
         "2011-01-04 10:38:00",
         "4.25",
         "17315.0"
        ],
        [
         "67",
         "540005",
         "15",
         "2011-01-04 10:38:00",
         "1.25",
         "17315.0"
        ],
        [
         "68",
         "540005",
         "1",
         "2011-01-04 10:38:00",
         "0.95",
         "17315.0"
        ],
        [
         "69",
         "540005",
         "6",
         "2011-01-04 10:38:00",
         "1.65",
         "17315.0"
        ],
        [
         "71",
         "540005",
         "24",
         "2011-01-04 10:38:00",
         "0.42",
         "17315.0"
        ],
        [
         "72",
         "540005",
         "12",
         "2011-01-04 10:38:00",
         "1.95",
         "17315.0"
        ],
        [
         "74",
         "540005",
         "12",
         "2011-01-04 10:38:00",
         "1.25",
         "17315.0"
        ],
        [
         "86",
         "540013",
         "1",
         "2011-01-04 11:30:00",
         "7.95",
         "16255.0"
        ],
        [
         "87",
         "540013",
         "2",
         "2011-01-04 11:30:00",
         "2.55",
         "16255.0"
        ]
       ],
       "shape": {
        "columns": 5,
        "rows": 92374
       }
      },
      "text/html": [
       "<div>\n",
       "<style scoped>\n",
       "    .dataframe tbody tr th:only-of-type {\n",
       "        vertical-align: middle;\n",
       "    }\n",
       "\n",
       "    .dataframe tbody tr th {\n",
       "        vertical-align: top;\n",
       "    }\n",
       "\n",
       "    .dataframe thead th {\n",
       "        text-align: right;\n",
       "    }\n",
       "</style>\n",
       "<table border=\"1\" class=\"dataframe\">\n",
       "  <thead>\n",
       "    <tr style=\"text-align: right;\">\n",
       "      <th></th>\n",
       "      <th>InvoiceNo</th>\n",
       "      <th>Quantity</th>\n",
       "      <th>InvoiceDate</th>\n",
       "      <th>UnitPrice</th>\n",
       "      <th>CustomerID</th>\n",
       "    </tr>\n",
       "  </thead>\n",
       "  <tbody>\n",
       "    <tr>\n",
       "      <th>0</th>\n",
       "      <td>539993</td>\n",
       "      <td>10</td>\n",
       "      <td>2011-01-04 10:00:00</td>\n",
       "      <td>1.95</td>\n",
       "      <td>13313.0</td>\n",
       "    </tr>\n",
       "    <tr>\n",
       "      <th>1</th>\n",
       "      <td>539993</td>\n",
       "      <td>25</td>\n",
       "      <td>2011-01-04 10:00:00</td>\n",
       "      <td>0.42</td>\n",
       "      <td>13313.0</td>\n",
       "    </tr>\n",
       "    <tr>\n",
       "      <th>3</th>\n",
       "      <td>539993</td>\n",
       "      <td>5</td>\n",
       "      <td>2011-01-04 10:00:00</td>\n",
       "      <td>2.10</td>\n",
       "      <td>13313.0</td>\n",
       "    </tr>\n",
       "    <tr>\n",
       "      <th>4</th>\n",
       "      <td>539993</td>\n",
       "      <td>10</td>\n",
       "      <td>2011-01-04 10:00:00</td>\n",
       "      <td>1.25</td>\n",
       "      <td>13313.0</td>\n",
       "    </tr>\n",
       "    <tr>\n",
       "      <th>6</th>\n",
       "      <td>539993</td>\n",
       "      <td>6</td>\n",
       "      <td>2011-01-04 10:00:00</td>\n",
       "      <td>3.25</td>\n",
       "      <td>13313.0</td>\n",
       "    </tr>\n",
       "    <tr>\n",
       "      <th>...</th>\n",
       "      <td>...</td>\n",
       "      <td>...</td>\n",
       "      <td>...</td>\n",
       "      <td>...</td>\n",
       "      <td>...</td>\n",
       "    </tr>\n",
       "    <tr>\n",
       "      <th>203392</th>\n",
       "      <td>558637</td>\n",
       "      <td>1</td>\n",
       "      <td>2011-06-30 20:08:00</td>\n",
       "      <td>1.25</td>\n",
       "      <td>17891.0</td>\n",
       "    </tr>\n",
       "    <tr>\n",
       "      <th>203393</th>\n",
       "      <td>558637</td>\n",
       "      <td>1</td>\n",
       "      <td>2011-06-30 20:08:00</td>\n",
       "      <td>2.95</td>\n",
       "      <td>17891.0</td>\n",
       "    </tr>\n",
       "    <tr>\n",
       "      <th>203395</th>\n",
       "      <td>558637</td>\n",
       "      <td>1</td>\n",
       "      <td>2011-06-30 20:08:00</td>\n",
       "      <td>2.10</td>\n",
       "      <td>17891.0</td>\n",
       "    </tr>\n",
       "    <tr>\n",
       "      <th>203396</th>\n",
       "      <td>558637</td>\n",
       "      <td>12</td>\n",
       "      <td>2011-06-30 20:08:00</td>\n",
       "      <td>0.85</td>\n",
       "      <td>17891.0</td>\n",
       "    </tr>\n",
       "    <tr>\n",
       "      <th>203398</th>\n",
       "      <td>558637</td>\n",
       "      <td>20</td>\n",
       "      <td>2011-06-30 20:08:00</td>\n",
       "      <td>0.65</td>\n",
       "      <td>17891.0</td>\n",
       "    </tr>\n",
       "  </tbody>\n",
       "</table>\n",
       "<p>92374 rows × 5 columns</p>\n",
       "</div>"
      ],
      "text/plain": [
       "       InvoiceNo  Quantity          InvoiceDate  UnitPrice  CustomerID\n",
       "0         539993        10  2011-01-04 10:00:00       1.95     13313.0\n",
       "1         539993        25  2011-01-04 10:00:00       0.42     13313.0\n",
       "3         539993         5  2011-01-04 10:00:00       2.10     13313.0\n",
       "4         539993        10  2011-01-04 10:00:00       1.25     13313.0\n",
       "6         539993         6  2011-01-04 10:00:00       3.25     13313.0\n",
       "...          ...       ...                  ...        ...         ...\n",
       "203392    558637         1  2011-06-30 20:08:00       1.25     17891.0\n",
       "203393    558637         1  2011-06-30 20:08:00       2.95     17891.0\n",
       "203395    558637         1  2011-06-30 20:08:00       2.10     17891.0\n",
       "203396    558637        12  2011-06-30 20:08:00       0.85     17891.0\n",
       "203398    558637        20  2011-06-30 20:08:00       0.65     17891.0\n",
       "\n",
       "[92374 rows x 5 columns]"
      ]
     },
     "execution_count": 10,
     "metadata": {},
     "output_type": "execute_result"
    }
   ],
   "source": [
    "df_rfm"
   ]
  },
  {
   "cell_type": "code",
   "execution_count": 11,
   "metadata": {},
   "outputs": [
    {
     "data": {
      "application/vnd.microsoft.datawrangler.viewer.v0+json": {
       "columns": [
        {
         "name": "index",
         "rawType": "int64",
         "type": "integer"
        },
        {
         "name": "InvoiceNo",
         "rawType": "object",
         "type": "string"
        },
        {
         "name": "Quantity",
         "rawType": "int64",
         "type": "integer"
        },
        {
         "name": "InvoiceDate",
         "rawType": "object",
         "type": "string"
        },
        {
         "name": "UnitPrice",
         "rawType": "float64",
         "type": "float"
        },
        {
         "name": "CustomerID",
         "rawType": "float64",
         "type": "float"
        },
        {
         "name": "Cost",
         "rawType": "float64",
         "type": "float"
        }
       ],
       "conversionMethod": "pd.DataFrame",
       "ref": "9b482ff2-26e9-4a78-a896-5f265cd7d813",
       "rows": [
        [
         "0",
         "539993",
         "10",
         "2011-01-04 10:00:00",
         "1.95",
         "13313.0",
         "19.5"
        ],
        [
         "1",
         "539993",
         "25",
         "2011-01-04 10:00:00",
         "0.42",
         "13313.0",
         "10.5"
        ],
        [
         "3",
         "539993",
         "5",
         "2011-01-04 10:00:00",
         "2.1",
         "13313.0",
         "10.5"
        ],
        [
         "4",
         "539993",
         "10",
         "2011-01-04 10:00:00",
         "1.25",
         "13313.0",
         "12.5"
        ],
        [
         "6",
         "539993",
         "6",
         "2011-01-04 10:00:00",
         "3.25",
         "13313.0",
         "19.5"
        ]
       ],
       "shape": {
        "columns": 6,
        "rows": 5
       }
      },
      "text/html": [
       "<div>\n",
       "<style scoped>\n",
       "    .dataframe tbody tr th:only-of-type {\n",
       "        vertical-align: middle;\n",
       "    }\n",
       "\n",
       "    .dataframe tbody tr th {\n",
       "        vertical-align: top;\n",
       "    }\n",
       "\n",
       "    .dataframe thead th {\n",
       "        text-align: right;\n",
       "    }\n",
       "</style>\n",
       "<table border=\"1\" class=\"dataframe\">\n",
       "  <thead>\n",
       "    <tr style=\"text-align: right;\">\n",
       "      <th></th>\n",
       "      <th>InvoiceNo</th>\n",
       "      <th>Quantity</th>\n",
       "      <th>InvoiceDate</th>\n",
       "      <th>UnitPrice</th>\n",
       "      <th>CustomerID</th>\n",
       "      <th>Cost</th>\n",
       "    </tr>\n",
       "  </thead>\n",
       "  <tbody>\n",
       "    <tr>\n",
       "      <th>0</th>\n",
       "      <td>539993</td>\n",
       "      <td>10</td>\n",
       "      <td>2011-01-04 10:00:00</td>\n",
       "      <td>1.95</td>\n",
       "      <td>13313.0</td>\n",
       "      <td>19.5</td>\n",
       "    </tr>\n",
       "    <tr>\n",
       "      <th>1</th>\n",
       "      <td>539993</td>\n",
       "      <td>25</td>\n",
       "      <td>2011-01-04 10:00:00</td>\n",
       "      <td>0.42</td>\n",
       "      <td>13313.0</td>\n",
       "      <td>10.5</td>\n",
       "    </tr>\n",
       "    <tr>\n",
       "      <th>3</th>\n",
       "      <td>539993</td>\n",
       "      <td>5</td>\n",
       "      <td>2011-01-04 10:00:00</td>\n",
       "      <td>2.10</td>\n",
       "      <td>13313.0</td>\n",
       "      <td>10.5</td>\n",
       "    </tr>\n",
       "    <tr>\n",
       "      <th>4</th>\n",
       "      <td>539993</td>\n",
       "      <td>10</td>\n",
       "      <td>2011-01-04 10:00:00</td>\n",
       "      <td>1.25</td>\n",
       "      <td>13313.0</td>\n",
       "      <td>12.5</td>\n",
       "    </tr>\n",
       "    <tr>\n",
       "      <th>6</th>\n",
       "      <td>539993</td>\n",
       "      <td>6</td>\n",
       "      <td>2011-01-04 10:00:00</td>\n",
       "      <td>3.25</td>\n",
       "      <td>13313.0</td>\n",
       "      <td>19.5</td>\n",
       "    </tr>\n",
       "  </tbody>\n",
       "</table>\n",
       "</div>"
      ],
      "text/plain": [
       "  InvoiceNo  Quantity          InvoiceDate  UnitPrice  CustomerID  Cost\n",
       "0    539993        10  2011-01-04 10:00:00       1.95     13313.0  19.5\n",
       "1    539993        25  2011-01-04 10:00:00       0.42     13313.0  10.5\n",
       "3    539993         5  2011-01-04 10:00:00       2.10     13313.0  10.5\n",
       "4    539993        10  2011-01-04 10:00:00       1.25     13313.0  12.5\n",
       "6    539993         6  2011-01-04 10:00:00       3.25     13313.0  19.5"
      ]
     },
     "execution_count": 11,
     "metadata": {},
     "output_type": "execute_result"
    }
   ],
   "source": [
    "df_rfm['Cost'] = df_rfm[\"Quantity\"]*df_rfm['UnitPrice']\n",
    "df_rfm.head()"
   ]
  },
  {
   "cell_type": "code",
   "execution_count": 12,
   "metadata": {},
   "outputs": [
    {
     "data": {
      "application/vnd.microsoft.datawrangler.viewer.v0+json": {
       "columns": [
        {
         "name": "InvoiceNo",
         "rawType": "object",
         "type": "string"
        },
        {
         "name": "Cost",
         "rawType": "float64",
         "type": "float"
        }
       ],
       "conversionMethod": "pd.DataFrame",
       "ref": "979364e5-de47-4d78-b654-2b01f327afce",
       "rows": [
        [
         "539993",
         "211.3"
        ],
        [
         "540001",
         "454.5"
        ],
        [
         "540002",
         "310.28"
        ],
        [
         "540003",
         "198.05"
        ],
        [
         "540004",
         "76.32000000000001"
        ]
       ],
       "shape": {
        "columns": 1,
        "rows": 5
       }
      },
      "text/html": [
       "<div>\n",
       "<style scoped>\n",
       "    .dataframe tbody tr th:only-of-type {\n",
       "        vertical-align: middle;\n",
       "    }\n",
       "\n",
       "    .dataframe tbody tr th {\n",
       "        vertical-align: top;\n",
       "    }\n",
       "\n",
       "    .dataframe thead th {\n",
       "        text-align: right;\n",
       "    }\n",
       "</style>\n",
       "<table border=\"1\" class=\"dataframe\">\n",
       "  <thead>\n",
       "    <tr style=\"text-align: right;\">\n",
       "      <th></th>\n",
       "      <th>Cost</th>\n",
       "    </tr>\n",
       "    <tr>\n",
       "      <th>InvoiceNo</th>\n",
       "      <th></th>\n",
       "    </tr>\n",
       "  </thead>\n",
       "  <tbody>\n",
       "    <tr>\n",
       "      <th>539993</th>\n",
       "      <td>211.30</td>\n",
       "    </tr>\n",
       "    <tr>\n",
       "      <th>540001</th>\n",
       "      <td>454.50</td>\n",
       "    </tr>\n",
       "    <tr>\n",
       "      <th>540002</th>\n",
       "      <td>310.28</td>\n",
       "    </tr>\n",
       "    <tr>\n",
       "      <th>540003</th>\n",
       "      <td>198.05</td>\n",
       "    </tr>\n",
       "    <tr>\n",
       "      <th>540004</th>\n",
       "      <td>76.32</td>\n",
       "    </tr>\n",
       "  </tbody>\n",
       "</table>\n",
       "</div>"
      ],
      "text/plain": [
       "             Cost\n",
       "InvoiceNo        \n",
       "539993     211.30\n",
       "540001     454.50\n",
       "540002     310.28\n",
       "540003     198.05\n",
       "540004      76.32"
      ]
     },
     "execution_count": 12,
     "metadata": {},
     "output_type": "execute_result"
    }
   ],
   "source": [
    "df_invoice = df_rfm[['InvoiceNo',\"Cost\"]].groupby('InvoiceNo').sum()\n",
    "df_invoice.head()"
   ]
  },
  {
   "cell_type": "code",
   "execution_count": 13,
   "metadata": {},
   "outputs": [
    {
     "name": "stdout",
     "output_type": "stream",
     "text": [
      "datetime64[ns]\n"
     ]
    }
   ],
   "source": [
    "df_rfm['InvoiceDate'] = pd.to_datetime(df['InvoiceDate'])\n",
    "# Kiểm tra kiểu dữ liệu của cột InvoiceDate\n",
    "print(df_rfm['InvoiceDate'].dtype)"
   ]
  },
  {
   "cell_type": "code",
   "execution_count": 14,
   "metadata": {},
   "outputs": [
    {
     "data": {
      "application/vnd.microsoft.datawrangler.viewer.v0+json": {
       "columns": [
        {
         "name": "index",
         "rawType": "int64",
         "type": "integer"
        },
        {
         "name": "InvoiceNo",
         "rawType": "object",
         "type": "string"
        },
        {
         "name": "Quantity",
         "rawType": "int64",
         "type": "integer"
        },
        {
         "name": "InvoiceDate",
         "rawType": "datetime64[ns]",
         "type": "datetime"
        },
        {
         "name": "UnitPrice",
         "rawType": "float64",
         "type": "float"
        },
        {
         "name": "CustomerID",
         "rawType": "float64",
         "type": "float"
        },
        {
         "name": "Cost",
         "rawType": "float64",
         "type": "float"
        }
       ],
       "conversionMethod": "pd.DataFrame",
       "ref": "0def85df-5d12-48f7-8329-4c77783b52f8",
       "rows": [
        [
         "0",
         "539993",
         "10",
         "2011-01-04 10:00:00",
         "1.95",
         "13313.0",
         "19.5"
        ],
        [
         "1",
         "539993",
         "25",
         "2011-01-04 10:00:00",
         "0.42",
         "13313.0",
         "10.5"
        ],
        [
         "3",
         "539993",
         "5",
         "2011-01-04 10:00:00",
         "2.1",
         "13313.0",
         "10.5"
        ],
        [
         "4",
         "539993",
         "10",
         "2011-01-04 10:00:00",
         "1.25",
         "13313.0",
         "12.5"
        ],
        [
         "6",
         "539993",
         "6",
         "2011-01-04 10:00:00",
         "3.25",
         "13313.0",
         "19.5"
        ]
       ],
       "shape": {
        "columns": 6,
        "rows": 5
       }
      },
      "text/html": [
       "<div>\n",
       "<style scoped>\n",
       "    .dataframe tbody tr th:only-of-type {\n",
       "        vertical-align: middle;\n",
       "    }\n",
       "\n",
       "    .dataframe tbody tr th {\n",
       "        vertical-align: top;\n",
       "    }\n",
       "\n",
       "    .dataframe thead th {\n",
       "        text-align: right;\n",
       "    }\n",
       "</style>\n",
       "<table border=\"1\" class=\"dataframe\">\n",
       "  <thead>\n",
       "    <tr style=\"text-align: right;\">\n",
       "      <th></th>\n",
       "      <th>InvoiceNo</th>\n",
       "      <th>Quantity</th>\n",
       "      <th>InvoiceDate</th>\n",
       "      <th>UnitPrice</th>\n",
       "      <th>CustomerID</th>\n",
       "      <th>Cost</th>\n",
       "    </tr>\n",
       "  </thead>\n",
       "  <tbody>\n",
       "    <tr>\n",
       "      <th>0</th>\n",
       "      <td>539993</td>\n",
       "      <td>10</td>\n",
       "      <td>2011-01-04 10:00:00</td>\n",
       "      <td>1.95</td>\n",
       "      <td>13313.0</td>\n",
       "      <td>19.5</td>\n",
       "    </tr>\n",
       "    <tr>\n",
       "      <th>1</th>\n",
       "      <td>539993</td>\n",
       "      <td>25</td>\n",
       "      <td>2011-01-04 10:00:00</td>\n",
       "      <td>0.42</td>\n",
       "      <td>13313.0</td>\n",
       "      <td>10.5</td>\n",
       "    </tr>\n",
       "    <tr>\n",
       "      <th>3</th>\n",
       "      <td>539993</td>\n",
       "      <td>5</td>\n",
       "      <td>2011-01-04 10:00:00</td>\n",
       "      <td>2.10</td>\n",
       "      <td>13313.0</td>\n",
       "      <td>10.5</td>\n",
       "    </tr>\n",
       "    <tr>\n",
       "      <th>4</th>\n",
       "      <td>539993</td>\n",
       "      <td>10</td>\n",
       "      <td>2011-01-04 10:00:00</td>\n",
       "      <td>1.25</td>\n",
       "      <td>13313.0</td>\n",
       "      <td>12.5</td>\n",
       "    </tr>\n",
       "    <tr>\n",
       "      <th>6</th>\n",
       "      <td>539993</td>\n",
       "      <td>6</td>\n",
       "      <td>2011-01-04 10:00:00</td>\n",
       "      <td>3.25</td>\n",
       "      <td>13313.0</td>\n",
       "      <td>19.5</td>\n",
       "    </tr>\n",
       "  </tbody>\n",
       "</table>\n",
       "</div>"
      ],
      "text/plain": [
       "  InvoiceNo  Quantity         InvoiceDate  UnitPrice  CustomerID  Cost\n",
       "0    539993        10 2011-01-04 10:00:00       1.95     13313.0  19.5\n",
       "1    539993        25 2011-01-04 10:00:00       0.42     13313.0  10.5\n",
       "3    539993         5 2011-01-04 10:00:00       2.10     13313.0  10.5\n",
       "4    539993        10 2011-01-04 10:00:00       1.25     13313.0  12.5\n",
       "6    539993         6 2011-01-04 10:00:00       3.25     13313.0  19.5"
      ]
     },
     "execution_count": 14,
     "metadata": {},
     "output_type": "execute_result"
    }
   ],
   "source": [
    "df_rfm.head()"
   ]
  },
  {
   "cell_type": "code",
   "execution_count": 15,
   "metadata": {},
   "outputs": [
    {
     "data": {
      "application/vnd.microsoft.datawrangler.viewer.v0+json": {
       "columns": [
        {
         "name": "index",
         "rawType": "int64",
         "type": "integer"
        },
        {
         "name": "InvoiceNo",
         "rawType": "object",
         "type": "string"
        },
        {
         "name": "Quantity",
         "rawType": "int64",
         "type": "integer"
        },
        {
         "name": "InvoiceDate",
         "rawType": "datetime64[ns]",
         "type": "datetime"
        },
        {
         "name": "UnitPrice",
         "rawType": "float64",
         "type": "float"
        },
        {
         "name": "CustomerID",
         "rawType": "float64",
         "type": "float"
        },
        {
         "name": "Cost",
         "rawType": "float64",
         "type": "float"
        }
       ],
       "conversionMethod": "pd.DataFrame",
       "ref": "9251b333-e1a4-42f0-b830-c10df46a9ba4",
       "rows": [
        [
         "203392",
         "558637",
         "1",
         "2011-06-30 20:08:00",
         "1.25",
         "17891.0",
         "1.25"
        ],
        [
         "203393",
         "558637",
         "1",
         "2011-06-30 20:08:00",
         "2.95",
         "17891.0",
         "2.95"
        ],
        [
         "203395",
         "558637",
         "1",
         "2011-06-30 20:08:00",
         "2.1",
         "17891.0",
         "2.1"
        ],
        [
         "203396",
         "558637",
         "12",
         "2011-06-30 20:08:00",
         "0.85",
         "17891.0",
         "10.2"
        ],
        [
         "203398",
         "558637",
         "20",
         "2011-06-30 20:08:00",
         "0.65",
         "17891.0",
         "13.0"
        ]
       ],
       "shape": {
        "columns": 6,
        "rows": 5
       }
      },
      "text/html": [
       "<div>\n",
       "<style scoped>\n",
       "    .dataframe tbody tr th:only-of-type {\n",
       "        vertical-align: middle;\n",
       "    }\n",
       "\n",
       "    .dataframe tbody tr th {\n",
       "        vertical-align: top;\n",
       "    }\n",
       "\n",
       "    .dataframe thead th {\n",
       "        text-align: right;\n",
       "    }\n",
       "</style>\n",
       "<table border=\"1\" class=\"dataframe\">\n",
       "  <thead>\n",
       "    <tr style=\"text-align: right;\">\n",
       "      <th></th>\n",
       "      <th>InvoiceNo</th>\n",
       "      <th>Quantity</th>\n",
       "      <th>InvoiceDate</th>\n",
       "      <th>UnitPrice</th>\n",
       "      <th>CustomerID</th>\n",
       "      <th>Cost</th>\n",
       "    </tr>\n",
       "  </thead>\n",
       "  <tbody>\n",
       "    <tr>\n",
       "      <th>203392</th>\n",
       "      <td>558637</td>\n",
       "      <td>1</td>\n",
       "      <td>2011-06-30 20:08:00</td>\n",
       "      <td>1.25</td>\n",
       "      <td>17891.0</td>\n",
       "      <td>1.25</td>\n",
       "    </tr>\n",
       "    <tr>\n",
       "      <th>203393</th>\n",
       "      <td>558637</td>\n",
       "      <td>1</td>\n",
       "      <td>2011-06-30 20:08:00</td>\n",
       "      <td>2.95</td>\n",
       "      <td>17891.0</td>\n",
       "      <td>2.95</td>\n",
       "    </tr>\n",
       "    <tr>\n",
       "      <th>203395</th>\n",
       "      <td>558637</td>\n",
       "      <td>1</td>\n",
       "      <td>2011-06-30 20:08:00</td>\n",
       "      <td>2.10</td>\n",
       "      <td>17891.0</td>\n",
       "      <td>2.10</td>\n",
       "    </tr>\n",
       "    <tr>\n",
       "      <th>203396</th>\n",
       "      <td>558637</td>\n",
       "      <td>12</td>\n",
       "      <td>2011-06-30 20:08:00</td>\n",
       "      <td>0.85</td>\n",
       "      <td>17891.0</td>\n",
       "      <td>10.20</td>\n",
       "    </tr>\n",
       "    <tr>\n",
       "      <th>203398</th>\n",
       "      <td>558637</td>\n",
       "      <td>20</td>\n",
       "      <td>2011-06-30 20:08:00</td>\n",
       "      <td>0.65</td>\n",
       "      <td>17891.0</td>\n",
       "      <td>13.00</td>\n",
       "    </tr>\n",
       "  </tbody>\n",
       "</table>\n",
       "</div>"
      ],
      "text/plain": [
       "       InvoiceNo  Quantity         InvoiceDate  UnitPrice  CustomerID   Cost\n",
       "203392    558637         1 2011-06-30 20:08:00       1.25     17891.0   1.25\n",
       "203393    558637         1 2011-06-30 20:08:00       2.95     17891.0   2.95\n",
       "203395    558637         1 2011-06-30 20:08:00       2.10     17891.0   2.10\n",
       "203396    558637        12 2011-06-30 20:08:00       0.85     17891.0  10.20\n",
       "203398    558637        20 2011-06-30 20:08:00       0.65     17891.0  13.00"
      ]
     },
     "execution_count": 15,
     "metadata": {},
     "output_type": "execute_result"
    }
   ],
   "source": [
    "df_rfm.tail()"
   ]
  },
  {
   "cell_type": "code",
   "execution_count": 16,
   "metadata": {},
   "outputs": [
    {
     "data": {
      "text/plain": [
       "Timedelta('177 days 10:08:00')"
      ]
     },
     "execution_count": 16,
     "metadata": {},
     "output_type": "execute_result"
    }
   ],
   "source": [
    "now = df_rfm['InvoiceDate'].max() \n",
    "now - df_rfm['InvoiceDate'][0]"
   ]
  },
  {
   "cell_type": "code",
   "execution_count": 17,
   "metadata": {},
   "outputs": [
    {
     "name": "stdout",
     "output_type": "stream",
     "text": [
      "2011-06-30 20:08:00\n"
     ]
    }
   ],
   "source": [
    "print(now)"
   ]
  },
  {
   "cell_type": "code",
   "execution_count": 18,
   "metadata": {},
   "outputs": [
    {
     "data": {
      "application/vnd.microsoft.datawrangler.viewer.v0+json": {
       "columns": [
        {
         "name": "index",
         "rawType": "int64",
         "type": "integer"
        },
        {
         "name": "InvoiceNo",
         "rawType": "object",
         "type": "string"
        },
        {
         "name": "Quantity",
         "rawType": "int64",
         "type": "integer"
        },
        {
         "name": "UnitPrice",
         "rawType": "float64",
         "type": "float"
        },
        {
         "name": "CustomerID",
         "rawType": "float64",
         "type": "float"
        },
        {
         "name": "Cost",
         "rawType": "float64",
         "type": "float"
        },
        {
         "name": "Recency",
         "rawType": "int64",
         "type": "integer"
        }
       ],
       "conversionMethod": "pd.DataFrame",
       "ref": "8711eff9-6eaf-49f6-b5f7-eeeeda587525",
       "rows": [
        [
         "0",
         "539993",
         "10",
         "1.95",
         "13313.0",
         "19.5",
         "177"
        ],
        [
         "1",
         "539993",
         "25",
         "0.42",
         "13313.0",
         "10.5",
         "177"
        ],
        [
         "3",
         "539993",
         "5",
         "2.1",
         "13313.0",
         "10.5",
         "177"
        ],
        [
         "4",
         "539993",
         "10",
         "1.25",
         "13313.0",
         "12.5",
         "177"
        ],
        [
         "6",
         "539993",
         "6",
         "3.25",
         "13313.0",
         "19.5",
         "177"
        ]
       ],
       "shape": {
        "columns": 6,
        "rows": 5
       }
      },
      "text/html": [
       "<div>\n",
       "<style scoped>\n",
       "    .dataframe tbody tr th:only-of-type {\n",
       "        vertical-align: middle;\n",
       "    }\n",
       "\n",
       "    .dataframe tbody tr th {\n",
       "        vertical-align: top;\n",
       "    }\n",
       "\n",
       "    .dataframe thead th {\n",
       "        text-align: right;\n",
       "    }\n",
       "</style>\n",
       "<table border=\"1\" class=\"dataframe\">\n",
       "  <thead>\n",
       "    <tr style=\"text-align: right;\">\n",
       "      <th></th>\n",
       "      <th>InvoiceNo</th>\n",
       "      <th>Quantity</th>\n",
       "      <th>UnitPrice</th>\n",
       "      <th>CustomerID</th>\n",
       "      <th>Cost</th>\n",
       "      <th>Recency</th>\n",
       "    </tr>\n",
       "  </thead>\n",
       "  <tbody>\n",
       "    <tr>\n",
       "      <th>0</th>\n",
       "      <td>539993</td>\n",
       "      <td>10</td>\n",
       "      <td>1.95</td>\n",
       "      <td>13313.0</td>\n",
       "      <td>19.5</td>\n",
       "      <td>177</td>\n",
       "    </tr>\n",
       "    <tr>\n",
       "      <th>1</th>\n",
       "      <td>539993</td>\n",
       "      <td>25</td>\n",
       "      <td>0.42</td>\n",
       "      <td>13313.0</td>\n",
       "      <td>10.5</td>\n",
       "      <td>177</td>\n",
       "    </tr>\n",
       "    <tr>\n",
       "      <th>3</th>\n",
       "      <td>539993</td>\n",
       "      <td>5</td>\n",
       "      <td>2.10</td>\n",
       "      <td>13313.0</td>\n",
       "      <td>10.5</td>\n",
       "      <td>177</td>\n",
       "    </tr>\n",
       "    <tr>\n",
       "      <th>4</th>\n",
       "      <td>539993</td>\n",
       "      <td>10</td>\n",
       "      <td>1.25</td>\n",
       "      <td>13313.0</td>\n",
       "      <td>12.5</td>\n",
       "      <td>177</td>\n",
       "    </tr>\n",
       "    <tr>\n",
       "      <th>6</th>\n",
       "      <td>539993</td>\n",
       "      <td>6</td>\n",
       "      <td>3.25</td>\n",
       "      <td>13313.0</td>\n",
       "      <td>19.5</td>\n",
       "      <td>177</td>\n",
       "    </tr>\n",
       "  </tbody>\n",
       "</table>\n",
       "</div>"
      ],
      "text/plain": [
       "  InvoiceNo  Quantity  UnitPrice  CustomerID  Cost  Recency\n",
       "0    539993        10       1.95     13313.0  19.5      177\n",
       "1    539993        25       0.42     13313.0  10.5      177\n",
       "3    539993         5       2.10     13313.0  10.5      177\n",
       "4    539993        10       1.25     13313.0  12.5      177\n",
       "6    539993         6       3.25     13313.0  19.5      177"
      ]
     },
     "execution_count": 18,
     "metadata": {},
     "output_type": "execute_result"
    }
   ],
   "source": [
    "#RFM\n",
    "df_rfm['Recency'] = (now - df_rfm['InvoiceDate']).dt.days\n",
    "df_rfm.drop(columns='InvoiceDate', inplace=True)\n",
    "df_rfm.head()"
   ]
  },
  {
   "cell_type": "code",
   "execution_count": 19,
   "metadata": {},
   "outputs": [
    {
     "data": {
      "application/vnd.microsoft.datawrangler.viewer.v0+json": {
       "columns": [
        {
         "name": "CustomerID",
         "rawType": "float64",
         "type": "float"
        },
        {
         "name": "InvoiceNo",
         "rawType": "int64",
         "type": "integer"
        },
        {
         "name": "Cost",
         "rawType": "float64",
         "type": "float"
        },
        {
         "name": "Recency",
         "rawType": "int64",
         "type": "integer"
        }
       ],
       "conversionMethod": "pd.DataFrame",
       "ref": "bad03fcd-407f-40a5-b245-baad00b4909a",
       "rows": [
        [
         "12346.0",
         "1",
         "77183.6",
         "163"
        ],
        [
         "12347.0",
         "3",
         "1049.46",
         "21"
        ],
        [
         "12348.0",
         "2",
         "469.15999999999997",
         "86"
        ],
        [
         "12350.0",
         "1",
         "174.2",
         "148"
        ],
        [
         "12352.0",
         "5",
         "1455.8600000000001",
         "100"
        ]
       ],
       "shape": {
        "columns": 3,
        "rows": 5
       }
      },
      "text/html": [
       "<div>\n",
       "<style scoped>\n",
       "    .dataframe tbody tr th:only-of-type {\n",
       "        vertical-align: middle;\n",
       "    }\n",
       "\n",
       "    .dataframe tbody tr th {\n",
       "        vertical-align: top;\n",
       "    }\n",
       "\n",
       "    .dataframe thead th {\n",
       "        text-align: right;\n",
       "    }\n",
       "</style>\n",
       "<table border=\"1\" class=\"dataframe\">\n",
       "  <thead>\n",
       "    <tr style=\"text-align: right;\">\n",
       "      <th></th>\n",
       "      <th>InvoiceNo</th>\n",
       "      <th>Cost</th>\n",
       "      <th>Recency</th>\n",
       "    </tr>\n",
       "    <tr>\n",
       "      <th>CustomerID</th>\n",
       "      <th></th>\n",
       "      <th></th>\n",
       "      <th></th>\n",
       "    </tr>\n",
       "  </thead>\n",
       "  <tbody>\n",
       "    <tr>\n",
       "      <th>12346.0</th>\n",
       "      <td>1</td>\n",
       "      <td>77183.60</td>\n",
       "      <td>163</td>\n",
       "    </tr>\n",
       "    <tr>\n",
       "      <th>12347.0</th>\n",
       "      <td>3</td>\n",
       "      <td>1049.46</td>\n",
       "      <td>21</td>\n",
       "    </tr>\n",
       "    <tr>\n",
       "      <th>12348.0</th>\n",
       "      <td>2</td>\n",
       "      <td>469.16</td>\n",
       "      <td>86</td>\n",
       "    </tr>\n",
       "    <tr>\n",
       "      <th>12350.0</th>\n",
       "      <td>1</td>\n",
       "      <td>174.20</td>\n",
       "      <td>148</td>\n",
       "    </tr>\n",
       "    <tr>\n",
       "      <th>12352.0</th>\n",
       "      <td>5</td>\n",
       "      <td>1455.86</td>\n",
       "      <td>100</td>\n",
       "    </tr>\n",
       "  </tbody>\n",
       "</table>\n",
       "</div>"
      ],
      "text/plain": [
       "            InvoiceNo      Cost  Recency\n",
       "CustomerID                              \n",
       "12346.0             1  77183.60      163\n",
       "12347.0             3   1049.46       21\n",
       "12348.0             2    469.16       86\n",
       "12350.0             1    174.20      148\n",
       "12352.0             5   1455.86      100"
      ]
     },
     "execution_count": 19,
     "metadata": {},
     "output_type": "execute_result"
    }
   ],
   "source": [
    "df_rfm = df_rfm[['InvoiceNo','CustomerID','Cost','Recency']]\n",
    "rfm = df_rfm.groupby('CustomerID').aggregate({'InvoiceNo':'nunique',\n",
    "                                        'Cost':'sum',\n",
    "                                        'Recency':'min'})\n",
    "rfm.head()"
   ]
  },
  {
   "cell_type": "code",
   "execution_count": 20,
   "metadata": {},
   "outputs": [
    {
     "data": {
      "application/vnd.microsoft.datawrangler.viewer.v0+json": {
       "columns": [
        {
         "name": "CustomerID",
         "rawType": "float64",
         "type": "float"
        },
        {
         "name": "Recency",
         "rawType": "int64",
         "type": "integer"
        },
        {
         "name": "Frequency",
         "rawType": "int64",
         "type": "integer"
        },
        {
         "name": "Monetary",
         "rawType": "float64",
         "type": "float"
        }
       ],
       "conversionMethod": "pd.DataFrame",
       "ref": "ff499284-e2e2-461b-8749-ad9de61d04d9",
       "rows": [
        [
         "12346.0",
         "163",
         "1",
         "77183.6"
        ],
        [
         "12347.0",
         "21",
         "3",
         "1049.46"
        ],
        [
         "12348.0",
         "86",
         "2",
         "469.15999999999997"
        ],
        [
         "12350.0",
         "148",
         "1",
         "174.2"
        ],
        [
         "12352.0",
         "100",
         "5",
         "1455.8600000000001"
        ]
       ],
       "shape": {
        "columns": 3,
        "rows": 5
       }
      },
      "text/html": [
       "<div>\n",
       "<style scoped>\n",
       "    .dataframe tbody tr th:only-of-type {\n",
       "        vertical-align: middle;\n",
       "    }\n",
       "\n",
       "    .dataframe tbody tr th {\n",
       "        vertical-align: top;\n",
       "    }\n",
       "\n",
       "    .dataframe thead th {\n",
       "        text-align: right;\n",
       "    }\n",
       "</style>\n",
       "<table border=\"1\" class=\"dataframe\">\n",
       "  <thead>\n",
       "    <tr style=\"text-align: right;\">\n",
       "      <th></th>\n",
       "      <th>Recency</th>\n",
       "      <th>Frequency</th>\n",
       "      <th>Monetary</th>\n",
       "    </tr>\n",
       "    <tr>\n",
       "      <th>CustomerID</th>\n",
       "      <th></th>\n",
       "      <th></th>\n",
       "      <th></th>\n",
       "    </tr>\n",
       "  </thead>\n",
       "  <tbody>\n",
       "    <tr>\n",
       "      <th>12346.0</th>\n",
       "      <td>163</td>\n",
       "      <td>1</td>\n",
       "      <td>77183.60</td>\n",
       "    </tr>\n",
       "    <tr>\n",
       "      <th>12347.0</th>\n",
       "      <td>21</td>\n",
       "      <td>3</td>\n",
       "      <td>1049.46</td>\n",
       "    </tr>\n",
       "    <tr>\n",
       "      <th>12348.0</th>\n",
       "      <td>86</td>\n",
       "      <td>2</td>\n",
       "      <td>469.16</td>\n",
       "    </tr>\n",
       "    <tr>\n",
       "      <th>12350.0</th>\n",
       "      <td>148</td>\n",
       "      <td>1</td>\n",
       "      <td>174.20</td>\n",
       "    </tr>\n",
       "    <tr>\n",
       "      <th>12352.0</th>\n",
       "      <td>100</td>\n",
       "      <td>5</td>\n",
       "      <td>1455.86</td>\n",
       "    </tr>\n",
       "  </tbody>\n",
       "</table>\n",
       "</div>"
      ],
      "text/plain": [
       "            Recency  Frequency  Monetary\n",
       "CustomerID                              \n",
       "12346.0         163          1  77183.60\n",
       "12347.0          21          3   1049.46\n",
       "12348.0          86          2    469.16\n",
       "12350.0         148          1    174.20\n",
       "12352.0         100          5   1455.86"
      ]
     },
     "execution_count": 20,
     "metadata": {},
     "output_type": "execute_result"
    }
   ],
   "source": [
    "rfm.columns = ['Frequency','Monetary', \"Recency\"]\n",
    "rfm = rfm[[\"Recency\",'Frequency','Monetary']]\n",
    "rfm.head()"
   ]
  },
  {
   "cell_type": "code",
   "execution_count": 21,
   "metadata": {},
   "outputs": [
    {
     "data": {
      "application/vnd.microsoft.datawrangler.viewer.v0+json": {
       "columns": [
        {
         "name": "index",
         "rawType": "object",
         "type": "string"
        },
        {
         "name": "Recency",
         "rawType": "float64",
         "type": "float"
        },
        {
         "name": "Frequency",
         "rawType": "float64",
         "type": "float"
        },
        {
         "name": "Monetary",
         "rawType": "float64",
         "type": "float"
        }
       ],
       "conversionMethod": "pd.DataFrame",
       "ref": "c30815a3-d5a2-4eb1-a98a-78c8a2660682",
       "rows": [
        [
         "count",
         "2724.0",
         "2724.0",
         "2724.0"
        ],
        [
         "mean",
         "59.76468428781204",
         "2.7173274596182084",
         "939.536813876652"
        ],
        [
         "std",
         "47.91311515625628",
         "3.8782585670636482",
         "3589.578865443856"
        ],
        [
         "min",
         "0.0",
         "1.0",
         "2.9"
        ],
        [
         "25%",
         "20.0",
         "1.0",
         "180.55"
        ],
        [
         "50%",
         "46.0",
         "2.0",
         "355.135"
        ],
        [
         "75%",
         "94.0",
         "3.0",
         "761.6575"
        ],
        [
         "max",
         "177.0",
         "67.0",
         "89361.99"
        ]
       ],
       "shape": {
        "columns": 3,
        "rows": 8
       }
      },
      "text/html": [
       "<div>\n",
       "<style scoped>\n",
       "    .dataframe tbody tr th:only-of-type {\n",
       "        vertical-align: middle;\n",
       "    }\n",
       "\n",
       "    .dataframe tbody tr th {\n",
       "        vertical-align: top;\n",
       "    }\n",
       "\n",
       "    .dataframe thead th {\n",
       "        text-align: right;\n",
       "    }\n",
       "</style>\n",
       "<table border=\"1\" class=\"dataframe\">\n",
       "  <thead>\n",
       "    <tr style=\"text-align: right;\">\n",
       "      <th></th>\n",
       "      <th>Recency</th>\n",
       "      <th>Frequency</th>\n",
       "      <th>Monetary</th>\n",
       "    </tr>\n",
       "  </thead>\n",
       "  <tbody>\n",
       "    <tr>\n",
       "      <th>count</th>\n",
       "      <td>2724.000000</td>\n",
       "      <td>2724.000000</td>\n",
       "      <td>2724.000000</td>\n",
       "    </tr>\n",
       "    <tr>\n",
       "      <th>mean</th>\n",
       "      <td>59.764684</td>\n",
       "      <td>2.717327</td>\n",
       "      <td>939.536814</td>\n",
       "    </tr>\n",
       "    <tr>\n",
       "      <th>std</th>\n",
       "      <td>47.913115</td>\n",
       "      <td>3.878259</td>\n",
       "      <td>3589.578865</td>\n",
       "    </tr>\n",
       "    <tr>\n",
       "      <th>min</th>\n",
       "      <td>0.000000</td>\n",
       "      <td>1.000000</td>\n",
       "      <td>2.900000</td>\n",
       "    </tr>\n",
       "    <tr>\n",
       "      <th>25%</th>\n",
       "      <td>20.000000</td>\n",
       "      <td>1.000000</td>\n",
       "      <td>180.550000</td>\n",
       "    </tr>\n",
       "    <tr>\n",
       "      <th>50%</th>\n",
       "      <td>46.000000</td>\n",
       "      <td>2.000000</td>\n",
       "      <td>355.135000</td>\n",
       "    </tr>\n",
       "    <tr>\n",
       "      <th>75%</th>\n",
       "      <td>94.000000</td>\n",
       "      <td>3.000000</td>\n",
       "      <td>761.657500</td>\n",
       "    </tr>\n",
       "    <tr>\n",
       "      <th>max</th>\n",
       "      <td>177.000000</td>\n",
       "      <td>67.000000</td>\n",
       "      <td>89361.990000</td>\n",
       "    </tr>\n",
       "  </tbody>\n",
       "</table>\n",
       "</div>"
      ],
      "text/plain": [
       "           Recency    Frequency      Monetary\n",
       "count  2724.000000  2724.000000   2724.000000\n",
       "mean     59.764684     2.717327    939.536814\n",
       "std      47.913115     3.878259   3589.578865\n",
       "min       0.000000     1.000000      2.900000\n",
       "25%      20.000000     1.000000    180.550000\n",
       "50%      46.000000     2.000000    355.135000\n",
       "75%      94.000000     3.000000    761.657500\n",
       "max     177.000000    67.000000  89361.990000"
      ]
     },
     "execution_count": 21,
     "metadata": {},
     "output_type": "execute_result"
    }
   ],
   "source": [
    "rfm.describe()"
   ]
  },
  {
   "cell_type": "code",
   "execution_count": 22,
   "metadata": {},
   "outputs": [
    {
     "data": {
      "image/png": "[encoded data removed]",
      "text/plain": [
       "<Figure size 640x480 with 1 Axes>"
      ]
     },
     "metadata": {},
     "output_type": "display_data"
    }
   ],
   "source": [
    "import seaborn as sns\n",
    "import matplotlib.pyplot as plt\n",
    "\n",
    "sns.histplot(rfm['Recency'], kde=True)\n",
    "plt.show()\n"
   ]
  },
  {
   "cell_type": "code",
   "execution_count": 23,
   "metadata": {},
   "outputs": [
    {
     "data": {
      "image/png": "[encoded data removed]",
      "text/plain": [
       "<Figure size 640x480 with 1 Axes>"
      ]
     },
     "metadata": {},
     "output_type": "display_data"
    }
   ],
   "source": [
    "sns.boxplot(x=rfm['Frequency'])\n",
    "plt.show()"
   ]
  },
  {
   "cell_type": "code",
   "execution_count": 24,
   "metadata": {},
   "outputs": [
    {
     "data": {
      "image/png": "[encoded data removed]",
      "text/plain": [
       "<Figure size 640x480 with 1 Axes>"
      ]
     },
     "metadata": {},
     "output_type": "display_data"
    }
   ],
   "source": [
    "sns.scatterplot(x='Recency', y='Monetary', data=rfm)\n",
    "plt.show()"
   ]
  },
  {
   "cell_type": "code",
   "execution_count": 27,
   "metadata": {},
   "outputs": [
    {
     "data": {
      "text/plain": [
       "<Axes: xlabel='CustomerID'>"
      ]
     },
     "execution_count": 27,
     "metadata": {},
     "output_type": "execute_result"
    },
    {
     "data": {
      "image/png": "[encoded data removed]",
      "text/plain": [
       "<Figure size 640x480 with 1 Axes>"
      ]
     },
     "metadata": {},
     "output_type": "display_data"
    }
   ],
   "source": [
    "rfm[\"Frequency\"].plot()"
   ]
  },
  {
   "cell_type": "code",
   "execution_count": null,
   "metadata": {},
   "outputs": [],
   "source": []
  }
 ],
 "metadata": {
  "kernelspec": {
   "display_name": "env-teaching",
   "language": "python",
   "name": "python3"
  },
  "language_info": {
   "codemirror_mode": {
    "name": "ipython",
    "version": 3
   },
   "file_extension": ".py",
   "mimetype": "text/x-python",
   "name": "python",
   "nbconvert_exporter": "python",
   "pygments_lexer": "ipython3",
   "version": "3.11.7"
  }
 },
 "nbformat": 4,
 "nbformat_minor": 2
}
