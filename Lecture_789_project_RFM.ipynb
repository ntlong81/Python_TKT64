{
 "cells": [
  {
   "cell_type": "markdown",
   "metadata": {},
   "source": [
    "## K-means to segment customer based on RFM"
   ]
  },
  {
   "cell_type": "code",
   "execution_count": 1,
   "metadata": {},
   "outputs": [],
   "source": [
    "import numpy as np\n",
    "import pandas as pd\n",
    "import matplotlib.pyplot as plt\n",
    "import seaborn as sns\n",
    "import datetime\n",
    "from sklearn.preprocessing import StandardScaler\n",
    "from sklearn.cluster import KMeans\n",
    "from sklearn.metrics import silhouette_score"
   ]
  },
  {
   "cell_type": "code",
   "execution_count": 2,
   "metadata": {},
   "outputs": [
    {
     "data": {
      "application/vnd.microsoft.datawrangler.viewer.v0+json": {
       "columns": [
        {
         "name": "index",
         "rawType": "int64",
         "type": "integer"
        },
        {
         "name": "InvoiceNo",
         "rawType": "object",
         "type": "string"
        },
        {
         "name": "StockCode",
         "rawType": "object",
         "type": "string"
        },
        {
         "name": "Description",
         "rawType": "object",
         "type": "string"
        },
        {
         "name": "Quantity",
         "rawType": "int64",
         "type": "integer"
        },
        {
         "name": "InvoiceDate",
         "rawType": "object",
         "type": "string"
        },
        {
         "name": "UnitPrice",
         "rawType": "float64",
         "type": "float"
        },
        {
         "name": "CustomerID",
         "rawType": "float64",
         "type": "float"
        },
        {
         "name": "Country",
         "rawType": "object",
         "type": "string"
        }
       ],
       "conversionMethod": "pd.DataFrame",
       "ref": "6bdf8975-6c0c-453b-828e-2f3af7f7b4d4",
       "rows": [
        [
         "0",
         "539993",
         "22386",
         "JUMBO BAG PINK POLKADOT",
         "10",
         "2011-01-04 10:00:00",
         "1.95",
         "13313.0",
         "United Kingdom"
        ],
        [
         "1",
         "539993",
         "21499",
         "BLUE POLKADOT WRAP",
         "25",
         "2011-01-04 10:00:00",
         "0.42",
         "13313.0",
         "United Kingdom"
        ],
        [
         "2",
         "539993",
         "21498",
         "RED RETROSPOT WRAP ",
         "25",
         "2011-01-04 10:00:00",
         "0.42",
         "13313.0",
         "United Kingdom"
        ],
        [
         "3",
         "539993",
         "22379",
         "RECYCLING BAG RETROSPOT ",
         "5",
         "2011-01-04 10:00:00",
         "2.1",
         "13313.0",
         "United Kingdom"
        ],
        [
         "4",
         "539993",
         "20718",
         "RED RETROSPOT SHOPPER BAG",
         "10",
         "2011-01-04 10:00:00",
         "1.25",
         "13313.0",
         "United Kingdom"
        ]
       ],
       "shape": {
        "columns": 8,
        "rows": 5
       }
      },
      "text/html": [
       "<div>\n",
       "<style scoped>\n",
       "    .dataframe tbody tr th:only-of-type {\n",
       "        vertical-align: middle;\n",
       "    }\n",
       "\n",
       "    .dataframe tbody tr th {\n",
       "        vertical-align: top;\n",
       "    }\n",
       "\n",
       "    .dataframe thead th {\n",
       "        text-align: right;\n",
       "    }\n",
       "</style>\n",
       "<table border=\"1\" class=\"dataframe\">\n",
       "  <thead>\n",
       "    <tr style=\"text-align: right;\">\n",
       "      <th></th>\n",
       "      <th>InvoiceNo</th>\n",
       "      <th>StockCode</th>\n",
       "      <th>Description</th>\n",
       "      <th>Quantity</th>\n",
       "      <th>InvoiceDate</th>\n",
       "      <th>UnitPrice</th>\n",
       "      <th>CustomerID</th>\n",
       "      <th>Country</th>\n",
       "    </tr>\n",
       "  </thead>\n",
       "  <tbody>\n",
       "    <tr>\n",
       "      <th>0</th>\n",
       "      <td>539993</td>\n",
       "      <td>22386</td>\n",
       "      <td>JUMBO BAG PINK POLKADOT</td>\n",
       "      <td>10</td>\n",
       "      <td>2011-01-04 10:00:00</td>\n",
       "      <td>1.95</td>\n",
       "      <td>13313.0</td>\n",
       "      <td>United Kingdom</td>\n",
       "    </tr>\n",
       "    <tr>\n",
       "      <th>1</th>\n",
       "      <td>539993</td>\n",
       "      <td>21499</td>\n",
       "      <td>BLUE POLKADOT WRAP</td>\n",
       "      <td>25</td>\n",
       "      <td>2011-01-04 10:00:00</td>\n",
       "      <td>0.42</td>\n",
       "      <td>13313.0</td>\n",
       "      <td>United Kingdom</td>\n",
       "    </tr>\n",
       "    <tr>\n",
       "      <th>2</th>\n",
       "      <td>539993</td>\n",
       "      <td>21498</td>\n",
       "      <td>RED RETROSPOT WRAP</td>\n",
       "      <td>25</td>\n",
       "      <td>2011-01-04 10:00:00</td>\n",
       "      <td>0.42</td>\n",
       "      <td>13313.0</td>\n",
       "      <td>United Kingdom</td>\n",
       "    </tr>\n",
       "    <tr>\n",
       "      <th>3</th>\n",
       "      <td>539993</td>\n",
       "      <td>22379</td>\n",
       "      <td>RECYCLING BAG RETROSPOT</td>\n",
       "      <td>5</td>\n",
       "      <td>2011-01-04 10:00:00</td>\n",
       "      <td>2.10</td>\n",
       "      <td>13313.0</td>\n",
       "      <td>United Kingdom</td>\n",
       "    </tr>\n",
       "    <tr>\n",
       "      <th>4</th>\n",
       "      <td>539993</td>\n",
       "      <td>20718</td>\n",
       "      <td>RED RETROSPOT SHOPPER BAG</td>\n",
       "      <td>10</td>\n",
       "      <td>2011-01-04 10:00:00</td>\n",
       "      <td>1.25</td>\n",
       "      <td>13313.0</td>\n",
       "      <td>United Kingdom</td>\n",
       "    </tr>\n",
       "  </tbody>\n",
       "</table>\n",
       "</div>"
      ],
      "text/plain": [
       "  InvoiceNo StockCode                Description  Quantity  \\\n",
       "0    539993     22386    JUMBO BAG PINK POLKADOT        10   \n",
       "1    539993     21499         BLUE POLKADOT WRAP        25   \n",
       "2    539993     21498        RED RETROSPOT WRAP         25   \n",
       "3    539993     22379   RECYCLING BAG RETROSPOT          5   \n",
       "4    539993     20718  RED RETROSPOT SHOPPER BAG        10   \n",
       "\n",
       "           InvoiceDate  UnitPrice  CustomerID         Country  \n",
       "0  2011-01-04 10:00:00       1.95     13313.0  United Kingdom  \n",
       "1  2011-01-04 10:00:00       0.42     13313.0  United Kingdom  \n",
       "2  2011-01-04 10:00:00       0.42     13313.0  United Kingdom  \n",
       "3  2011-01-04 10:00:00       2.10     13313.0  United Kingdom  \n",
       "4  2011-01-04 10:00:00       1.25     13313.0  United Kingdom  "
      ]
     },
     "execution_count": 2,
     "metadata": {},
     "output_type": "execute_result"
    }
   ],
   "source": [
    "df = pd.read_csv('Onlineretail.csv')\n",
    "df.head()"
   ]
  },
  {
   "cell_type": "code",
   "execution_count": 3,
   "metadata": {},
   "outputs": [
    {
     "data": {
      "application/vnd.microsoft.datawrangler.viewer.v0+json": {
       "columns": [
        {
         "name": "index",
         "rawType": "object",
         "type": "string"
        },
        {
         "name": "Quantity",
         "rawType": "float64",
         "type": "float"
        },
        {
         "name": "UnitPrice",
         "rawType": "float64",
         "type": "float"
        },
        {
         "name": "CustomerID",
         "rawType": "float64",
         "type": "float"
        }
       ],
       "conversionMethod": "pd.DataFrame",
       "ref": "6631abb3-e685-47b4-b7e5-aac78815d9d7",
       "rows": [
        [
         "count",
         "203422.0",
         "203422.0",
         "150039.0"
        ],
        [
         "mean",
         "9.585683947655612",
         "4.877819709765905",
         "15240.234832276941"
        ],
        [
         "std",
         "240.92131484679834",
         "113.68667572676667",
         "1717.6584928934976"
        ],
        [
         "min",
         "-74215.0",
         "0.0",
         "12346.0"
        ],
        [
         "25%",
         "1.0",
         "1.25",
         "13791.0"
        ],
        [
         "50%",
         "3.0",
         "2.1",
         "15061.0"
        ],
        [
         "75%",
         "10.0",
         "4.13",
         "16771.0"
        ],
        [
         "max",
         "74215.0",
         "38970.0",
         "18287.0"
        ]
       ],
       "shape": {
        "columns": 3,
        "rows": 8
       }
      },
      "text/html": [
       "<div>\n",
       "<style scoped>\n",
       "    .dataframe tbody tr th:only-of-type {\n",
       "        vertical-align: middle;\n",
       "    }\n",
       "\n",
       "    .dataframe tbody tr th {\n",
       "        vertical-align: top;\n",
       "    }\n",
       "\n",
       "    .dataframe thead th {\n",
       "        text-align: right;\n",
       "    }\n",
       "</style>\n",
       "<table border=\"1\" class=\"dataframe\">\n",
       "  <thead>\n",
       "    <tr style=\"text-align: right;\">\n",
       "      <th></th>\n",
       "      <th>Quantity</th>\n",
       "      <th>UnitPrice</th>\n",
       "      <th>CustomerID</th>\n",
       "    </tr>\n",
       "  </thead>\n",
       "  <tbody>\n",
       "    <tr>\n",
       "      <th>count</th>\n",
       "      <td>203422.000000</td>\n",
       "      <td>203422.000000</td>\n",
       "      <td>150039.000000</td>\n",
       "    </tr>\n",
       "    <tr>\n",
       "      <th>mean</th>\n",
       "      <td>9.585684</td>\n",
       "      <td>4.877820</td>\n",
       "      <td>15240.234832</td>\n",
       "    </tr>\n",
       "    <tr>\n",
       "      <th>std</th>\n",
       "      <td>240.921315</td>\n",
       "      <td>113.686676</td>\n",
       "      <td>1717.658493</td>\n",
       "    </tr>\n",
       "    <tr>\n",
       "      <th>min</th>\n",
       "      <td>-74215.000000</td>\n",
       "      <td>0.000000</td>\n",
       "      <td>12346.000000</td>\n",
       "    </tr>\n",
       "    <tr>\n",
       "      <th>25%</th>\n",
       "      <td>1.000000</td>\n",
       "      <td>1.250000</td>\n",
       "      <td>13791.000000</td>\n",
       "    </tr>\n",
       "    <tr>\n",
       "      <th>50%</th>\n",
       "      <td>3.000000</td>\n",
       "      <td>2.100000</td>\n",
       "      <td>15061.000000</td>\n",
       "    </tr>\n",
       "    <tr>\n",
       "      <th>75%</th>\n",
       "      <td>10.000000</td>\n",
       "      <td>4.130000</td>\n",
       "      <td>16771.000000</td>\n",
       "    </tr>\n",
       "    <tr>\n",
       "      <th>max</th>\n",
       "      <td>74215.000000</td>\n",
       "      <td>38970.000000</td>\n",
       "      <td>18287.000000</td>\n",
       "    </tr>\n",
       "  </tbody>\n",
       "</table>\n",
       "</div>"
      ],
      "text/plain": [
       "            Quantity      UnitPrice     CustomerID\n",
       "count  203422.000000  203422.000000  150039.000000\n",
       "mean        9.585684       4.877820   15240.234832\n",
       "std       240.921315     113.686676    1717.658493\n",
       "min    -74215.000000       0.000000   12346.000000\n",
       "25%         1.000000       1.250000   13791.000000\n",
       "50%         3.000000       2.100000   15061.000000\n",
       "75%        10.000000       4.130000   16771.000000\n",
       "max     74215.000000   38970.000000   18287.000000"
      ]
     },
     "execution_count": 3,
     "metadata": {},
     "output_type": "execute_result"
    }
   ],
   "source": [
    "df.describe()"
   ]
  },
  {
   "cell_type": "code",
   "execution_count": 4,
   "metadata": {},
   "outputs": [
    {
     "name": "stdout",
     "output_type": "stream",
     "text": [
      "<class 'pandas.core.frame.DataFrame'>\n",
      "RangeIndex: 203422 entries, 0 to 203421\n",
      "Data columns (total 8 columns):\n",
      " #   Column       Non-Null Count   Dtype  \n",
      "---  ------       --------------   -----  \n",
      " 0   InvoiceNo    203422 non-null  object \n",
      " 1   StockCode    203422 non-null  object \n",
      " 2   Description  202623 non-null  object \n",
      " 3   Quantity     203422 non-null  int64  \n",
      " 4   InvoiceDate  203422 non-null  object \n",
      " 5   UnitPrice    203422 non-null  float64\n",
      " 6   CustomerID   150039 non-null  float64\n",
      " 7   Country      203422 non-null  object \n",
      "dtypes: float64(2), int64(1), object(5)\n",
      "memory usage: 12.4+ MB\n"
     ]
    }
   ],
   "source": [
    "df.info()"
   ]
  },
  {
   "cell_type": "code",
   "execution_count": 5,
   "metadata": {},
   "outputs": [
    {
     "data": {
      "text/plain": [
       "InvoiceNo          0\n",
       "StockCode          0\n",
       "Description      799\n",
       "Quantity           0\n",
       "InvoiceDate        0\n",
       "UnitPrice          0\n",
       "CustomerID     53383\n",
       "Country            0\n",
       "dtype: int64"
      ]
     },
     "execution_count": 5,
     "metadata": {},
     "output_type": "execute_result"
    }
   ],
   "source": [
    "df.isnull().sum()"
   ]
  },
  {
   "cell_type": "code",
   "execution_count": 6,
   "metadata": {},
   "outputs": [],
   "source": [
    "df['InvoiceDate'] = pd.to_datetime(df['InvoiceDate'])"
   ]
  },
  {
   "cell_type": "code",
   "execution_count": 7,
   "metadata": {},
   "outputs": [
    {
     "data": {
      "text/plain": [
       "0   2011-01-04 10:00:00\n",
       "1   2011-01-04 10:00:00\n",
       "2   2011-01-04 10:00:00\n",
       "3   2011-01-04 10:00:00\n",
       "4   2011-01-04 10:00:00\n",
       "Name: InvoiceDate, dtype: datetime64[ns]"
      ]
     },
     "execution_count": 7,
     "metadata": {},
     "output_type": "execute_result"
    }
   ],
   "source": [
    "df['InvoiceDate'].head()"
   ]
  },
  {
   "cell_type": "code",
   "execution_count": 8,
   "metadata": {},
   "outputs": [
    {
     "data": {
      "text/plain": [
       "203417   2011-06-30 20:08:00\n",
       "203418   2011-06-30 20:08:00\n",
       "203419   2011-06-30 20:08:00\n",
       "203420   2011-06-30 20:08:00\n",
       "203421   2011-06-30 20:08:00\n",
       "Name: InvoiceDate, dtype: datetime64[ns]"
      ]
     },
     "execution_count": 8,
     "metadata": {},
     "output_type": "execute_result"
    }
   ],
   "source": [
    "df['InvoiceDate'].tail()"
   ]
  },
  {
   "cell_type": "code",
   "execution_count": 9,
   "metadata": {},
   "outputs": [
    {
     "name": "stdout",
     "output_type": "stream",
     "text": [
      "2011-06-30 20:08:00 2011-01-04 10:00:00\n"
     ]
    }
   ],
   "source": [
    "print(df['InvoiceDate'].max(), df['InvoiceDate'].min())"
   ]
  },
  {
   "cell_type": "code",
   "execution_count": 10,
   "metadata": {},
   "outputs": [
    {
     "data": {
      "text/plain": [
       "Index(['InvoiceNo', 'Quantity', 'InvoiceDate', 'UnitPrice', 'CustomerID'], dtype='object')"
      ]
     },
     "execution_count": 10,
     "metadata": {},
     "output_type": "execute_result"
    }
   ],
   "source": [
    "df_rfm = df.drop(columns=['Description',\"Country\", 'StockCode'])\n",
    "df_rfm.columns"
   ]
  },
  {
   "cell_type": "code",
   "execution_count": 11,
   "metadata": {},
   "outputs": [
    {
     "name": "stdout",
     "output_type": "stream",
     "text": [
      "<class 'pandas.core.frame.DataFrame'>\n",
      "Index: 198451 entries, 0 to 203421\n",
      "Data columns (total 5 columns):\n",
      " #   Column       Non-Null Count   Dtype         \n",
      "---  ------       --------------   -----         \n",
      " 0   InvoiceNo    198451 non-null  object        \n",
      " 1   Quantity     198451 non-null  int64         \n",
      " 2   InvoiceDate  198451 non-null  datetime64[ns]\n",
      " 3   UnitPrice    198451 non-null  float64       \n",
      " 4   CustomerID   146478 non-null  float64       \n",
      "dtypes: datetime64[ns](1), float64(2), int64(1), object(1)\n",
      "memory usage: 9.1+ MB\n"
     ]
    }
   ],
   "source": [
    "df_rfm = df_rfm[df_rfm['Quantity']>0]\n",
    "df_rfm = df_rfm[df_rfm['UnitPrice']>0]\n",
    "df_rfm.info()"
   ]
  },
  {
   "cell_type": "code",
   "execution_count": 12,
   "metadata": {},
   "outputs": [
    {
     "data": {
      "text/plain": [
       "InvoiceNo          0\n",
       "Quantity           0\n",
       "InvoiceDate        0\n",
       "UnitPrice          0\n",
       "CustomerID     51973\n",
       "dtype: int64"
      ]
     },
     "execution_count": 12,
     "metadata": {},
     "output_type": "execute_result"
    }
   ],
   "source": [
    "df_rfm.isnull().sum()"
   ]
  },
  {
   "cell_type": "code",
   "execution_count": 13,
   "metadata": {},
   "outputs": [
    {
     "name": "stdout",
     "output_type": "stream",
     "text": [
      "<class 'pandas.core.frame.DataFrame'>\n",
      "Index: 92374 entries, 0 to 203398\n",
      "Data columns (total 5 columns):\n",
      " #   Column       Non-Null Count  Dtype         \n",
      "---  ------       --------------  -----         \n",
      " 0   InvoiceNo    92374 non-null  object        \n",
      " 1   Quantity     92374 non-null  int64         \n",
      " 2   InvoiceDate  92374 non-null  datetime64[ns]\n",
      " 3   UnitPrice    92374 non-null  float64       \n",
      " 4   CustomerID   92374 non-null  float64       \n",
      "dtypes: datetime64[ns](1), float64(2), int64(1), object(1)\n",
      "memory usage: 4.2+ MB\n"
     ]
    }
   ],
   "source": [
    "df_rfm.dropna(inplace=True)\n",
    "df_rfm = df_rfm.drop_duplicates()\n",
    "df_rfm.info()"
   ]
  },
  {
   "cell_type": "code",
   "execution_count": 14,
   "metadata": {},
   "outputs": [
    {
     "data": {
      "application/vnd.microsoft.datawrangler.viewer.v0+json": {
       "columns": [
        {
         "name": "index",
         "rawType": "int64",
         "type": "integer"
        },
        {
         "name": "InvoiceNo",
         "rawType": "object",
         "type": "string"
        },
        {
         "name": "Quantity",
         "rawType": "int64",
         "type": "integer"
        },
        {
         "name": "InvoiceDate",
         "rawType": "datetime64[ns]",
         "type": "datetime"
        },
        {
         "name": "UnitPrice",
         "rawType": "float64",
         "type": "float"
        },
        {
         "name": "CustomerID",
         "rawType": "float64",
         "type": "float"
        }
       ],
       "conversionMethod": "pd.DataFrame",
       "ref": "ec90f216-d30b-4fb1-9256-dddcaa7d3131",
       "rows": [
        [
         "0",
         "539993",
         "10",
         "2011-01-04 10:00:00",
         "1.95",
         "13313.0"
        ],
        [
         "1",
         "539993",
         "25",
         "2011-01-04 10:00:00",
         "0.42",
         "13313.0"
        ],
        [
         "3",
         "539993",
         "5",
         "2011-01-04 10:00:00",
         "2.1",
         "13313.0"
        ],
        [
         "4",
         "539993",
         "10",
         "2011-01-04 10:00:00",
         "1.25",
         "13313.0"
        ],
        [
         "6",
         "539993",
         "6",
         "2011-01-04 10:00:00",
         "3.25",
         "13313.0"
        ],
        [
         "7",
         "539993",
         "12",
         "2011-01-04 10:00:00",
         "1.45",
         "13313.0"
        ],
        [
         "8",
         "539993",
         "6",
         "2011-01-04 10:00:00",
         "2.95",
         "13313.0"
        ],
        [
         "9",
         "539993",
         "8",
         "2011-01-04 10:00:00",
         "1.95",
         "13313.0"
        ],
        [
         "10",
         "539993",
         "6",
         "2011-01-04 10:00:00",
         "2.55",
         "13313.0"
        ],
        [
         "13",
         "539993",
         "12",
         "2011-01-04 10:00:00",
         "2.95",
         "13313.0"
        ],
        [
         "15",
         "539993",
         "8",
         "2011-01-04 10:00:00",
         "2.55",
         "13313.0"
        ],
        [
         "16",
         "539993",
         "4",
         "2011-01-04 10:00:00",
         "4.25",
         "13313.0"
        ],
        [
         "24",
         "540001",
         "32",
         "2011-01-04 10:22:00",
         "2.55",
         "18097.0"
        ],
        [
         "25",
         "540001",
         "24",
         "2011-01-04 10:22:00",
         "2.95",
         "18097.0"
        ],
        [
         "26",
         "540001",
         "6",
         "2011-01-04 10:22:00",
         "9.95",
         "18097.0"
        ],
        [
         "27",
         "540001",
         "48",
         "2011-01-04 10:22:00",
         "0.42",
         "18097.0"
        ],
        [
         "28",
         "540001",
         "16",
         "2011-01-04 10:22:00",
         "3.39",
         "18097.0"
        ],
        [
         "29",
         "540001",
         "12",
         "2011-01-04 10:22:00",
         "4.25",
         "18097.0"
        ],
        [
         "30",
         "540001",
         "60",
         "2011-01-04 10:22:00",
         "1.45",
         "18097.0"
        ],
        [
         "32",
         "540001",
         "24",
         "2011-01-04 10:22:00",
         "1.25",
         "18097.0"
        ],
        [
         "33",
         "540002",
         "12",
         "2011-01-04 10:23:00",
         "1.65",
         "16656.0"
        ],
        [
         "34",
         "540002",
         "8",
         "2011-01-04 10:23:00",
         "8.5",
         "16656.0"
        ],
        [
         "35",
         "540002",
         "24",
         "2011-01-04 10:23:00",
         "4.95",
         "16656.0"
        ],
        [
         "36",
         "540002",
         "144",
         "2011-01-04 10:23:00",
         "0.72",
         "16656.0"
        ],
        [
         "37",
         "540003",
         "12",
         "2011-01-04 10:37:00",
         "0.85",
         "16875.0"
        ],
        [
         "38",
         "540003",
         "1",
         "2011-01-04 10:37:00",
         "16.95",
         "16875.0"
        ],
        [
         "39",
         "540003",
         "2",
         "2011-01-04 10:37:00",
         "8.5",
         "16875.0"
        ],
        [
         "40",
         "540003",
         "4",
         "2011-01-04 10:37:00",
         "9.95",
         "16875.0"
        ],
        [
         "43",
         "540003",
         "3",
         "2011-01-04 10:37:00",
         "5.95",
         "16875.0"
        ],
        [
         "44",
         "540003",
         "2",
         "2011-01-04 10:37:00",
         "9.95",
         "16875.0"
        ],
        [
         "47",
         "540003",
         "12",
         "2011-01-04 10:37:00",
         "0.95",
         "16875.0"
        ],
        [
         "50",
         "540003",
         "12",
         "2011-01-04 10:37:00",
         "1.45",
         "16875.0"
        ],
        [
         "52",
         "540003",
         "12",
         "2011-01-04 10:37:00",
         "1.25",
         "16875.0"
        ],
        [
         "56",
         "540003",
         "3",
         "2011-01-04 10:37:00",
         "4.95",
         "16875.0"
        ],
        [
         "57",
         "540003",
         "6",
         "2011-01-04 10:37:00",
         "2.95",
         "16875.0"
        ],
        [
         "59",
         "540004",
         "72",
         "2011-01-04 10:37:00",
         "1.06",
         "13094.0"
        ],
        [
         "60",
         "540005",
         "8",
         "2011-01-04 10:38:00",
         "3.95",
         "17315.0"
        ],
        [
         "61",
         "540005",
         "24",
         "2011-01-04 10:38:00",
         "0.85",
         "17315.0"
        ],
        [
         "62",
         "540005",
         "2",
         "2011-01-04 10:38:00",
         "1.69",
         "17315.0"
        ],
        [
         "63",
         "540005",
         "1",
         "2011-01-04 10:38:00",
         "2.95",
         "17315.0"
        ],
        [
         "64",
         "540005",
         "12",
         "2011-01-04 10:38:00",
         "1.65",
         "17315.0"
        ],
        [
         "65",
         "540005",
         "1",
         "2011-01-04 10:38:00",
         "4.25",
         "17315.0"
        ],
        [
         "67",
         "540005",
         "15",
         "2011-01-04 10:38:00",
         "1.25",
         "17315.0"
        ],
        [
         "68",
         "540005",
         "1",
         "2011-01-04 10:38:00",
         "0.95",
         "17315.0"
        ],
        [
         "69",
         "540005",
         "6",
         "2011-01-04 10:38:00",
         "1.65",
         "17315.0"
        ],
        [
         "71",
         "540005",
         "24",
         "2011-01-04 10:38:00",
         "0.42",
         "17315.0"
        ],
        [
         "72",
         "540005",
         "12",
         "2011-01-04 10:38:00",
         "1.95",
         "17315.0"
        ],
        [
         "74",
         "540005",
         "12",
         "2011-01-04 10:38:00",
         "1.25",
         "17315.0"
        ],
        [
         "86",
         "540013",
         "1",
         "2011-01-04 11:30:00",
         "7.95",
         "16255.0"
        ],
        [
         "87",
         "540013",
         "2",
         "2011-01-04 11:30:00",
         "2.55",
         "16255.0"
        ]
       ],
       "shape": {
        "columns": 5,
        "rows": 92374
       }
      },
      "text/html": [
       "<div>\n",
       "<style scoped>\n",
       "    .dataframe tbody tr th:only-of-type {\n",
       "        vertical-align: middle;\n",
       "    }\n",
       "\n",
       "    .dataframe tbody tr th {\n",
       "        vertical-align: top;\n",
       "    }\n",
       "\n",
       "    .dataframe thead th {\n",
       "        text-align: right;\n",
       "    }\n",
       "</style>\n",
       "<table border=\"1\" class=\"dataframe\">\n",
       "  <thead>\n",
       "    <tr style=\"text-align: right;\">\n",
       "      <th></th>\n",
       "      <th>InvoiceNo</th>\n",
       "      <th>Quantity</th>\n",
       "      <th>InvoiceDate</th>\n",
       "      <th>UnitPrice</th>\n",
       "      <th>CustomerID</th>\n",
       "    </tr>\n",
       "  </thead>\n",
       "  <tbody>\n",
       "    <tr>\n",
       "      <th>0</th>\n",
       "      <td>539993</td>\n",
       "      <td>10</td>\n",
       "      <td>2011-01-04 10:00:00</td>\n",
       "      <td>1.95</td>\n",
       "      <td>13313.0</td>\n",
       "    </tr>\n",
       "    <tr>\n",
       "      <th>1</th>\n",
       "      <td>539993</td>\n",
       "      <td>25</td>\n",
       "      <td>2011-01-04 10:00:00</td>\n",
       "      <td>0.42</td>\n",
       "      <td>13313.0</td>\n",
       "    </tr>\n",
       "    <tr>\n",
       "      <th>3</th>\n",
       "      <td>539993</td>\n",
       "      <td>5</td>\n",
       "      <td>2011-01-04 10:00:00</td>\n",
       "      <td>2.10</td>\n",
       "      <td>13313.0</td>\n",
       "    </tr>\n",
       "    <tr>\n",
       "      <th>4</th>\n",
       "      <td>539993</td>\n",
       "      <td>10</td>\n",
       "      <td>2011-01-04 10:00:00</td>\n",
       "      <td>1.25</td>\n",
       "      <td>13313.0</td>\n",
       "    </tr>\n",
       "    <tr>\n",
       "      <th>6</th>\n",
       "      <td>539993</td>\n",
       "      <td>6</td>\n",
       "      <td>2011-01-04 10:00:00</td>\n",
       "      <td>3.25</td>\n",
       "      <td>13313.0</td>\n",
       "    </tr>\n",
       "    <tr>\n",
       "      <th>...</th>\n",
       "      <td>...</td>\n",
       "      <td>...</td>\n",
       "      <td>...</td>\n",
       "      <td>...</td>\n",
       "      <td>...</td>\n",
       "    </tr>\n",
       "    <tr>\n",
       "      <th>203392</th>\n",
       "      <td>558637</td>\n",
       "      <td>1</td>\n",
       "      <td>2011-06-30 20:08:00</td>\n",
       "      <td>1.25</td>\n",
       "      <td>17891.0</td>\n",
       "    </tr>\n",
       "    <tr>\n",
       "      <th>203393</th>\n",
       "      <td>558637</td>\n",
       "      <td>1</td>\n",
       "      <td>2011-06-30 20:08:00</td>\n",
       "      <td>2.95</td>\n",
       "      <td>17891.0</td>\n",
       "    </tr>\n",
       "    <tr>\n",
       "      <th>203395</th>\n",
       "      <td>558637</td>\n",
       "      <td>1</td>\n",
       "      <td>2011-06-30 20:08:00</td>\n",
       "      <td>2.10</td>\n",
       "      <td>17891.0</td>\n",
       "    </tr>\n",
       "    <tr>\n",
       "      <th>203396</th>\n",
       "      <td>558637</td>\n",
       "      <td>12</td>\n",
       "      <td>2011-06-30 20:08:00</td>\n",
       "      <td>0.85</td>\n",
       "      <td>17891.0</td>\n",
       "    </tr>\n",
       "    <tr>\n",
       "      <th>203398</th>\n",
       "      <td>558637</td>\n",
       "      <td>20</td>\n",
       "      <td>2011-06-30 20:08:00</td>\n",
       "      <td>0.65</td>\n",
       "      <td>17891.0</td>\n",
       "    </tr>\n",
       "  </tbody>\n",
       "</table>\n",
       "<p>92374 rows × 5 columns</p>\n",
       "</div>"
      ],
      "text/plain": [
       "       InvoiceNo  Quantity         InvoiceDate  UnitPrice  CustomerID\n",
       "0         539993        10 2011-01-04 10:00:00       1.95     13313.0\n",
       "1         539993        25 2011-01-04 10:00:00       0.42     13313.0\n",
       "3         539993         5 2011-01-04 10:00:00       2.10     13313.0\n",
       "4         539993        10 2011-01-04 10:00:00       1.25     13313.0\n",
       "6         539993         6 2011-01-04 10:00:00       3.25     13313.0\n",
       "...          ...       ...                 ...        ...         ...\n",
       "203392    558637         1 2011-06-30 20:08:00       1.25     17891.0\n",
       "203393    558637         1 2011-06-30 20:08:00       2.95     17891.0\n",
       "203395    558637         1 2011-06-30 20:08:00       2.10     17891.0\n",
       "203396    558637        12 2011-06-30 20:08:00       0.85     17891.0\n",
       "203398    558637        20 2011-06-30 20:08:00       0.65     17891.0\n",
       "\n",
       "[92374 rows x 5 columns]"
      ]
     },
     "execution_count": 14,
     "metadata": {},
     "output_type": "execute_result"
    }
   ],
   "source": [
    "df_rfm"
   ]
  },
  {
   "cell_type": "code",
   "execution_count": 15,
   "metadata": {},
   "outputs": [
    {
     "data": {
      "application/vnd.microsoft.datawrangler.viewer.v0+json": {
       "columns": [
        {
         "name": "index",
         "rawType": "int64",
         "type": "integer"
        },
        {
         "name": "InvoiceNo",
         "rawType": "object",
         "type": "string"
        },
        {
         "name": "Quantity",
         "rawType": "int64",
         "type": "integer"
        },
        {
         "name": "InvoiceDate",
         "rawType": "datetime64[ns]",
         "type": "datetime"
        },
        {
         "name": "UnitPrice",
         "rawType": "float64",
         "type": "float"
        },
        {
         "name": "CustomerID",
         "rawType": "float64",
         "type": "float"
        },
        {
         "name": "Cost",
         "rawType": "float64",
         "type": "float"
        }
       ],
       "conversionMethod": "pd.DataFrame",
       "ref": "029bcd97-d143-4a67-a73c-10e912680e72",
       "rows": [
        [
         "0",
         "539993",
         "10",
         "2011-01-04 10:00:00",
         "1.95",
         "13313.0",
         "19.5"
        ],
        [
         "1",
         "539993",
         "25",
         "2011-01-04 10:00:00",
         "0.42",
         "13313.0",
         "10.5"
        ],
        [
         "3",
         "539993",
         "5",
         "2011-01-04 10:00:00",
         "2.1",
         "13313.0",
         "10.5"
        ],
        [
         "4",
         "539993",
         "10",
         "2011-01-04 10:00:00",
         "1.25",
         "13313.0",
         "12.5"
        ],
        [
         "6",
         "539993",
         "6",
         "2011-01-04 10:00:00",
         "3.25",
         "13313.0",
         "19.5"
        ]
       ],
       "shape": {
        "columns": 6,
        "rows": 5
       }
      },
      "text/html": [
       "<div>\n",
       "<style scoped>\n",
       "    .dataframe tbody tr th:only-of-type {\n",
       "        vertical-align: middle;\n",
       "    }\n",
       "\n",
       "    .dataframe tbody tr th {\n",
       "        vertical-align: top;\n",
       "    }\n",
       "\n",
       "    .dataframe thead th {\n",
       "        text-align: right;\n",
       "    }\n",
       "</style>\n",
       "<table border=\"1\" class=\"dataframe\">\n",
       "  <thead>\n",
       "    <tr style=\"text-align: right;\">\n",
       "      <th></th>\n",
       "      <th>InvoiceNo</th>\n",
       "      <th>Quantity</th>\n",
       "      <th>InvoiceDate</th>\n",
       "      <th>UnitPrice</th>\n",
       "      <th>CustomerID</th>\n",
       "      <th>Cost</th>\n",
       "    </tr>\n",
       "  </thead>\n",
       "  <tbody>\n",
       "    <tr>\n",
       "      <th>0</th>\n",
       "      <td>539993</td>\n",
       "      <td>10</td>\n",
       "      <td>2011-01-04 10:00:00</td>\n",
       "      <td>1.95</td>\n",
       "      <td>13313.0</td>\n",
       "      <td>19.5</td>\n",
       "    </tr>\n",
       "    <tr>\n",
       "      <th>1</th>\n",
       "      <td>539993</td>\n",
       "      <td>25</td>\n",
       "      <td>2011-01-04 10:00:00</td>\n",
       "      <td>0.42</td>\n",
       "      <td>13313.0</td>\n",
       "      <td>10.5</td>\n",
       "    </tr>\n",
       "    <tr>\n",
       "      <th>3</th>\n",
       "      <td>539993</td>\n",
       "      <td>5</td>\n",
       "      <td>2011-01-04 10:00:00</td>\n",
       "      <td>2.10</td>\n",
       "      <td>13313.0</td>\n",
       "      <td>10.5</td>\n",
       "    </tr>\n",
       "    <tr>\n",
       "      <th>4</th>\n",
       "      <td>539993</td>\n",
       "      <td>10</td>\n",
       "      <td>2011-01-04 10:00:00</td>\n",
       "      <td>1.25</td>\n",
       "      <td>13313.0</td>\n",
       "      <td>12.5</td>\n",
       "    </tr>\n",
       "    <tr>\n",
       "      <th>6</th>\n",
       "      <td>539993</td>\n",
       "      <td>6</td>\n",
       "      <td>2011-01-04 10:00:00</td>\n",
       "      <td>3.25</td>\n",
       "      <td>13313.0</td>\n",
       "      <td>19.5</td>\n",
       "    </tr>\n",
       "  </tbody>\n",
       "</table>\n",
       "</div>"
      ],
      "text/plain": [
       "  InvoiceNo  Quantity         InvoiceDate  UnitPrice  CustomerID  Cost\n",
       "0    539993        10 2011-01-04 10:00:00       1.95     13313.0  19.5\n",
       "1    539993        25 2011-01-04 10:00:00       0.42     13313.0  10.5\n",
       "3    539993         5 2011-01-04 10:00:00       2.10     13313.0  10.5\n",
       "4    539993        10 2011-01-04 10:00:00       1.25     13313.0  12.5\n",
       "6    539993         6 2011-01-04 10:00:00       3.25     13313.0  19.5"
      ]
     },
     "execution_count": 15,
     "metadata": {},
     "output_type": "execute_result"
    }
   ],
   "source": [
    "df_rfm['Cost'] = df_rfm[\"Quantity\"]*df_rfm['UnitPrice']\n",
    "df_rfm.head()"
   ]
  },
  {
   "cell_type": "code",
   "execution_count": 16,
   "metadata": {},
   "outputs": [
    {
     "data": {
      "application/vnd.microsoft.datawrangler.viewer.v0+json": {
       "columns": [
        {
         "name": "InvoiceNo",
         "rawType": "object",
         "type": "string"
        },
        {
         "name": "Cost",
         "rawType": "float64",
         "type": "float"
        }
       ],
       "conversionMethod": "pd.DataFrame",
       "ref": "cc0e51eb-a134-4822-a984-15cb9e4b039c",
       "rows": [
        [
         "539993",
         "211.3"
        ],
        [
         "540001",
         "454.5"
        ],
        [
         "540002",
         "310.28"
        ],
        [
         "540003",
         "198.05"
        ],
        [
         "540004",
         "76.32000000000001"
        ]
       ],
       "shape": {
        "columns": 1,
        "rows": 5
       }
      },
      "text/html": [
       "<div>\n",
       "<style scoped>\n",
       "    .dataframe tbody tr th:only-of-type {\n",
       "        vertical-align: middle;\n",
       "    }\n",
       "\n",
       "    .dataframe tbody tr th {\n",
       "        vertical-align: top;\n",
       "    }\n",
       "\n",
       "    .dataframe thead th {\n",
       "        text-align: right;\n",
       "    }\n",
       "</style>\n",
       "<table border=\"1\" class=\"dataframe\">\n",
       "  <thead>\n",
       "    <tr style=\"text-align: right;\">\n",
       "      <th></th>\n",
       "      <th>Cost</th>\n",
       "    </tr>\n",
       "    <tr>\n",
       "      <th>InvoiceNo</th>\n",
       "      <th></th>\n",
       "    </tr>\n",
       "  </thead>\n",
       "  <tbody>\n",
       "    <tr>\n",
       "      <th>539993</th>\n",
       "      <td>211.30</td>\n",
       "    </tr>\n",
       "    <tr>\n",
       "      <th>540001</th>\n",
       "      <td>454.50</td>\n",
       "    </tr>\n",
       "    <tr>\n",
       "      <th>540002</th>\n",
       "      <td>310.28</td>\n",
       "    </tr>\n",
       "    <tr>\n",
       "      <th>540003</th>\n",
       "      <td>198.05</td>\n",
       "    </tr>\n",
       "    <tr>\n",
       "      <th>540004</th>\n",
       "      <td>76.32</td>\n",
       "    </tr>\n",
       "  </tbody>\n",
       "</table>\n",
       "</div>"
      ],
      "text/plain": [
       "             Cost\n",
       "InvoiceNo        \n",
       "539993     211.30\n",
       "540001     454.50\n",
       "540002     310.28\n",
       "540003     198.05\n",
       "540004      76.32"
      ]
     },
     "execution_count": 16,
     "metadata": {},
     "output_type": "execute_result"
    }
   ],
   "source": [
    "df_invoice = df_rfm[['InvoiceNo',\"Cost\"]].groupby('InvoiceNo').sum()\n",
    "df_invoice.head()"
   ]
  },
  {
   "cell_type": "code",
   "execution_count": 17,
   "metadata": {},
   "outputs": [
    {
     "name": "stdout",
     "output_type": "stream",
     "text": [
      "datetime64[ns]\n"
     ]
    }
   ],
   "source": [
    "#df_rfm['InvoiceDate'] = pd.to_datetime(df['InvoiceDate'])\n",
    "# Kiểm tra kiểu dữ liệu của cột InvoiceDate\n",
    "print(df_rfm['InvoiceDate'].dtype)"
   ]
  },
  {
   "cell_type": "code",
   "execution_count": 18,
   "metadata": {},
   "outputs": [
    {
     "data": {
      "application/vnd.microsoft.datawrangler.viewer.v0+json": {
       "columns": [
        {
         "name": "index",
         "rawType": "int64",
         "type": "integer"
        },
        {
         "name": "InvoiceNo",
         "rawType": "object",
         "type": "string"
        },
        {
         "name": "Quantity",
         "rawType": "int64",
         "type": "integer"
        },
        {
         "name": "InvoiceDate",
         "rawType": "datetime64[ns]",
         "type": "datetime"
        },
        {
         "name": "UnitPrice",
         "rawType": "float64",
         "type": "float"
        },
        {
         "name": "CustomerID",
         "rawType": "float64",
         "type": "float"
        },
        {
         "name": "Cost",
         "rawType": "float64",
         "type": "float"
        }
       ],
       "conversionMethod": "pd.DataFrame",
       "ref": "6e62a2de-8caf-4a5b-b1fb-23c5ed5b9aa7",
       "rows": [
        [
         "0",
         "539993",
         "10",
         "2011-01-04 10:00:00",
         "1.95",
         "13313.0",
         "19.5"
        ],
        [
         "1",
         "539993",
         "25",
         "2011-01-04 10:00:00",
         "0.42",
         "13313.0",
         "10.5"
        ],
        [
         "3",
         "539993",
         "5",
         "2011-01-04 10:00:00",
         "2.1",
         "13313.0",
         "10.5"
        ],
        [
         "4",
         "539993",
         "10",
         "2011-01-04 10:00:00",
         "1.25",
         "13313.0",
         "12.5"
        ],
        [
         "6",
         "539993",
         "6",
         "2011-01-04 10:00:00",
         "3.25",
         "13313.0",
         "19.5"
        ]
       ],
       "shape": {
        "columns": 6,
        "rows": 5
       }
      },
      "text/html": [
       "<div>\n",
       "<style scoped>\n",
       "    .dataframe tbody tr th:only-of-type {\n",
       "        vertical-align: middle;\n",
       "    }\n",
       "\n",
       "    .dataframe tbody tr th {\n",
       "        vertical-align: top;\n",
       "    }\n",
       "\n",
       "    .dataframe thead th {\n",
       "        text-align: right;\n",
       "    }\n",
       "</style>\n",
       "<table border=\"1\" class=\"dataframe\">\n",
       "  <thead>\n",
       "    <tr style=\"text-align: right;\">\n",
       "      <th></th>\n",
       "      <th>InvoiceNo</th>\n",
       "      <th>Quantity</th>\n",
       "      <th>InvoiceDate</th>\n",
       "      <th>UnitPrice</th>\n",
       "      <th>CustomerID</th>\n",
       "      <th>Cost</th>\n",
       "    </tr>\n",
       "  </thead>\n",
       "  <tbody>\n",
       "    <tr>\n",
       "      <th>0</th>\n",
       "      <td>539993</td>\n",
       "      <td>10</td>\n",
       "      <td>2011-01-04 10:00:00</td>\n",
       "      <td>1.95</td>\n",
       "      <td>13313.0</td>\n",
       "      <td>19.5</td>\n",
       "    </tr>\n",
       "    <tr>\n",
       "      <th>1</th>\n",
       "      <td>539993</td>\n",
       "      <td>25</td>\n",
       "      <td>2011-01-04 10:00:00</td>\n",
       "      <td>0.42</td>\n",
       "      <td>13313.0</td>\n",
       "      <td>10.5</td>\n",
       "    </tr>\n",
       "    <tr>\n",
       "      <th>3</th>\n",
       "      <td>539993</td>\n",
       "      <td>5</td>\n",
       "      <td>2011-01-04 10:00:00</td>\n",
       "      <td>2.10</td>\n",
       "      <td>13313.0</td>\n",
       "      <td>10.5</td>\n",
       "    </tr>\n",
       "    <tr>\n",
       "      <th>4</th>\n",
       "      <td>539993</td>\n",
       "      <td>10</td>\n",
       "      <td>2011-01-04 10:00:00</td>\n",
       "      <td>1.25</td>\n",
       "      <td>13313.0</td>\n",
       "      <td>12.5</td>\n",
       "    </tr>\n",
       "    <tr>\n",
       "      <th>6</th>\n",
       "      <td>539993</td>\n",
       "      <td>6</td>\n",
       "      <td>2011-01-04 10:00:00</td>\n",
       "      <td>3.25</td>\n",
       "      <td>13313.0</td>\n",
       "      <td>19.5</td>\n",
       "    </tr>\n",
       "  </tbody>\n",
       "</table>\n",
       "</div>"
      ],
      "text/plain": [
       "  InvoiceNo  Quantity         InvoiceDate  UnitPrice  CustomerID  Cost\n",
       "0    539993        10 2011-01-04 10:00:00       1.95     13313.0  19.5\n",
       "1    539993        25 2011-01-04 10:00:00       0.42     13313.0  10.5\n",
       "3    539993         5 2011-01-04 10:00:00       2.10     13313.0  10.5\n",
       "4    539993        10 2011-01-04 10:00:00       1.25     13313.0  12.5\n",
       "6    539993         6 2011-01-04 10:00:00       3.25     13313.0  19.5"
      ]
     },
     "execution_count": 18,
     "metadata": {},
     "output_type": "execute_result"
    }
   ],
   "source": [
    "df_rfm.head()"
   ]
  },
  {
   "cell_type": "code",
   "execution_count": 19,
   "metadata": {},
   "outputs": [
    {
     "data": {
      "application/vnd.microsoft.datawrangler.viewer.v0+json": {
       "columns": [
        {
         "name": "index",
         "rawType": "int64",
         "type": "integer"
        },
        {
         "name": "InvoiceNo",
         "rawType": "object",
         "type": "string"
        },
        {
         "name": "Quantity",
         "rawType": "int64",
         "type": "integer"
        },
        {
         "name": "InvoiceDate",
         "rawType": "datetime64[ns]",
         "type": "datetime"
        },
        {
         "name": "UnitPrice",
         "rawType": "float64",
         "type": "float"
        },
        {
         "name": "CustomerID",
         "rawType": "float64",
         "type": "float"
        },
        {
         "name": "Cost",
         "rawType": "float64",
         "type": "float"
        }
       ],
       "conversionMethod": "pd.DataFrame",
       "ref": "f983f5ad-0a30-43c4-8c2a-e778bbe2de7d",
       "rows": [
        [
         "203392",
         "558637",
         "1",
         "2011-06-30 20:08:00",
         "1.25",
         "17891.0",
         "1.25"
        ],
        [
         "203393",
         "558637",
         "1",
         "2011-06-30 20:08:00",
         "2.95",
         "17891.0",
         "2.95"
        ],
        [
         "203395",
         "558637",
         "1",
         "2011-06-30 20:08:00",
         "2.1",
         "17891.0",
         "2.1"
        ],
        [
         "203396",
         "558637",
         "12",
         "2011-06-30 20:08:00",
         "0.85",
         "17891.0",
         "10.2"
        ],
        [
         "203398",
         "558637",
         "20",
         "2011-06-30 20:08:00",
         "0.65",
         "17891.0",
         "13.0"
        ]
       ],
       "shape": {
        "columns": 6,
        "rows": 5
       }
      },
      "text/html": [
       "<div>\n",
       "<style scoped>\n",
       "    .dataframe tbody tr th:only-of-type {\n",
       "        vertical-align: middle;\n",
       "    }\n",
       "\n",
       "    .dataframe tbody tr th {\n",
       "        vertical-align: top;\n",
       "    }\n",
       "\n",
       "    .dataframe thead th {\n",
       "        text-align: right;\n",
       "    }\n",
       "</style>\n",
       "<table border=\"1\" class=\"dataframe\">\n",
       "  <thead>\n",
       "    <tr style=\"text-align: right;\">\n",
       "      <th></th>\n",
       "      <th>InvoiceNo</th>\n",
       "      <th>Quantity</th>\n",
       "      <th>InvoiceDate</th>\n",
       "      <th>UnitPrice</th>\n",
       "      <th>CustomerID</th>\n",
       "      <th>Cost</th>\n",
       "    </tr>\n",
       "  </thead>\n",
       "  <tbody>\n",
       "    <tr>\n",
       "      <th>203392</th>\n",
       "      <td>558637</td>\n",
       "      <td>1</td>\n",
       "      <td>2011-06-30 20:08:00</td>\n",
       "      <td>1.25</td>\n",
       "      <td>17891.0</td>\n",
       "      <td>1.25</td>\n",
       "    </tr>\n",
       "    <tr>\n",
       "      <th>203393</th>\n",
       "      <td>558637</td>\n",
       "      <td>1</td>\n",
       "      <td>2011-06-30 20:08:00</td>\n",
       "      <td>2.95</td>\n",
       "      <td>17891.0</td>\n",
       "      <td>2.95</td>\n",
       "    </tr>\n",
       "    <tr>\n",
       "      <th>203395</th>\n",
       "      <td>558637</td>\n",
       "      <td>1</td>\n",
       "      <td>2011-06-30 20:08:00</td>\n",
       "      <td>2.10</td>\n",
       "      <td>17891.0</td>\n",
       "      <td>2.10</td>\n",
       "    </tr>\n",
       "    <tr>\n",
       "      <th>203396</th>\n",
       "      <td>558637</td>\n",
       "      <td>12</td>\n",
       "      <td>2011-06-30 20:08:00</td>\n",
       "      <td>0.85</td>\n",
       "      <td>17891.0</td>\n",
       "      <td>10.20</td>\n",
       "    </tr>\n",
       "    <tr>\n",
       "      <th>203398</th>\n",
       "      <td>558637</td>\n",
       "      <td>20</td>\n",
       "      <td>2011-06-30 20:08:00</td>\n",
       "      <td>0.65</td>\n",
       "      <td>17891.0</td>\n",
       "      <td>13.00</td>\n",
       "    </tr>\n",
       "  </tbody>\n",
       "</table>\n",
       "</div>"
      ],
      "text/plain": [
       "       InvoiceNo  Quantity         InvoiceDate  UnitPrice  CustomerID   Cost\n",
       "203392    558637         1 2011-06-30 20:08:00       1.25     17891.0   1.25\n",
       "203393    558637         1 2011-06-30 20:08:00       2.95     17891.0   2.95\n",
       "203395    558637         1 2011-06-30 20:08:00       2.10     17891.0   2.10\n",
       "203396    558637        12 2011-06-30 20:08:00       0.85     17891.0  10.20\n",
       "203398    558637        20 2011-06-30 20:08:00       0.65     17891.0  13.00"
      ]
     },
     "execution_count": 19,
     "metadata": {},
     "output_type": "execute_result"
    }
   ],
   "source": [
    "df_rfm.tail()"
   ]
  },
  {
   "cell_type": "code",
   "execution_count": 20,
   "metadata": {},
   "outputs": [
    {
     "data": {
      "text/plain": [
       "Timedelta('177 days 10:08:00')"
      ]
     },
     "execution_count": 20,
     "metadata": {},
     "output_type": "execute_result"
    }
   ],
   "source": [
    "now = df_rfm['InvoiceDate'].max() \n",
    "now - df_rfm['InvoiceDate'][0]"
   ]
  },
  {
   "cell_type": "code",
   "execution_count": 21,
   "metadata": {},
   "outputs": [
    {
     "name": "stdout",
     "output_type": "stream",
     "text": [
      "2011-06-30 20:08:00\n"
     ]
    }
   ],
   "source": [
    "print(now)"
   ]
  },
  {
   "cell_type": "code",
   "execution_count": 22,
   "metadata": {},
   "outputs": [
    {
     "data": {
      "application/vnd.microsoft.datawrangler.viewer.v0+json": {
       "columns": [
        {
         "name": "index",
         "rawType": "int64",
         "type": "integer"
        },
        {
         "name": "InvoiceNo",
         "rawType": "object",
         "type": "string"
        },
        {
         "name": "Quantity",
         "rawType": "int64",
         "type": "integer"
        },
        {
         "name": "UnitPrice",
         "rawType": "float64",
         "type": "float"
        },
        {
         "name": "CustomerID",
         "rawType": "float64",
         "type": "float"
        },
        {
         "name": "Cost",
         "rawType": "float64",
         "type": "float"
        },
        {
         "name": "Recency",
         "rawType": "int64",
         "type": "integer"
        }
       ],
       "conversionMethod": "pd.DataFrame",
       "ref": "09ecfc88-3aef-46d3-80c5-c506bfafe378",
       "rows": [
        [
         "0",
         "539993",
         "10",
         "1.95",
         "13313.0",
         "19.5",
         "177"
        ],
        [
         "1",
         "539993",
         "25",
         "0.42",
         "13313.0",
         "10.5",
         "177"
        ],
        [
         "3",
         "539993",
         "5",
         "2.1",
         "13313.0",
         "10.5",
         "177"
        ],
        [
         "4",
         "539993",
         "10",
         "1.25",
         "13313.0",
         "12.5",
         "177"
        ],
        [
         "6",
         "539993",
         "6",
         "3.25",
         "13313.0",
         "19.5",
         "177"
        ]
       ],
       "shape": {
        "columns": 6,
        "rows": 5
       }
      },
      "text/html": [
       "<div>\n",
       "<style scoped>\n",
       "    .dataframe tbody tr th:only-of-type {\n",
       "        vertical-align: middle;\n",
       "    }\n",
       "\n",
       "    .dataframe tbody tr th {\n",
       "        vertical-align: top;\n",
       "    }\n",
       "\n",
       "    .dataframe thead th {\n",
       "        text-align: right;\n",
       "    }\n",
       "</style>\n",
       "<table border=\"1\" class=\"dataframe\">\n",
       "  <thead>\n",
       "    <tr style=\"text-align: right;\">\n",
       "      <th></th>\n",
       "      <th>InvoiceNo</th>\n",
       "      <th>Quantity</th>\n",
       "      <th>UnitPrice</th>\n",
       "      <th>CustomerID</th>\n",
       "      <th>Cost</th>\n",
       "      <th>Recency</th>\n",
       "    </tr>\n",
       "  </thead>\n",
       "  <tbody>\n",
       "    <tr>\n",
       "      <th>0</th>\n",
       "      <td>539993</td>\n",
       "      <td>10</td>\n",
       "      <td>1.95</td>\n",
       "      <td>13313.0</td>\n",
       "      <td>19.5</td>\n",
       "      <td>177</td>\n",
       "    </tr>\n",
       "    <tr>\n",
       "      <th>1</th>\n",
       "      <td>539993</td>\n",
       "      <td>25</td>\n",
       "      <td>0.42</td>\n",
       "      <td>13313.0</td>\n",
       "      <td>10.5</td>\n",
       "      <td>177</td>\n",
       "    </tr>\n",
       "    <tr>\n",
       "      <th>3</th>\n",
       "      <td>539993</td>\n",
       "      <td>5</td>\n",
       "      <td>2.10</td>\n",
       "      <td>13313.0</td>\n",
       "      <td>10.5</td>\n",
       "      <td>177</td>\n",
       "    </tr>\n",
       "    <tr>\n",
       "      <th>4</th>\n",
       "      <td>539993</td>\n",
       "      <td>10</td>\n",
       "      <td>1.25</td>\n",
       "      <td>13313.0</td>\n",
       "      <td>12.5</td>\n",
       "      <td>177</td>\n",
       "    </tr>\n",
       "    <tr>\n",
       "      <th>6</th>\n",
       "      <td>539993</td>\n",
       "      <td>6</td>\n",
       "      <td>3.25</td>\n",
       "      <td>13313.0</td>\n",
       "      <td>19.5</td>\n",
       "      <td>177</td>\n",
       "    </tr>\n",
       "  </tbody>\n",
       "</table>\n",
       "</div>"
      ],
      "text/plain": [
       "  InvoiceNo  Quantity  UnitPrice  CustomerID  Cost  Recency\n",
       "0    539993        10       1.95     13313.0  19.5      177\n",
       "1    539993        25       0.42     13313.0  10.5      177\n",
       "3    539993         5       2.10     13313.0  10.5      177\n",
       "4    539993        10       1.25     13313.0  12.5      177\n",
       "6    539993         6       3.25     13313.0  19.5      177"
      ]
     },
     "execution_count": 22,
     "metadata": {},
     "output_type": "execute_result"
    }
   ],
   "source": [
    "#RFM\n",
    "df_rfm['Recency'] = (now - df_rfm['InvoiceDate']).dt.days\n",
    "df_rfm.drop(columns='InvoiceDate', inplace=True)\n",
    "df_rfm.head()"
   ]
  },
  {
   "cell_type": "code",
   "execution_count": 23,
   "metadata": {},
   "outputs": [
    {
     "data": {
      "application/vnd.microsoft.datawrangler.viewer.v0+json": {
       "columns": [
        {
         "name": "CustomerID",
         "rawType": "float64",
         "type": "float"
        },
        {
         "name": "InvoiceNo",
         "rawType": "int64",
         "type": "integer"
        },
        {
         "name": "Cost",
         "rawType": "float64",
         "type": "float"
        },
        {
         "name": "Recency",
         "rawType": "int64",
         "type": "integer"
        }
       ],
       "conversionMethod": "pd.DataFrame",
       "ref": "c66e4c14-f4eb-4497-a59c-b3d910aeb85b",
       "rows": [
        [
         "12346.0",
         "1",
         "77183.6",
         "163"
        ],
        [
         "12347.0",
         "3",
         "1049.46",
         "21"
        ],
        [
         "12348.0",
         "2",
         "469.15999999999997",
         "86"
        ],
        [
         "12350.0",
         "1",
         "174.2",
         "148"
        ],
        [
         "12352.0",
         "5",
         "1455.8600000000001",
         "100"
        ]
       ],
       "shape": {
        "columns": 3,
        "rows": 5
       }
      },
      "text/html": [
       "<div>\n",
       "<style scoped>\n",
       "    .dataframe tbody tr th:only-of-type {\n",
       "        vertical-align: middle;\n",
       "    }\n",
       "\n",
       "    .dataframe tbody tr th {\n",
       "        vertical-align: top;\n",
       "    }\n",
       "\n",
       "    .dataframe thead th {\n",
       "        text-align: right;\n",
       "    }\n",
       "</style>\n",
       "<table border=\"1\" class=\"dataframe\">\n",
       "  <thead>\n",
       "    <tr style=\"text-align: right;\">\n",
       "      <th></th>\n",
       "      <th>InvoiceNo</th>\n",
       "      <th>Cost</th>\n",
       "      <th>Recency</th>\n",
       "    </tr>\n",
       "    <tr>\n",
       "      <th>CustomerID</th>\n",
       "      <th></th>\n",
       "      <th></th>\n",
       "      <th></th>\n",
       "    </tr>\n",
       "  </thead>\n",
       "  <tbody>\n",
       "    <tr>\n",
       "      <th>12346.0</th>\n",
       "      <td>1</td>\n",
       "      <td>77183.60</td>\n",
       "      <td>163</td>\n",
       "    </tr>\n",
       "    <tr>\n",
       "      <th>12347.0</th>\n",
       "      <td>3</td>\n",
       "      <td>1049.46</td>\n",
       "      <td>21</td>\n",
       "    </tr>\n",
       "    <tr>\n",
       "      <th>12348.0</th>\n",
       "      <td>2</td>\n",
       "      <td>469.16</td>\n",
       "      <td>86</td>\n",
       "    </tr>\n",
       "    <tr>\n",
       "      <th>12350.0</th>\n",
       "      <td>1</td>\n",
       "      <td>174.20</td>\n",
       "      <td>148</td>\n",
       "    </tr>\n",
       "    <tr>\n",
       "      <th>12352.0</th>\n",
       "      <td>5</td>\n",
       "      <td>1455.86</td>\n",
       "      <td>100</td>\n",
       "    </tr>\n",
       "  </tbody>\n",
       "</table>\n",
       "</div>"
      ],
      "text/plain": [
       "            InvoiceNo      Cost  Recency\n",
       "CustomerID                              \n",
       "12346.0             1  77183.60      163\n",
       "12347.0             3   1049.46       21\n",
       "12348.0             2    469.16       86\n",
       "12350.0             1    174.20      148\n",
       "12352.0             5   1455.86      100"
      ]
     },
     "execution_count": 23,
     "metadata": {},
     "output_type": "execute_result"
    }
   ],
   "source": [
    "df_rfm = df_rfm[['InvoiceNo','CustomerID','Cost','Recency']]\n",
    "rfm = df_rfm.groupby('CustomerID').aggregate({'InvoiceNo':'nunique',\n",
    "                                        'Cost':'sum',\n",
    "                                        'Recency':'min'})\n",
    "rfm.head()"
   ]
  },
  {
   "cell_type": "code",
   "execution_count": 24,
   "metadata": {},
   "outputs": [
    {
     "data": {
      "application/vnd.microsoft.datawrangler.viewer.v0+json": {
       "columns": [
        {
         "name": "CustomerID",
         "rawType": "float64",
         "type": "float"
        },
        {
         "name": "Recency",
         "rawType": "int64",
         "type": "integer"
        },
        {
         "name": "Frequency",
         "rawType": "int64",
         "type": "integer"
        },
        {
         "name": "Monetary",
         "rawType": "float64",
         "type": "float"
        }
       ],
       "conversionMethod": "pd.DataFrame",
       "ref": "4cbe912c-37b1-43d0-9ac0-ffa40e6b5a5d",
       "rows": [
        [
         "12346.0",
         "163",
         "1",
         "77183.6"
        ],
        [
         "12347.0",
         "21",
         "3",
         "1049.46"
        ],
        [
         "12348.0",
         "86",
         "2",
         "469.15999999999997"
        ],
        [
         "12350.0",
         "148",
         "1",
         "174.2"
        ],
        [
         "12352.0",
         "100",
         "5",
         "1455.8600000000001"
        ]
       ],
       "shape": {
        "columns": 3,
        "rows": 5
       }
      },
      "text/html": [
       "<div>\n",
       "<style scoped>\n",
       "    .dataframe tbody tr th:only-of-type {\n",
       "        vertical-align: middle;\n",
       "    }\n",
       "\n",
       "    .dataframe tbody tr th {\n",
       "        vertical-align: top;\n",
       "    }\n",
       "\n",
       "    .dataframe thead th {\n",
       "        text-align: right;\n",
       "    }\n",
       "</style>\n",
       "<table border=\"1\" class=\"dataframe\">\n",
       "  <thead>\n",
       "    <tr style=\"text-align: right;\">\n",
       "      <th></th>\n",
       "      <th>Recency</th>\n",
       "      <th>Frequency</th>\n",
       "      <th>Monetary</th>\n",
       "    </tr>\n",
       "    <tr>\n",
       "      <th>CustomerID</th>\n",
       "      <th></th>\n",
       "      <th></th>\n",
       "      <th></th>\n",
       "    </tr>\n",
       "  </thead>\n",
       "  <tbody>\n",
       "    <tr>\n",
       "      <th>12346.0</th>\n",
       "      <td>163</td>\n",
       "      <td>1</td>\n",
       "      <td>77183.60</td>\n",
       "    </tr>\n",
       "    <tr>\n",
       "      <th>12347.0</th>\n",
       "      <td>21</td>\n",
       "      <td>3</td>\n",
       "      <td>1049.46</td>\n",
       "    </tr>\n",
       "    <tr>\n",
       "      <th>12348.0</th>\n",
       "      <td>86</td>\n",
       "      <td>2</td>\n",
       "      <td>469.16</td>\n",
       "    </tr>\n",
       "    <tr>\n",
       "      <th>12350.0</th>\n",
       "      <td>148</td>\n",
       "      <td>1</td>\n",
       "      <td>174.20</td>\n",
       "    </tr>\n",
       "    <tr>\n",
       "      <th>12352.0</th>\n",
       "      <td>100</td>\n",
       "      <td>5</td>\n",
       "      <td>1455.86</td>\n",
       "    </tr>\n",
       "  </tbody>\n",
       "</table>\n",
       "</div>"
      ],
      "text/plain": [
       "            Recency  Frequency  Monetary\n",
       "CustomerID                              \n",
       "12346.0         163          1  77183.60\n",
       "12347.0          21          3   1049.46\n",
       "12348.0          86          2    469.16\n",
       "12350.0         148          1    174.20\n",
       "12352.0         100          5   1455.86"
      ]
     },
     "execution_count": 24,
     "metadata": {},
     "output_type": "execute_result"
    }
   ],
   "source": [
    "rfm.columns = ['Frequency','Monetary', \"Recency\"]\n",
    "rfm = rfm[[\"Recency\",'Frequency','Monetary']]\n",
    "rfm.head()"
   ]
  },
  {
   "cell_type": "code",
   "execution_count": 25,
   "metadata": {},
   "outputs": [
    {
     "data": {
      "application/vnd.microsoft.datawrangler.viewer.v0+json": {
       "columns": [
        {
         "name": "index",
         "rawType": "object",
         "type": "string"
        },
        {
         "name": "Recency",
         "rawType": "float64",
         "type": "float"
        },
        {
         "name": "Frequency",
         "rawType": "float64",
         "type": "float"
        },
        {
         "name": "Monetary",
         "rawType": "float64",
         "type": "float"
        }
       ],
       "conversionMethod": "pd.DataFrame",
       "ref": "d64ad308-7308-4789-98db-c9db3befb6ab",
       "rows": [
        [
         "count",
         "2724.0",
         "2724.0",
         "2724.0"
        ],
        [
         "mean",
         "59.76468428781204",
         "2.7173274596182084",
         "939.536813876652"
        ],
        [
         "std",
         "47.91311515625635",
         "3.8782585670635847",
         "3589.5788654438556"
        ],
        [
         "min",
         "0.0",
         "1.0",
         "2.9"
        ],
        [
         "25%",
         "20.0",
         "1.0",
         "180.55"
        ],
        [
         "50%",
         "46.0",
         "2.0",
         "355.135"
        ],
        [
         "75%",
         "94.0",
         "3.0",
         "761.6575"
        ],
        [
         "max",
         "177.0",
         "67.0",
         "89361.99"
        ]
       ],
       "shape": {
        "columns": 3,
        "rows": 8
       }
      },
      "text/html": [
       "<div>\n",
       "<style scoped>\n",
       "    .dataframe tbody tr th:only-of-type {\n",
       "        vertical-align: middle;\n",
       "    }\n",
       "\n",
       "    .dataframe tbody tr th {\n",
       "        vertical-align: top;\n",
       "    }\n",
       "\n",
       "    .dataframe thead th {\n",
       "        text-align: right;\n",
       "    }\n",
       "</style>\n",
       "<table border=\"1\" class=\"dataframe\">\n",
       "  <thead>\n",
       "    <tr style=\"text-align: right;\">\n",
       "      <th></th>\n",
       "      <th>Recency</th>\n",
       "      <th>Frequency</th>\n",
       "      <th>Monetary</th>\n",
       "    </tr>\n",
       "  </thead>\n",
       "  <tbody>\n",
       "    <tr>\n",
       "      <th>count</th>\n",
       "      <td>2724.000000</td>\n",
       "      <td>2724.000000</td>\n",
       "      <td>2724.000000</td>\n",
       "    </tr>\n",
       "    <tr>\n",
       "      <th>mean</th>\n",
       "      <td>59.764684</td>\n",
       "      <td>2.717327</td>\n",
       "      <td>939.536814</td>\n",
       "    </tr>\n",
       "    <tr>\n",
       "      <th>std</th>\n",
       "      <td>47.913115</td>\n",
       "      <td>3.878259</td>\n",
       "      <td>3589.578865</td>\n",
       "    </tr>\n",
       "    <tr>\n",
       "      <th>min</th>\n",
       "      <td>0.000000</td>\n",
       "      <td>1.000000</td>\n",
       "      <td>2.900000</td>\n",
       "    </tr>\n",
       "    <tr>\n",
       "      <th>25%</th>\n",
       "      <td>20.000000</td>\n",
       "      <td>1.000000</td>\n",
       "      <td>180.550000</td>\n",
       "    </tr>\n",
       "    <tr>\n",
       "      <th>50%</th>\n",
       "      <td>46.000000</td>\n",
       "      <td>2.000000</td>\n",
       "      <td>355.135000</td>\n",
       "    </tr>\n",
       "    <tr>\n",
       "      <th>75%</th>\n",
       "      <td>94.000000</td>\n",
       "      <td>3.000000</td>\n",
       "      <td>761.657500</td>\n",
       "    </tr>\n",
       "    <tr>\n",
       "      <th>max</th>\n",
       "      <td>177.000000</td>\n",
       "      <td>67.000000</td>\n",
       "      <td>89361.990000</td>\n",
       "    </tr>\n",
       "  </tbody>\n",
       "</table>\n",
       "</div>"
      ],
      "text/plain": [
       "           Recency    Frequency      Monetary\n",
       "count  2724.000000  2724.000000   2724.000000\n",
       "mean     59.764684     2.717327    939.536814\n",
       "std      47.913115     3.878259   3589.578865\n",
       "min       0.000000     1.000000      2.900000\n",
       "25%      20.000000     1.000000    180.550000\n",
       "50%      46.000000     2.000000    355.135000\n",
       "75%      94.000000     3.000000    761.657500\n",
       "max     177.000000    67.000000  89361.990000"
      ]
     },
     "execution_count": 25,
     "metadata": {},
     "output_type": "execute_result"
    }
   ],
   "source": [
    "rfm.describe()"
   ]
  },
  {
   "cell_type": "code",
   "execution_count": 26,
   "metadata": {},
   "outputs": [
    {
     "name": "stderr",
     "output_type": "stream",
     "text": [
      "c:\\Users\\Admin\\anaconda3\\Lib\\site-packages\\seaborn\\_oldcore.py:1119: FutureWarning: use_inf_as_na option is deprecated and will be removed in a future version. Convert inf values to NaN before operating instead.\n",
      "  with pd.option_context('mode.use_inf_as_na', True):\n"
     ]
    },
    {
     "data": {
      "image/png": "[encoded data removed]",
      "text/plain": [
       "<Figure size 640x480 with 1 Axes>"
      ]
     },
     "metadata": {},
     "output_type": "display_data"
    }
   ],
   "source": [
    "import seaborn as sns\n",
    "import matplotlib.pyplot as plt\n",
    "\n",
    "sns.histplot(rfm['Recency'], kde=True)\n",
    "plt.show()\n"
   ]
  },
  {
   "cell_type": "code",
   "execution_count": 27,
   "metadata": {},
   "outputs": [
    {
     "data": {
      "image/png": "[encoded data removed]",
      "text/plain": [
       "<Figure size 640x480 with 1 Axes>"
      ]
     },
     "metadata": {},
     "output_type": "display_data"
    }
   ],
   "source": [
    "sns.boxplot(x=rfm['Frequency'])\n",
    "plt.show()"
   ]
  },
  {
   "cell_type": "code",
   "execution_count": 28,
   "metadata": {},
   "outputs": [
    {
     "data": {
      "image/png": "[encoded data removed]",
      "text/plain": [
       "<Figure size 640x480 with 1 Axes>"
      ]
     },
     "metadata": {},
     "output_type": "display_data"
    }
   ],
   "source": [
    "sns.scatterplot(x='Recency', y='Monetary', data=rfm)\n",
    "plt.show()"
   ]
  },
  {
   "cell_type": "code",
   "execution_count": 32,
   "metadata": {},
   "outputs": [
    {
     "data": {
      "application/vnd.microsoft.datawrangler.viewer.v0+json": {
       "columns": [
        {
         "name": "CustomerID",
         "rawType": "float64",
         "type": "float"
        },
        {
         "name": "Recency",
         "rawType": "int64",
         "type": "integer"
        },
        {
         "name": "Frequency",
         "rawType": "int64",
         "type": "integer"
        },
        {
         "name": "Monetary",
         "rawType": "float64",
         "type": "float"
        }
       ],
       "conversionMethod": "pd.DataFrame",
       "ref": "0575a856-e103-458b-b872-a38eec0a7414",
       "rows": [
        [
         "12346.0",
         "163",
         "1",
         "77183.6"
        ],
        [
         "12347.0",
         "21",
         "3",
         "1049.46"
        ],
        [
         "12348.0",
         "86",
         "2",
         "469.15999999999997"
        ],
        [
         "12350.0",
         "148",
         "1",
         "174.2"
        ],
        [
         "12352.0",
         "100",
         "5",
         "1455.8600000000001"
        ]
       ],
       "shape": {
        "columns": 3,
        "rows": 5
       }
      },
      "text/html": [
       "<div>\n",
       "<style scoped>\n",
       "    .dataframe tbody tr th:only-of-type {\n",
       "        vertical-align: middle;\n",
       "    }\n",
       "\n",
       "    .dataframe tbody tr th {\n",
       "        vertical-align: top;\n",
       "    }\n",
       "\n",
       "    .dataframe thead th {\n",
       "        text-align: right;\n",
       "    }\n",
       "</style>\n",
       "<table border=\"1\" class=\"dataframe\">\n",
       "  <thead>\n",
       "    <tr style=\"text-align: right;\">\n",
       "      <th></th>\n",
       "      <th>Recency</th>\n",
       "      <th>Frequency</th>\n",
       "      <th>Monetary</th>\n",
       "    </tr>\n",
       "    <tr>\n",
       "      <th>CustomerID</th>\n",
       "      <th></th>\n",
       "      <th></th>\n",
       "      <th></th>\n",
       "    </tr>\n",
       "  </thead>\n",
       "  <tbody>\n",
       "    <tr>\n",
       "      <th>12346.0</th>\n",
       "      <td>163</td>\n",
       "      <td>1</td>\n",
       "      <td>77183.60</td>\n",
       "    </tr>\n",
       "    <tr>\n",
       "      <th>12347.0</th>\n",
       "      <td>21</td>\n",
       "      <td>3</td>\n",
       "      <td>1049.46</td>\n",
       "    </tr>\n",
       "    <tr>\n",
       "      <th>12348.0</th>\n",
       "      <td>86</td>\n",
       "      <td>2</td>\n",
       "      <td>469.16</td>\n",
       "    </tr>\n",
       "    <tr>\n",
       "      <th>12350.0</th>\n",
       "      <td>148</td>\n",
       "      <td>1</td>\n",
       "      <td>174.20</td>\n",
       "    </tr>\n",
       "    <tr>\n",
       "      <th>12352.0</th>\n",
       "      <td>100</td>\n",
       "      <td>5</td>\n",
       "      <td>1455.86</td>\n",
       "    </tr>\n",
       "  </tbody>\n",
       "</table>\n",
       "</div>"
      ],
      "text/plain": [
       "            Recency  Frequency  Monetary\n",
       "CustomerID                              \n",
       "12346.0         163          1  77183.60\n",
       "12347.0          21          3   1049.46\n",
       "12348.0          86          2    469.16\n",
       "12350.0         148          1    174.20\n",
       "12352.0         100          5   1455.86"
      ]
     },
     "execution_count": 32,
     "metadata": {},
     "output_type": "execute_result"
    }
   ],
   "source": [
    "rfm.head()"
   ]
  },
  {
   "cell_type": "code",
   "execution_count": 36,
   "metadata": {},
   "outputs": [
    {
     "data": {
      "application/vnd.microsoft.datawrangler.viewer.v0+json": {
       "columns": [
        {
         "name": "CustomerID",
         "rawType": "float64",
         "type": "float"
        },
        {
         "name": "Recency",
         "rawType": "int64",
         "type": "integer"
        },
        {
         "name": "Frequency",
         "rawType": "int64",
         "type": "integer"
        },
        {
         "name": "Monetary",
         "rawType": "float64",
         "type": "float"
        }
       ],
       "conversionMethod": "pd.DataFrame",
       "ref": "3144a13e-85a4-4d97-96c3-716c147a6252",
       "rows": [
        [
         "12346.0",
         "163",
         "1",
         "77183.6"
        ],
        [
         "12347.0",
         "21",
         "3",
         "1049.46"
        ],
        [
         "12348.0",
         "86",
         "2",
         "469.15999999999997"
        ],
        [
         "12350.0",
         "148",
         "1",
         "174.2"
        ],
        [
         "12352.0",
         "100",
         "5",
         "1455.8600000000001"
        ],
        [
         "12353.0",
         "42",
         "1",
         "89.0"
        ],
        [
         "12354.0",
         "70",
         "1",
         "585.02"
        ],
        [
         "12355.0",
         "52",
         "1",
         "373.0"
        ],
        [
         "12356.0",
         "83",
         "2",
         "2191.92"
        ],
        [
         "12359.0",
         "27",
         "3",
         "2094.83"
        ],
        [
         "12360.0",
         "38",
         "1",
         "570.54"
        ],
        [
         "12361.0",
         "125",
         "1",
         "92.4"
        ],
        [
         "12362.0",
         "63",
         "2",
         "549.44"
        ],
        [
         "12363.0",
         "80",
         "1",
         "76.5"
        ],
        [
         "12365.0",
         "129",
         "2",
         "460.48"
        ],
        [
         "12370.0",
         "112",
         "1",
         "508.30999999999995"
        ],
        [
         "12372.0",
         "50",
         "2",
         "535.58"
        ],
        [
         "12373.0",
         "149",
         "1",
         "255.4"
        ],
        [
         "12377.0",
         "153",
         "1",
         "434.66"
        ],
        [
         "12379.0",
         "8",
         "1",
         "370.34"
        ],
        [
         "12380.0",
         "23",
         "1",
         "257.45"
        ],
        [
         "12383.0",
         "22",
         "4",
         "884.56"
        ],
        [
         "12386.0",
         "175",
         "1",
         "143.0"
        ],
        [
         "12388.0",
         "113",
         "3",
         "597.35"
        ],
        [
         "12393.0",
         "83",
         "3",
         "642.1500000000001"
        ],
        [
         "12394.0",
         "55",
         "1",
         "217.96"
        ],
        [
         "12395.0",
         "0",
         "5",
         "771.92"
        ],
        [
         "12399.0",
         "21",
         "3",
         "483.05"
        ],
        [
         "12401.0",
         "141",
         "1",
         "84.3"
        ],
        [
         "12402.0",
         "161",
         "1",
         "147.6"
        ],
        [
         "12406.0",
         "21",
         "1",
         "1017.75"
        ],
        [
         "12407.0",
         "73",
         "2",
         "377.76"
        ],
        [
         "12408.0",
         "13",
         "3",
         "967.64"
        ],
        [
         "12409.0",
         "20",
         "1",
         "4295.58"
        ],
        [
         "12410.0",
         "146",
         "2",
         "472.23"
        ],
        [
         "12412.0",
         "7",
         "1",
         "402.11"
        ],
        [
         "12413.0",
         "74",
         "2",
         "472.15"
        ],
        [
         "12414.0",
         "55",
         "3",
         "522.8100000000001"
        ],
        [
         "12415.0",
         "15",
         "9",
         "53009.55"
        ],
        [
         "12417.0",
         "25",
         "4",
         "1371.28"
        ],
        [
         "12421.0",
         "11",
         "2",
         "346.28"
        ],
        [
         "12422.0",
         "6",
         "2",
         "442.46"
        ],
        [
         "12423.0",
         "29",
         "5",
         "911.81"
        ],
        [
         "12424.0",
         "0",
         "2",
         "1483.7"
        ],
        [
         "12426.0",
         "32",
         "1",
         "370.03"
        ],
        [
         "12428.0",
         "80",
         "6",
         "4240.6900000000005"
        ],
        [
         "12429.0",
         "10",
         "2",
         "1242.74"
        ],
        [
         "12431.0",
         "38",
         "5",
         "1694.7"
        ],
        [
         "12432.0",
         "8",
         "3",
         "2998.26"
        ],
        [
         "12434.0",
         "98",
         "1",
         "177.2"
        ]
       ],
       "shape": {
        "columns": 3,
        "rows": 2724
       }
      },
      "text/html": [
       "<div>\n",
       "<style scoped>\n",
       "    .dataframe tbody tr th:only-of-type {\n",
       "        vertical-align: middle;\n",
       "    }\n",
       "\n",
       "    .dataframe tbody tr th {\n",
       "        vertical-align: top;\n",
       "    }\n",
       "\n",
       "    .dataframe thead th {\n",
       "        text-align: right;\n",
       "    }\n",
       "</style>\n",
       "<table border=\"1\" class=\"dataframe\">\n",
       "  <thead>\n",
       "    <tr style=\"text-align: right;\">\n",
       "      <th></th>\n",
       "      <th>Recency</th>\n",
       "      <th>Frequency</th>\n",
       "      <th>Monetary</th>\n",
       "    </tr>\n",
       "    <tr>\n",
       "      <th>CustomerID</th>\n",
       "      <th></th>\n",
       "      <th></th>\n",
       "      <th></th>\n",
       "    </tr>\n",
       "  </thead>\n",
       "  <tbody>\n",
       "    <tr>\n",
       "      <th>12346.0</th>\n",
       "      <td>163</td>\n",
       "      <td>1</td>\n",
       "      <td>77183.60</td>\n",
       "    </tr>\n",
       "    <tr>\n",
       "      <th>12347.0</th>\n",
       "      <td>21</td>\n",
       "      <td>3</td>\n",
       "      <td>1049.46</td>\n",
       "    </tr>\n",
       "    <tr>\n",
       "      <th>12348.0</th>\n",
       "      <td>86</td>\n",
       "      <td>2</td>\n",
       "      <td>469.16</td>\n",
       "    </tr>\n",
       "    <tr>\n",
       "      <th>12350.0</th>\n",
       "      <td>148</td>\n",
       "      <td>1</td>\n",
       "      <td>174.20</td>\n",
       "    </tr>\n",
       "    <tr>\n",
       "      <th>12352.0</th>\n",
       "      <td>100</td>\n",
       "      <td>5</td>\n",
       "      <td>1455.86</td>\n",
       "    </tr>\n",
       "    <tr>\n",
       "      <th>...</th>\n",
       "      <td>...</td>\n",
       "      <td>...</td>\n",
       "      <td>...</td>\n",
       "    </tr>\n",
       "    <tr>\n",
       "      <th>18273.0</th>\n",
       "      <td>95</td>\n",
       "      <td>1</td>\n",
       "      <td>51.00</td>\n",
       "    </tr>\n",
       "    <tr>\n",
       "      <th>18280.0</th>\n",
       "      <td>115</td>\n",
       "      <td>1</td>\n",
       "      <td>147.90</td>\n",
       "    </tr>\n",
       "    <tr>\n",
       "      <th>18281.0</th>\n",
       "      <td>18</td>\n",
       "      <td>1</td>\n",
       "      <td>53.79</td>\n",
       "    </tr>\n",
       "    <tr>\n",
       "      <th>18283.0</th>\n",
       "      <td>7</td>\n",
       "      <td>7</td>\n",
       "      <td>383.04</td>\n",
       "    </tr>\n",
       "    <tr>\n",
       "      <th>18287.0</th>\n",
       "      <td>39</td>\n",
       "      <td>1</td>\n",
       "      <td>546.88</td>\n",
       "    </tr>\n",
       "  </tbody>\n",
       "</table>\n",
       "<p>2724 rows × 3 columns</p>\n",
       "</div>"
      ],
      "text/plain": [
       "            Recency  Frequency  Monetary\n",
       "CustomerID                              \n",
       "12346.0         163          1  77183.60\n",
       "12347.0          21          3   1049.46\n",
       "12348.0          86          2    469.16\n",
       "12350.0         148          1    174.20\n",
       "12352.0         100          5   1455.86\n",
       "...             ...        ...       ...\n",
       "18273.0          95          1     51.00\n",
       "18280.0         115          1    147.90\n",
       "18281.0          18          1     53.79\n",
       "18283.0           7          7    383.04\n",
       "18287.0          39          1    546.88\n",
       "\n",
       "[2724 rows x 3 columns]"
      ]
     },
     "execution_count": 36,
     "metadata": {},
     "output_type": "execute_result"
    }
   ],
   "source": [
    "rfm"
   ]
  },
  {
   "cell_type": "markdown",
   "metadata": {},
   "source": [
    "### **Chuẩn hóa dữ liệu**\n",
    "+ Dữ liệu cần chuẩn hóa chỉ bao gồm các đặc trưng số học có ý nghĩa phân cụm: Cost, Recency.\n",
    "\n",
    "+ Sử dụng StandardScaler để chuẩn hóa dữ liệu (mean = 0, std = 1)."
   ]
  },
  {
   "cell_type": "code",
   "execution_count": 39,
   "metadata": {},
   "outputs": [
    {
     "data": {
      "text/plain": [
       "Index(['Recency', 'Frequency', 'Monetary'], dtype='object')"
      ]
     },
     "execution_count": 39,
     "metadata": {},
     "output_type": "execute_result"
    }
   ],
   "source": [
    "rfm.columns"
   ]
  },
  {
   "cell_type": "code",
   "execution_count": 40,
   "metadata": {},
   "outputs": [],
   "source": [
    "#rfm = rfm.set_index(\"CustomerID\")\n",
    "\n",
    "# Chuẩn hóa dữ liệu\n",
    "scaler = StandardScaler()\n",
    "X_scaled = scaler.fit_transform(rfm)"
   ]
  },
  {
   "cell_type": "code",
   "execution_count": 41,
   "metadata": {},
   "outputs": [
    {
     "data": {
      "text/plain": [
       "array([[ 2.15503145, -0.44289021, 21.24429209],\n",
       "       [-0.80921062,  0.07289984,  0.03062849],\n",
       "       [ 0.54766075, -0.18499519, -0.13106361],\n",
       "       ...,\n",
       "       [-0.87183545, -0.44289021, -0.24680038],\n",
       "       [-1.10145984,  1.10447996, -0.15505969],\n",
       "       [-0.43346163, -0.44289021, -0.10940807]])"
      ]
     },
     "execution_count": 41,
     "metadata": {},
     "output_type": "execute_result"
    }
   ],
   "source": [
    "X_scaled"
   ]
  },
  {
   "cell_type": "markdown",
   "metadata": {},
   "source": [
    "### Tìm số cụm tối ưu\n",
    "+ Thử giá trị k từ 2 đến N-1 (với N là số khách hàng).\n",
    "\n",
    "+ Dùng KMeans để tính WCSS (Elbow) và Silhouette score."
   ]
  },
  {
   "cell_type": "code",
   "execution_count": 47,
   "metadata": {},
   "outputs": [
    {
     "data": {
      "image/png": "[encoded data removed]",
      "text/plain": [
       "<Figure size 1200x500 with 2 Axes>"
      ]
     },
     "metadata": {},
     "output_type": "display_data"
    }
   ],
   "source": [
    "# Tìm số cụm tối ưu\n",
    "wcss = []\n",
    "silhouette_scores = []\n",
    "K = range(2, 7)  # Với 5 khách hàng, thử 2-5 cụm\n",
    "\n",
    "for k in K:\n",
    "    kmeans = KMeans(n_clusters=k, random_state=42, n_init='auto')\n",
    "    kmeans.fit(X_scaled)\n",
    "    wcss.append(kmeans.inertia_)\n",
    "    sil_score = silhouette_score(X_scaled, kmeans.labels_)\n",
    "    silhouette_scores.append(sil_score)\n",
    "\n",
    "# Vẽ biểu đồ\n",
    "plt.figure(figsize=(12, 5))\n",
    "\n",
    "# Elbow plot\n",
    "plt.subplot(1, 2, 1)\n",
    "plt.plot(K, wcss, 'bo-')\n",
    "plt.xlabel('Số cụm (k)')\n",
    "plt.ylabel('WCSS')\n",
    "plt.title('Elbow Method')\n",
    "\n",
    "# Silhouette score plot\n",
    "plt.subplot(1, 2, 2)\n",
    "plt.plot(K, silhouette_scores, 'go-')\n",
    "plt.xlabel('Số cụm (k)')\n",
    "plt.ylabel('Silhouette Score')\n",
    "plt.title('Silhouette Method')\n",
    "\n",
    "plt.tight_layout()\n",
    "plt.show()"
   ]
  },
  {
   "cell_type": "code",
   "execution_count": 48,
   "metadata": {},
   "outputs": [
    {
     "name": "stdout",
     "output_type": "stream",
     "text": [
      "Số cụm tối ưu theo Silhouette Score là: 5\n"
     ]
    }
   ],
   "source": [
    "# In số cụm tối ưu theo Silhouette score\n",
    "optimal_k = K[silhouette_scores.index(max(silhouette_scores))]\n",
    "print(f\"Số cụm tối ưu theo Silhouette Score là: {optimal_k}\")"
   ]
  },
  {
   "cell_type": "code",
   "execution_count": 49,
   "metadata": {},
   "outputs": [],
   "source": [
    "# Sau khi đã xác định optimal_k ở bước trên\n",
    "kmeans = KMeans(n_clusters=optimal_k, random_state=42, n_init='auto')\n",
    "rfm['label'] = kmeans.fit_predict(X_scaled)\n"
   ]
  },
  {
   "cell_type": "code",
   "execution_count": 50,
   "metadata": {},
   "outputs": [
    {
     "data": {
      "application/vnd.microsoft.datawrangler.viewer.v0+json": {
       "columns": [
        {
         "name": "CustomerID",
         "rawType": "float64",
         "type": "float"
        },
        {
         "name": "Recency",
         "rawType": "int64",
         "type": "integer"
        },
        {
         "name": "Frequency",
         "rawType": "int64",
         "type": "integer"
        },
        {
         "name": "Monetary",
         "rawType": "float64",
         "type": "float"
        },
        {
         "name": "label",
         "rawType": "int32",
         "type": "integer"
        }
       ],
       "conversionMethod": "pd.DataFrame",
       "ref": "b5c84b7c-ec99-4840-822e-976e61dad63c",
       "rows": [
        [
         "12346.0",
         "163",
         "1",
         "77183.6",
         "2"
        ],
        [
         "12347.0",
         "21",
         "3",
         "1049.46",
         "0"
        ],
        [
         "12348.0",
         "86",
         "2",
         "469.15999999999997",
         "1"
        ],
        [
         "12350.0",
         "148",
         "1",
         "174.2",
         "1"
        ],
        [
         "12352.0",
         "100",
         "5",
         "1455.8600000000001",
         "1"
        ],
        [
         "12353.0",
         "42",
         "1",
         "89.0",
         "0"
        ],
        [
         "12354.0",
         "70",
         "1",
         "585.02",
         "0"
        ],
        [
         "12355.0",
         "52",
         "1",
         "373.0",
         "0"
        ],
        [
         "12356.0",
         "83",
         "2",
         "2191.92",
         "1"
        ],
        [
         "12359.0",
         "27",
         "3",
         "2094.83",
         "0"
        ],
        [
         "12360.0",
         "38",
         "1",
         "570.54",
         "0"
        ],
        [
         "12361.0",
         "125",
         "1",
         "92.4",
         "1"
        ],
        [
         "12362.0",
         "63",
         "2",
         "549.44",
         "0"
        ],
        [
         "12363.0",
         "80",
         "1",
         "76.5",
         "1"
        ],
        [
         "12365.0",
         "129",
         "2",
         "460.48",
         "1"
        ],
        [
         "12370.0",
         "112",
         "1",
         "508.30999999999995",
         "1"
        ],
        [
         "12372.0",
         "50",
         "2",
         "535.58",
         "0"
        ],
        [
         "12373.0",
         "149",
         "1",
         "255.4",
         "1"
        ],
        [
         "12377.0",
         "153",
         "1",
         "434.66",
         "1"
        ],
        [
         "12379.0",
         "8",
         "1",
         "370.34",
         "0"
        ],
        [
         "12380.0",
         "23",
         "1",
         "257.45",
         "0"
        ],
        [
         "12383.0",
         "22",
         "4",
         "884.56",
         "0"
        ],
        [
         "12386.0",
         "175",
         "1",
         "143.0",
         "1"
        ],
        [
         "12388.0",
         "113",
         "3",
         "597.35",
         "1"
        ],
        [
         "12393.0",
         "83",
         "3",
         "642.1500000000001",
         "1"
        ],
        [
         "12394.0",
         "55",
         "1",
         "217.96",
         "0"
        ],
        [
         "12395.0",
         "0",
         "5",
         "771.92",
         "0"
        ],
        [
         "12399.0",
         "21",
         "3",
         "483.05",
         "0"
        ],
        [
         "12401.0",
         "141",
         "1",
         "84.3",
         "1"
        ],
        [
         "12402.0",
         "161",
         "1",
         "147.6",
         "1"
        ],
        [
         "12406.0",
         "21",
         "1",
         "1017.75",
         "0"
        ],
        [
         "12407.0",
         "73",
         "2",
         "377.76",
         "0"
        ],
        [
         "12408.0",
         "13",
         "3",
         "967.64",
         "0"
        ],
        [
         "12409.0",
         "20",
         "1",
         "4295.58",
         "0"
        ],
        [
         "12410.0",
         "146",
         "2",
         "472.23",
         "1"
        ],
        [
         "12412.0",
         "7",
         "1",
         "402.11",
         "0"
        ],
        [
         "12413.0",
         "74",
         "2",
         "472.15",
         "0"
        ],
        [
         "12414.0",
         "55",
         "3",
         "522.8100000000001",
         "0"
        ],
        [
         "12415.0",
         "15",
         "9",
         "53009.55",
         "2"
        ],
        [
         "12417.0",
         "25",
         "4",
         "1371.28",
         "0"
        ],
        [
         "12421.0",
         "11",
         "2",
         "346.28",
         "0"
        ],
        [
         "12422.0",
         "6",
         "2",
         "442.46",
         "0"
        ],
        [
         "12423.0",
         "29",
         "5",
         "911.81",
         "0"
        ],
        [
         "12424.0",
         "0",
         "2",
         "1483.7",
         "0"
        ],
        [
         "12426.0",
         "32",
         "1",
         "370.03",
         "0"
        ],
        [
         "12428.0",
         "80",
         "6",
         "4240.6900000000005",
         "4"
        ],
        [
         "12429.0",
         "10",
         "2",
         "1242.74",
         "0"
        ],
        [
         "12431.0",
         "38",
         "5",
         "1694.7",
         "0"
        ],
        [
         "12432.0",
         "8",
         "3",
         "2998.26",
         "0"
        ],
        [
         "12434.0",
         "98",
         "1",
         "177.2",
         "1"
        ]
       ],
       "shape": {
        "columns": 4,
        "rows": 2724
       }
      },
      "text/html": [
       "<div>\n",
       "<style scoped>\n",
       "    .dataframe tbody tr th:only-of-type {\n",
       "        vertical-align: middle;\n",
       "    }\n",
       "\n",
       "    .dataframe tbody tr th {\n",
       "        vertical-align: top;\n",
       "    }\n",
       "\n",
       "    .dataframe thead th {\n",
       "        text-align: right;\n",
       "    }\n",
       "</style>\n",
       "<table border=\"1\" class=\"dataframe\">\n",
       "  <thead>\n",
       "    <tr style=\"text-align: right;\">\n",
       "      <th></th>\n",
       "      <th>Recency</th>\n",
       "      <th>Frequency</th>\n",
       "      <th>Monetary</th>\n",
       "      <th>label</th>\n",
       "    </tr>\n",
       "    <tr>\n",
       "      <th>CustomerID</th>\n",
       "      <th></th>\n",
       "      <th></th>\n",
       "      <th></th>\n",
       "      <th></th>\n",
       "    </tr>\n",
       "  </thead>\n",
       "  <tbody>\n",
       "    <tr>\n",
       "      <th>12346.0</th>\n",
       "      <td>163</td>\n",
       "      <td>1</td>\n",
       "      <td>77183.60</td>\n",
       "      <td>2</td>\n",
       "    </tr>\n",
       "    <tr>\n",
       "      <th>12347.0</th>\n",
       "      <td>21</td>\n",
       "      <td>3</td>\n",
       "      <td>1049.46</td>\n",
       "      <td>0</td>\n",
       "    </tr>\n",
       "    <tr>\n",
       "      <th>12348.0</th>\n",
       "      <td>86</td>\n",
       "      <td>2</td>\n",
       "      <td>469.16</td>\n",
       "      <td>1</td>\n",
       "    </tr>\n",
       "    <tr>\n",
       "      <th>12350.0</th>\n",
       "      <td>148</td>\n",
       "      <td>1</td>\n",
       "      <td>174.20</td>\n",
       "      <td>1</td>\n",
       "    </tr>\n",
       "    <tr>\n",
       "      <th>12352.0</th>\n",
       "      <td>100</td>\n",
       "      <td>5</td>\n",
       "      <td>1455.86</td>\n",
       "      <td>1</td>\n",
       "    </tr>\n",
       "    <tr>\n",
       "      <th>...</th>\n",
       "      <td>...</td>\n",
       "      <td>...</td>\n",
       "      <td>...</td>\n",
       "      <td>...</td>\n",
       "    </tr>\n",
       "    <tr>\n",
       "      <th>18273.0</th>\n",
       "      <td>95</td>\n",
       "      <td>1</td>\n",
       "      <td>51.00</td>\n",
       "      <td>1</td>\n",
       "    </tr>\n",
       "    <tr>\n",
       "      <th>18280.0</th>\n",
       "      <td>115</td>\n",
       "      <td>1</td>\n",
       "      <td>147.90</td>\n",
       "      <td>1</td>\n",
       "    </tr>\n",
       "    <tr>\n",
       "      <th>18281.0</th>\n",
       "      <td>18</td>\n",
       "      <td>1</td>\n",
       "      <td>53.79</td>\n",
       "      <td>0</td>\n",
       "    </tr>\n",
       "    <tr>\n",
       "      <th>18283.0</th>\n",
       "      <td>7</td>\n",
       "      <td>7</td>\n",
       "      <td>383.04</td>\n",
       "      <td>4</td>\n",
       "    </tr>\n",
       "    <tr>\n",
       "      <th>18287.0</th>\n",
       "      <td>39</td>\n",
       "      <td>1</td>\n",
       "      <td>546.88</td>\n",
       "      <td>0</td>\n",
       "    </tr>\n",
       "  </tbody>\n",
       "</table>\n",
       "<p>2724 rows × 4 columns</p>\n",
       "</div>"
      ],
      "text/plain": [
       "            Recency  Frequency  Monetary  label\n",
       "CustomerID                                     \n",
       "12346.0         163          1  77183.60      2\n",
       "12347.0          21          3   1049.46      0\n",
       "12348.0          86          2    469.16      1\n",
       "12350.0         148          1    174.20      1\n",
       "12352.0         100          5   1455.86      1\n",
       "...             ...        ...       ...    ...\n",
       "18273.0          95          1     51.00      1\n",
       "18280.0         115          1    147.90      1\n",
       "18281.0          18          1     53.79      0\n",
       "18283.0           7          7    383.04      4\n",
       "18287.0          39          1    546.88      0\n",
       "\n",
       "[2724 rows x 4 columns]"
      ]
     },
     "execution_count": 50,
     "metadata": {},
     "output_type": "execute_result"
    }
   ],
   "source": [
    "rfm "
   ]
  },
  {
   "cell_type": "code",
   "execution_count": 52,
   "metadata": {},
   "outputs": [
    {
     "data": {
      "application/vnd.microsoft.datawrangler.viewer.v0+json": {
       "columns": [
        {
         "name": "index",
         "rawType": "object",
         "type": "string"
        },
        {
         "name": "Recency",
         "rawType": "float64",
         "type": "float"
        },
        {
         "name": "Frequency",
         "rawType": "float64",
         "type": "float"
        },
        {
         "name": "Monetary",
         "rawType": "float64",
         "type": "float"
        },
        {
         "name": "label",
         "rawType": "float64",
         "type": "float"
        }
       ],
       "conversionMethod": "pd.DataFrame",
       "ref": "03e66ca4-3b8f-4947-898c-5aad94deea54",
       "rows": [
        [
         "count",
         "2724.0",
         "2724.0",
         "2724.0",
         "2724.0"
        ],
        [
         "mean",
         "59.76468428781204",
         "2.7173274596182084",
         "939.536813876652",
         "0.7070484581497798"
        ],
        [
         "std",
         "47.91311515625635",
         "3.8782585670635847",
         "3589.5788654438556",
         "1.1184403438026593"
        ],
        [
         "min",
         "0.0",
         "1.0",
         "2.9",
         "0.0"
        ],
        [
         "25%",
         "20.0",
         "1.0",
         "180.55",
         "0.0"
        ],
        [
         "50%",
         "46.0",
         "2.0",
         "355.135",
         "0.0"
        ],
        [
         "75%",
         "94.0",
         "3.0",
         "761.6575",
         "1.0"
        ],
        [
         "max",
         "177.0",
         "67.0",
         "89361.99",
         "4.0"
        ]
       ],
       "shape": {
        "columns": 4,
        "rows": 8
       }
      },
      "text/html": [
       "<div>\n",
       "<style scoped>\n",
       "    .dataframe tbody tr th:only-of-type {\n",
       "        vertical-align: middle;\n",
       "    }\n",
       "\n",
       "    .dataframe tbody tr th {\n",
       "        vertical-align: top;\n",
       "    }\n",
       "\n",
       "    .dataframe thead th {\n",
       "        text-align: right;\n",
       "    }\n",
       "</style>\n",
       "<table border=\"1\" class=\"dataframe\">\n",
       "  <thead>\n",
       "    <tr style=\"text-align: right;\">\n",
       "      <th></th>\n",
       "      <th>Recency</th>\n",
       "      <th>Frequency</th>\n",
       "      <th>Monetary</th>\n",
       "      <th>label</th>\n",
       "    </tr>\n",
       "  </thead>\n",
       "  <tbody>\n",
       "    <tr>\n",
       "      <th>count</th>\n",
       "      <td>2724.000000</td>\n",
       "      <td>2724.000000</td>\n",
       "      <td>2724.000000</td>\n",
       "      <td>2724.000000</td>\n",
       "    </tr>\n",
       "    <tr>\n",
       "      <th>mean</th>\n",
       "      <td>59.764684</td>\n",
       "      <td>2.717327</td>\n",
       "      <td>939.536814</td>\n",
       "      <td>0.707048</td>\n",
       "    </tr>\n",
       "    <tr>\n",
       "      <th>std</th>\n",
       "      <td>47.913115</td>\n",
       "      <td>3.878259</td>\n",
       "      <td>3589.578865</td>\n",
       "      <td>1.118440</td>\n",
       "    </tr>\n",
       "    <tr>\n",
       "      <th>min</th>\n",
       "      <td>0.000000</td>\n",
       "      <td>1.000000</td>\n",
       "      <td>2.900000</td>\n",
       "      <td>0.000000</td>\n",
       "    </tr>\n",
       "    <tr>\n",
       "      <th>25%</th>\n",
       "      <td>20.000000</td>\n",
       "      <td>1.000000</td>\n",
       "      <td>180.550000</td>\n",
       "      <td>0.000000</td>\n",
       "    </tr>\n",
       "    <tr>\n",
       "      <th>50%</th>\n",
       "      <td>46.000000</td>\n",
       "      <td>2.000000</td>\n",
       "      <td>355.135000</td>\n",
       "      <td>0.000000</td>\n",
       "    </tr>\n",
       "    <tr>\n",
       "      <th>75%</th>\n",
       "      <td>94.000000</td>\n",
       "      <td>3.000000</td>\n",
       "      <td>761.657500</td>\n",
       "      <td>1.000000</td>\n",
       "    </tr>\n",
       "    <tr>\n",
       "      <th>max</th>\n",
       "      <td>177.000000</td>\n",
       "      <td>67.000000</td>\n",
       "      <td>89361.990000</td>\n",
       "      <td>4.000000</td>\n",
       "    </tr>\n",
       "  </tbody>\n",
       "</table>\n",
       "</div>"
      ],
      "text/plain": [
       "           Recency    Frequency      Monetary        label\n",
       "count  2724.000000  2724.000000   2724.000000  2724.000000\n",
       "mean     59.764684     2.717327    939.536814     0.707048\n",
       "std      47.913115     3.878259   3589.578865     1.118440\n",
       "min       0.000000     1.000000      2.900000     0.000000\n",
       "25%      20.000000     1.000000    180.550000     0.000000\n",
       "50%      46.000000     2.000000    355.135000     0.000000\n",
       "75%      94.000000     3.000000    761.657500     1.000000\n",
       "max     177.000000    67.000000  89361.990000     4.000000"
      ]
     },
     "execution_count": 52,
     "metadata": {},
     "output_type": "execute_result"
    }
   ],
   "source": [
    "rfm.describe()"
   ]
  },
  {
   "cell_type": "code",
   "execution_count": 59,
   "metadata": {},
   "outputs": [
    {
     "data": {
      "image/png": "[encoded data removed]",
      "text/plain": [
       "<Figure size 1000x600 with 1 Axes>"
      ]
     },
     "metadata": {},
     "output_type": "display_data"
    }
   ],
   "source": [
    "df = rfm \n",
    "\n",
    "# Ánh xạ màu sắc cho từng label (tối đa 5 cụm)\n",
    "colors = ['red', 'blue', 'green', 'orange', 'purple']\n",
    "unique_labels = df['label'].unique()\n",
    "\n",
    "# Chuyển đường kính (Frequency) thành diện tích cho marker\n",
    "# Area ≈ π * (d/2)^2 → scale lên để dễ nhìn\n",
    "size_scale = 5  # tùy chỉnh để dễ quan sát\n",
    "sizes = (df['Frequency'])**2 * size_scale\n",
    "\n",
    "# Vẽ scatter plot\n",
    "fig, ax = plt.subplots(figsize=(10, 6))\n",
    "\n",
    "for label in unique_labels:\n",
    "    cluster = df[df['label'] == label]\n",
    "    ax.scatter(\n",
    "        cluster['Recency'],\n",
    "        np.log(cluster['Monetary']),\n",
    "        s=(cluster['Frequency']) * size_scale,\n",
    "        color=colors[label % len(colors)],\n",
    "        alpha=0.6,\n",
    "        edgecolors='k',\n",
    "        label=f'Cluster {label}'\n",
    "    )\n",
    "\n",
    "# Gán nhãn trục và tiêu đề\n",
    "ax.set_xlabel('Recency (days)')\n",
    "ax.set_ylabel('Monetary (total spending)')\n",
    "ax.set_title('RFM Clustering Visualization (Recency vs Monetary)')\n",
    "ax.legend(title='Cluster')\n",
    "\n",
    "plt.grid(True)\n",
    "plt.tight_layout()\n",
    "plt.show()\n"
   ]
  },
  {
   "cell_type": "code",
   "execution_count": 62,
   "metadata": {},
   "outputs": [
    {
     "data": {
      "image/png": "[encoded data removed]",
      "text/plain": [
       "<Figure size 1000x800 with 1 Axes>"
      ]
     },
     "metadata": {},
     "output_type": "display_data"
    }
   ],
   "source": [
    "from mpl_toolkits.mplot3d import Axes3D\n",
    "\n",
    "# Khởi tạo plot\n",
    "fig = plt.figure(figsize=(10, 8))\n",
    "ax = fig.add_subplot(111, projection='3d')\n",
    "\n",
    "# Màu cho từng cụm\n",
    "colors = ['red', 'blue', 'green', 'orange', 'purple']\n",
    "unique_labels = df['label'].unique()\n",
    "\n",
    "# Vẽ từng cụm\n",
    "for label in unique_labels:\n",
    "    cluster = df[df['label'] == label]\n",
    "    ax.scatter(\n",
    "        cluster['Recency'],\n",
    "        cluster['Frequency'],\n",
    "        cluster['Monetary'],\n",
    "        s= 20,  # scale cho marker to ra\n",
    "        color=colors[label % len(colors)],\n",
    "        alpha=0.7,\n",
    "        edgecolors='k',\n",
    "        label=f'Cluster {label}'\n",
    "    )\n",
    "\n",
    "# Gán nhãn trục\n",
    "ax.set_xlabel('Recency')\n",
    "ax.set_ylabel('Frequency')\n",
    "ax.set_zlabel('Monetary')\n",
    "ax.set_title('RFM Clustering - 3D Visualization')\n",
    "\n",
    "# Thêm chú thích\n",
    "ax.legend(title=\"Cluster\")\n",
    "plt.tight_layout()\n",
    "plt.show()\n"
   ]
  },
  {
   "cell_type": "code",
   "execution_count": 64,
   "metadata": {},
   "outputs": [
    {
     "data": {
      "image/png": "[encoded data removed]",
      "text/plain": [
       "<Figure size 1000x600 with 1 Axes>"
      ]
     },
     "metadata": {},
     "output_type": "display_data"
    }
   ],
   "source": [
    "\n",
    "# Danh sách màu cho từng cụm (tối đa 5 cụm)\n",
    "colors = ['red', 'blue', 'green', 'orange', 'purple']\n",
    "unique_labels = df['label'].unique()\n",
    "\n",
    "# Chọn hai trục\n",
    "x_col = 'Recency'\n",
    "y_col = 'Monetary'\n",
    "\n",
    "# Vẽ scatter plot\n",
    "plt.figure(figsize=(10, 6))\n",
    "\n",
    "for label in unique_labels:\n",
    "    cluster = df[df['label'] == label]\n",
    "    plt.scatter(\n",
    "        cluster[x_col],\n",
    "        cluster[y_col],\n",
    "        color=colors[label % len(colors)],\n",
    "        alpha=0.7,\n",
    "        edgecolors='k',\n",
    "        s=20,  # kích thước marker dựa theo Frequency\n",
    "        label=f'Cluster {label}'\n",
    "    )\n",
    "\n",
    "plt.xlabel(x_col)\n",
    "plt.ylabel(y_col)\n",
    "plt.title(f'RFM Clustering: {x_col} vs {y_col}')\n",
    "plt.legend(title='Cluster')\n",
    "plt.grid(True)\n",
    "plt.tight_layout()\n",
    "plt.show()\n"
   ]
  },
  {
   "cell_type": "code",
   "execution_count": 67,
   "metadata": {},
   "outputs": [
    {
     "data": {
      "application/vnd.microsoft.datawrangler.viewer.v0+json": {
       "columns": [
        {
         "name": "label",
         "rawType": "int32",
         "type": "integer"
        }
       ],
       "conversionMethod": "pd.DataFrame",
       "ref": "21f6fdf5-b525-4c3b-ba68-4149721a2f47",
       "rows": [
        [
         "0"
        ],
        [
         "1"
        ],
        [
         "2"
        ],
        [
         "3"
        ],
        [
         "4"
        ]
       ],
       "shape": {
        "columns": 0,
        "rows": 5
       }
      },
      "text/html": [
       "<div>\n",
       "<style scoped>\n",
       "    .dataframe tbody tr th:only-of-type {\n",
       "        vertical-align: middle;\n",
       "    }\n",
       "\n",
       "    .dataframe tbody tr th {\n",
       "        vertical-align: top;\n",
       "    }\n",
       "\n",
       "    .dataframe thead tr th {\n",
       "        text-align: left;\n",
       "    }\n",
       "\n",
       "    .dataframe thead tr:last-of-type th {\n",
       "        text-align: right;\n",
       "    }\n",
       "</style>\n",
       "<table border=\"1\" class=\"dataframe\">\n",
       "  <thead>\n",
       "    <tr>\n",
       "      <th>label</th>\n",
       "    </tr>\n",
       "  </thead>\n",
       "  <tbody>\n",
       "    <tr>\n",
       "      <th>0</th>\n",
       "    </tr>\n",
       "    <tr>\n",
       "      <th>1</th>\n",
       "    </tr>\n",
       "    <tr>\n",
       "      <th>2</th>\n",
       "    </tr>\n",
       "    <tr>\n",
       "      <th>3</th>\n",
       "    </tr>\n",
       "    <tr>\n",
       "      <th>4</th>\n",
       "    </tr>\n",
       "  </tbody>\n",
       "</table>\n",
       "</div>"
      ],
      "text/plain": [
       "Empty DataFrame\n",
       "Columns: []\n",
       "Index: [0, 1, 2, 3, 4]"
      ]
     },
     "execution_count": 67,
     "metadata": {},
     "output_type": "execute_result"
    }
   ],
   "source": [
    "pd.pivot_table(data=rfm,\n",
    "               index='label',\n",
    "               columns=['Recency', 'Frequency', 'Monetary'],\n",
    "               values=['Recency', 'Frequency', 'Monetary'])"
   ]
  },
  {
   "cell_type": "code",
   "execution_count": 68,
   "metadata": {},
   "outputs": [
    {
     "data": {
      "application/vnd.microsoft.datawrangler.viewer.v0+json": {
       "columns": [
        {
         "name": "CustomerID",
         "rawType": "float64",
         "type": "float"
        },
        {
         "name": "Recency",
         "rawType": "int64",
         "type": "integer"
        },
        {
         "name": "Frequency",
         "rawType": "int64",
         "type": "integer"
        },
        {
         "name": "Monetary",
         "rawType": "float64",
         "type": "float"
        },
        {
         "name": "label",
         "rawType": "int32",
         "type": "integer"
        }
       ],
       "conversionMethod": "pd.DataFrame",
       "ref": "3d2e6fb1-df8d-4d07-a4b7-fc4c18bb5017",
       "rows": [
        [
         "12346.0",
         "163",
         "1",
         "77183.6",
         "2"
        ],
        [
         "12347.0",
         "21",
         "3",
         "1049.46",
         "0"
        ],
        [
         "12348.0",
         "86",
         "2",
         "469.15999999999997",
         "1"
        ],
        [
         "12350.0",
         "148",
         "1",
         "174.2",
         "1"
        ],
        [
         "12352.0",
         "100",
         "5",
         "1455.8600000000001",
         "1"
        ]
       ],
       "shape": {
        "columns": 4,
        "rows": 5
       }
      },
      "text/html": [
       "<div>\n",
       "<style scoped>\n",
       "    .dataframe tbody tr th:only-of-type {\n",
       "        vertical-align: middle;\n",
       "    }\n",
       "\n",
       "    .dataframe tbody tr th {\n",
       "        vertical-align: top;\n",
       "    }\n",
       "\n",
       "    .dataframe thead th {\n",
       "        text-align: right;\n",
       "    }\n",
       "</style>\n",
       "<table border=\"1\" class=\"dataframe\">\n",
       "  <thead>\n",
       "    <tr style=\"text-align: right;\">\n",
       "      <th></th>\n",
       "      <th>Recency</th>\n",
       "      <th>Frequency</th>\n",
       "      <th>Monetary</th>\n",
       "      <th>label</th>\n",
       "    </tr>\n",
       "    <tr>\n",
       "      <th>CustomerID</th>\n",
       "      <th></th>\n",
       "      <th></th>\n",
       "      <th></th>\n",
       "      <th></th>\n",
       "    </tr>\n",
       "  </thead>\n",
       "  <tbody>\n",
       "    <tr>\n",
       "      <th>12346.0</th>\n",
       "      <td>163</td>\n",
       "      <td>1</td>\n",
       "      <td>77183.60</td>\n",
       "      <td>2</td>\n",
       "    </tr>\n",
       "    <tr>\n",
       "      <th>12347.0</th>\n",
       "      <td>21</td>\n",
       "      <td>3</td>\n",
       "      <td>1049.46</td>\n",
       "      <td>0</td>\n",
       "    </tr>\n",
       "    <tr>\n",
       "      <th>12348.0</th>\n",
       "      <td>86</td>\n",
       "      <td>2</td>\n",
       "      <td>469.16</td>\n",
       "      <td>1</td>\n",
       "    </tr>\n",
       "    <tr>\n",
       "      <th>12350.0</th>\n",
       "      <td>148</td>\n",
       "      <td>1</td>\n",
       "      <td>174.20</td>\n",
       "      <td>1</td>\n",
       "    </tr>\n",
       "    <tr>\n",
       "      <th>12352.0</th>\n",
       "      <td>100</td>\n",
       "      <td>5</td>\n",
       "      <td>1455.86</td>\n",
       "      <td>1</td>\n",
       "    </tr>\n",
       "  </tbody>\n",
       "</table>\n",
       "</div>"
      ],
      "text/plain": [
       "            Recency  Frequency  Monetary  label\n",
       "CustomerID                                     \n",
       "12346.0         163          1  77183.60      2\n",
       "12347.0          21          3   1049.46      0\n",
       "12348.0          86          2    469.16      1\n",
       "12350.0         148          1    174.20      1\n",
       "12352.0         100          5   1455.86      1"
      ]
     },
     "execution_count": 68,
     "metadata": {},
     "output_type": "execute_result"
    }
   ],
   "source": [
    "rfm.head()"
   ]
  },
  {
   "cell_type": "code",
   "execution_count": 69,
   "metadata": {},
   "outputs": [],
   "source": [
    "rfm_grouped = df.groupby('label')[['Recency', 'Frequency', 'Monetary']].mean()"
   ]
  },
  {
   "cell_type": "code",
   "execution_count": 70,
   "metadata": {},
   "outputs": [
    {
     "data": {
      "application/vnd.microsoft.datawrangler.viewer.v0+json": {
       "columns": [
        {
         "name": "label",
         "rawType": "int32",
         "type": "integer"
        },
        {
         "name": "Recency",
         "rawType": "float64",
         "type": "float"
        },
        {
         "name": "Frequency",
         "rawType": "float64",
         "type": "float"
        },
        {
         "name": "Monetary",
         "rawType": "float64",
         "type": "float"
        }
       ],
       "conversionMethod": "pd.DataFrame",
       "ref": "f5d52683-3469-439e-87d7-526cfc443fd3",
       "rows": [
        [
         "0",
         "31.65",
         "2.25",
         "572.989684868421"
        ],
        [
         "1",
         "116.4501573976915",
         "1.291710388247639",
         "326.60515215110183"
        ],
        [
         "2",
         "38.0",
         "12.375",
         "55663.64625"
        ],
        [
         "3",
         "2.0",
         "38.46666666666667",
         "16036.549333333332"
        ],
        [
         "4",
         "14.824561403508772",
         "9.100877192982455",
         "3031.762456140351"
        ]
       ],
       "shape": {
        "columns": 3,
        "rows": 5
       }
      },
      "text/html": [
       "<div>\n",
       "<style scoped>\n",
       "    .dataframe tbody tr th:only-of-type {\n",
       "        vertical-align: middle;\n",
       "    }\n",
       "\n",
       "    .dataframe tbody tr th {\n",
       "        vertical-align: top;\n",
       "    }\n",
       "\n",
       "    .dataframe thead th {\n",
       "        text-align: right;\n",
       "    }\n",
       "</style>\n",
       "<table border=\"1\" class=\"dataframe\">\n",
       "  <thead>\n",
       "    <tr style=\"text-align: right;\">\n",
       "      <th></th>\n",
       "      <th>Recency</th>\n",
       "      <th>Frequency</th>\n",
       "      <th>Monetary</th>\n",
       "    </tr>\n",
       "    <tr>\n",
       "      <th>label</th>\n",
       "      <th></th>\n",
       "      <th></th>\n",
       "      <th></th>\n",
       "    </tr>\n",
       "  </thead>\n",
       "  <tbody>\n",
       "    <tr>\n",
       "      <th>0</th>\n",
       "      <td>31.650000</td>\n",
       "      <td>2.250000</td>\n",
       "      <td>572.989685</td>\n",
       "    </tr>\n",
       "    <tr>\n",
       "      <th>1</th>\n",
       "      <td>116.450157</td>\n",
       "      <td>1.291710</td>\n",
       "      <td>326.605152</td>\n",
       "    </tr>\n",
       "    <tr>\n",
       "      <th>2</th>\n",
       "      <td>38.000000</td>\n",
       "      <td>12.375000</td>\n",
       "      <td>55663.646250</td>\n",
       "    </tr>\n",
       "    <tr>\n",
       "      <th>3</th>\n",
       "      <td>2.000000</td>\n",
       "      <td>38.466667</td>\n",
       "      <td>16036.549333</td>\n",
       "    </tr>\n",
       "    <tr>\n",
       "      <th>4</th>\n",
       "      <td>14.824561</td>\n",
       "      <td>9.100877</td>\n",
       "      <td>3031.762456</td>\n",
       "    </tr>\n",
       "  </tbody>\n",
       "</table>\n",
       "</div>"
      ],
      "text/plain": [
       "          Recency  Frequency      Monetary\n",
       "label                                     \n",
       "0       31.650000   2.250000    572.989685\n",
       "1      116.450157   1.291710    326.605152\n",
       "2       38.000000  12.375000  55663.646250\n",
       "3        2.000000  38.466667  16036.549333\n",
       "4       14.824561   9.100877   3031.762456"
      ]
     },
     "execution_count": 70,
     "metadata": {},
     "output_type": "execute_result"
    }
   ],
   "source": [
    "rfm_grouped"
   ]
  },
  {
   "cell_type": "code",
   "execution_count": 74,
   "metadata": {},
   "outputs": [
    {
     "data": {
      "image/png": "[encoded data removed]",
      "text/plain": [
       "<Figure size 800x500 with 2 Axes>"
      ]
     },
     "metadata": {},
     "output_type": "display_data"
    }
   ],
   "source": [
    "import seaborn as sns\n",
    "\n",
    "# Giả sử rfm_grouped là DataFrame bạn vừa tính:\n",
    "# rfm_grouped = df.groupby('label')[['Recency', 'Frequency', 'Monetary']].mean().round(2)\n",
    "\n",
    "plt.figure(figsize=(8, 5))\n",
    "sns.heatmap(rfm_grouped, annot=True, fmt=\".10f\", cmap=\"YlGnBu\", linewidths=1)\n",
    "\n",
    "plt.title(\"RFM Cluster Averages Heatmap\")\n",
    "plt.xlabel(\"RFM Metrics\")\n",
    "plt.ylabel(\"Cluster Label\")\n",
    "\n",
    "plt.tight_layout()\n",
    "plt.show()\n"
   ]
  },
  {
   "cell_type": "code",
   "execution_count": 77,
   "metadata": {},
   "outputs": [
    {
     "name": "stdout",
     "output_type": "stream",
     "text": [
      "          Recency  Frequency      Monetary\n",
      "label                                     \n",
      "1      116.450157   1.291710    326.605152\n",
      "0       31.650000   2.250000    572.989685\n",
      "4       14.824561   9.100877   3031.762456\n",
      "3        2.000000  38.466667  16036.549333\n",
      "2       38.000000  12.375000  55663.646250\n"
     ]
    }
   ],
   "source": [
    "print(rfm_grouped.sort_values(by='Monetary'))"
   ]
  },
  {
   "cell_type": "code",
   "execution_count": null,
   "metadata": {},
   "outputs": [],
   "source": []
  }
 ],
 "metadata": {
  "kernelspec": {
   "display_name": "base",
   "language": "python",
   "name": "python3"
  },
  "language_info": {
   "codemirror_mode": {
    "name": "ipython",
    "version": 3
   },
   "file_extension": ".py",
   "mimetype": "text/x-python",
   "name": "python",
   "nbconvert_exporter": "python",
   "pygments_lexer": "ipython3",
   "version": "3.11.7"
  }
 },
 "nbformat": 4,
 "nbformat_minor": 2
}
